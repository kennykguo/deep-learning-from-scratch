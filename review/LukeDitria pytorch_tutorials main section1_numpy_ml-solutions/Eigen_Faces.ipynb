{
 "cells": [
  {
   "cell_type": "markdown",
   "metadata": {},
   "source": [
    "# Eigenfaces\n",
    "This notebook goes over a quick example of how we can decompose a dataset of images into a set of simple components. <br>\n",
    "[Eigenface](https://en.wikipedia.org/wiki/Eigenface)"
   ]
  },
  {
   "cell_type": "code",
   "execution_count": null,
   "metadata": {},
   "outputs": [],
   "source": [
    "import numpy as np\n",
    "import matplotlib.pyplot as plt\n",
    "import os"
   ]
  },
  {
   "cell_type": "code",
   "execution_count": null,
   "metadata": {},
   "outputs": [],
   "source": [
    "# Define image size\n",
    "image_size = 48\n",
    "\n",
    "# Load image matrix\n",
    "img_matrix = np.load(\"../data/faces.npy\")\n",
    "print(img_matrix.shape)"
   ]
  },
  {
   "cell_type": "code",
   "execution_count": null,
   "metadata": {},
   "outputs": [],
   "source": [
    "print(\"There are %d greyscale images\" % img_matrix.shape[0])"
   ]
  },
  {
   "cell_type": "code",
   "execution_count": null,
   "metadata": {},
   "outputs": [],
   "source": [
    "# Plot out an example image\n",
    "_ = plt.imshow(img_matrix[20].reshape(image_size, image_size), cmap='gray')"
   ]
  },
  {
   "cell_type": "code",
   "execution_count": null,
   "metadata": {},
   "outputs": [],
   "source": [
    "# Use SVD to decompose the Image matrix\n",
    "# This will take a bit of time\n",
    "U, S, Vh = np.linalg.svd(img_matrix, full_matrices=False)"
   ]
  },
  {
   "cell_type": "code",
   "execution_count": null,
   "metadata": {},
   "outputs": [],
   "source": [
    "print(Vh.shape)"
   ]
  },
  {
   "cell_type": "code",
   "execution_count": null,
   "metadata": {},
   "outputs": [],
   "source": [
    "print(\"There are a total of %d components\" % Vh.shape[0])"
   ]
  },
  {
   "cell_type": "markdown",
   "metadata": {},
   "source": [
    "## Visualize the Eigenfaces\n",
    "Lets have a look at some of the components that we can decompose our faces into"
   ]
  },
  {
   "cell_type": "code",
   "execution_count": null,
   "metadata": {},
   "outputs": [],
   "source": [
    "# Select a few of the components\n",
    "imgs_indx = [0, 10, 50, 100, 200, 500, 1000, 2000]\n",
    "\n",
    "# The components of the dataset is contained in the Vh matrix\n",
    "# Reshape image stack to be one long row\n",
    "img_to_view = Vh[imgs_indx].reshape(-1, image_size, image_size).transpose(1, 0, 2).reshape(image_size, -1)\n",
    "\n",
    "# Plot images\n",
    "_ = plt.figure(figsize=(20, 10))\n",
    "_ = plt.imshow(img_to_view, cmap='gray')"
   ]
  },
  {
   "cell_type": "markdown",
   "metadata": {},
   "source": [
    "## Reconstruct a face\n",
    "Every face in the dataset can be constructed by adding a certain proportion of these components together"
   ]
  },
  {
   "cell_type": "code",
   "execution_count": null,
   "metadata": {},
   "outputs": [],
   "source": [
    "# Set the number of componets to use\n",
    "# max number is image_size * image_size\n",
    "components = min(10, image_size ** 2)\n",
    "\n",
    "# Select an image to use\n",
    "img_index = 1205\n",
    "\n",
    "# Reconstruct the image using a set of components\n",
    "# The proportion of each component that must be added together is contain in the U matrix\n",
    "img_eg = np.expand_dims(U[img_index, :components], 0) @ np.diag(S)[:components, :] @ Vh"
   ]
  },
  {
   "cell_type": "code",
   "execution_count": null,
   "metadata": {},
   "outputs": [],
   "source": [
    "fig, axs = plt.subplots(1, 2)\n",
    "_ = fig.set_size_inches(10, 20)\n",
    "\n",
    "_ = axs[0].imshow(img_matrix[img_index].reshape(image_size, image_size), cmap='gray')\n",
    "_ = axs[0].set_title(\"Origional Image\")\n",
    "\n",
    "_ = axs[1].imshow(img_eg.reshape(image_size, image_size), cmap='gray')\n",
    "_ = axs[1].set_title(\"Reconstructed Image\")\n"
   ]
  },
  {
   "cell_type": "code",
   "execution_count": null,
   "metadata": {},
   "outputs": [],
   "source": [
    "# Reconstruct image multiple times with different number of components \n",
    "img_all = np.tril(U[img_index]) @ np.diag(S) @ Vh"
   ]
  },
  {
   "cell_type": "code",
   "execution_count": null,
   "metadata": {},
   "outputs": [],
   "source": [
    "# Select a few examples to view\n",
    "# Each value is the number of components used in the recostruction\n",
    "imgs_indx = [10, 50, 100, 500, 1000, 2000]\n",
    "\n",
    "# Reshape image stack to be one long row\n",
    "img_to_view = img_all[imgs_indx].reshape(-1, image_size, image_size).transpose(1, 0, 2).reshape(image_size, -1)\n",
    "\n",
    "# Plot images\n",
    "_ = plt.figure(figsize=(20, 10))\n",
    "_ = plt.imshow(img_to_view, cmap='gray')"
   ]
  },
  {
   "cell_type": "markdown",
   "metadata": {},
   "source": [
    "## Generate Faces\n",
    "What happens when we randomly sample the vector that defines the scale of the components of the face?"
   ]
  },
  {
   "cell_type": "code",
   "execution_count": null,
   "metadata": {},
   "outputs": [],
   "source": [
    "# Randomly sample a vector of values from a standard normal distribution \n",
    "random_sample = np.random.randn(1, image_size * image_size)\n",
    "\n",
    "# Re-scale the values based on the values from the real faces\n",
    "random_sample = (random_sample * U.std(0, keepdims=True)) + U.mean(0, keepdims=True)\n",
    "\n",
    "# Construct a face with these values\n",
    "img_eg = random_sample @ np.diag(S) @ Vh"
   ]
  },
  {
   "cell_type": "code",
   "execution_count": null,
   "metadata": {},
   "outputs": [],
   "source": [
    "_ = plt.imshow(img_eg.reshape(image_size, image_size), cmap='gray')"
   ]
  }
 ],
 "metadata": {
  "kernelspec": {
   "display_name": "Python 3",
   "language": "python",
   "name": "python3"
  },
  "language_info": {
   "codemirror_mode": {
    "name": "ipython",
    "version": 3
   },
   "file_extension": ".py",
   "mimetype": "text/x-python",
   "name": "python",
   "nbconvert_exporter": "python",
   "pygments_lexer": "ipython3",
   "version": "3.6.9"
  }
 },
 "nbformat": 4,
 "nbformat_minor": 4
}

{
 "cells": [
  {
   "cell_type": "markdown",
   "id": "c131e741",
   "metadata": {},
   "source": [
    "# Image Captioning with Transformers\n",
    "### Encoder-Decoder Architecture\n",
    "\n",
    "<img src=\"../data/llm_architecture_comparison.png\" width=\"600\" align=\"center\">\n",
    "<br>"
   ]
  },
  {
   "cell_type": "code",
   "execution_count": null,
   "id": "2e84e255",
   "metadata": {},
   "outputs": [],
   "source": [
    "import pandas as pd\n",
    "import numpy as np\n",
    "import matplotlib.pyplot as plt\n",
    "import os\n",
    "import math\n",
    "from tqdm.notebook import trange, tqdm\n",
    "import random\n",
    "\n",
    "import torch\n",
    "import torch.nn as nn\n",
    "from torch import optim\n",
    "from torch.utils.data import DataLoader\n",
    "import torch.nn.functional as F\n",
    "from torch.distributions import Categorical\n",
    "\n",
    "import torchvision.datasets as datasets\n",
    "import torchvision.transforms as transforms\n",
    "import torchvision\n",
    "\n",
    "# Make sure you are using the lastest version!\n",
    "from transformers import AutoTokenizer\n",
    "os.environ[\"TOKENIZERS_PARALLELISM\"] = \"false\"\n",
    "\n",
    "torch.backends.cuda.matmul.allow_tf32 = True"
   ]
  },
  {
   "cell_type": "code",
   "execution_count": null,
   "id": "44d70b17",
   "metadata": {},
   "outputs": [],
   "source": [
    "# Define the learning rate for the optimizer\n",
    "learning_rate = 1e-4\n",
    "\n",
    "# Image size\n",
    "image_size = 128\n",
    "\n",
    "# Define the number of epochs for training\n",
    "nepochs = 1000\n",
    "\n",
    "# Define the batch size for mini-batch gradient descent\n",
    "batch_size = 128\n",
    "\n",
    "# Define the root directory of the dataset\n",
    "data_set_root='/media/luke/Quick_Storage/Data/coco_captions'\n",
    "train_set ='train2014'\n",
    "validation_set ='val2014'\n",
    "\n",
    "train_image_path = os.path.join(data_set_root, train_set)\n",
    "train_ann_file = '{}/annotations/captions_{}.json'.format(data_set_root, train_set)\n",
    "\n",
    "val_image_path = os.path.join(data_set_root, validation_set)\n",
    "val_ann_file = '{}/annotations/captions_{}.json'.format(data_set_root, validation_set)"
   ]
  },
  {
   "cell_type": "markdown",
   "id": "c383fcb4",
   "metadata": {},
   "source": [
    "## Data processing and Tokenization"
   ]
  },
  {
   "cell_type": "code",
   "execution_count": null,
   "id": "6120e1c8",
   "metadata": {},
   "outputs": [],
   "source": [
    "class SampleCaption(nn.Module):\n",
    "    def __call__(self, sample):\n",
    "        rand_index = random.randint(0, len(sample) - 1)\n",
    "        return sample[rand_index]"
   ]
  },
  {
   "cell_type": "code",
   "execution_count": null,
   "id": "d3bd6c6e",
   "metadata": {},
   "outputs": [],
   "source": [
    "train_transform = transforms.Compose([transforms.Resize(image_size),\n",
    "                                      transforms.RandomCrop(image_size),\n",
    "                                      transforms.AutoAugment(),\n",
    "                                      transforms.ToTensor(),\n",
    "                                      transforms.Normalize(mean=[0.485, 0.456, 0.406],\n",
    "                                                           std=[0.229, 0.224, 0.225])]) \n",
    "\n",
    "transform = transforms.Compose([transforms.Resize(image_size),\n",
    "                                transforms.CenterCrop(image_size),\n",
    "                                transforms.ToTensor(),\n",
    "                                transforms.Normalize(mean=[0.485, 0.456, 0.406],\n",
    "                                                     std=[0.229, 0.224, 0.225])]) \n",
    "\n",
    "train_dataset = datasets.CocoCaptions(root=train_image_path,\n",
    "                                      annFile=train_ann_file,\n",
    "                                      transform=train_transform,\n",
    "                                      target_transform=SampleCaption())\n",
    "\n",
    "val_dataset = datasets.CocoCaptions(root=val_image_path,\n",
    "                                    annFile=val_ann_file,\n",
    "                                    transform=transform,\n",
    "                                    target_transform=SampleCaption())\n",
    "\n",
    "data_loader_train = DataLoader(train_dataset, batch_size=batch_size, shuffle=True, num_workers=8)\n",
    "data_loader_val = DataLoader(val_dataset, batch_size=batch_size, shuffle=False, num_workers=8)"
   ]
  },
  {
   "cell_type": "code",
   "execution_count": null,
   "id": "a2997bd7",
   "metadata": {},
   "outputs": [],
   "source": [
    "# Create a dataloader itterable object\n",
    "dataiter = next(iter(data_loader_val))\n",
    "# Sample from the itterable object\n",
    "test_images, test_captions = dataiter"
   ]
  },
  {
   "cell_type": "code",
   "execution_count": null,
   "id": "9ab30e70",
   "metadata": {},
   "outputs": [],
   "source": [
    "index = 0\n",
    "# Lets visualise an entire batch of images!\n",
    "plt.figure(figsize = (3,3))\n",
    "out = torchvision.utils.make_grid(test_images[index].unsqueeze(0), 1, normalize=True)\n",
    "_ = plt.imshow(out.numpy().transpose((1, 2, 0)))\n",
    "\n",
    "caption = test_captions[index]\n",
    "print(caption)"
   ]
  },
  {
   "cell_type": "code",
   "execution_count": null,
   "id": "525d87ff",
   "metadata": {},
   "outputs": [],
   "source": [
    "tokenizer = AutoTokenizer.from_pretrained(\"distilbert-base-uncased\")"
   ]
  },
  {
   "cell_type": "code",
   "execution_count": null,
   "id": "ba6a27c5",
   "metadata": {},
   "outputs": [],
   "source": [
    "tokenizer.vocab_size"
   ]
  },
  {
   "cell_type": "code",
   "execution_count": null,
   "id": "a4d0a70c",
   "metadata": {},
   "outputs": [],
   "source": [
    "tokens = tokenizer(test_captions, padding=True, truncation=True, return_tensors=\"pt\")"
   ]
  },
  {
   "cell_type": "code",
   "execution_count": null,
   "id": "86f58541",
   "metadata": {},
   "outputs": [],
   "source": [
    "token_ids = tokens['input_ids'][index]\n",
    "tokens['input_ids']"
   ]
  },
  {
   "cell_type": "code",
   "execution_count": null,
   "id": "bc26d09d",
   "metadata": {},
   "outputs": [],
   "source": [
    "print(tokenizer.decode(token_ids))"
   ]
  },
  {
   "cell_type": "markdown",
   "id": "c2662720",
   "metadata": {},
   "source": [
    "## Create Encoder-Decoder Network"
   ]
  },
  {
   "cell_type": "code",
   "execution_count": null,
   "id": "350ac2de",
   "metadata": {},
   "outputs": [],
   "source": [
    "def extract_patches(image_tensor, patch_size=16):\n",
    "    # Get the dimensions of the image tensor\n",
    "    bs, c, h, w = image_tensor.size()\n",
    "    \n",
    "    # Define the Unfold layer with appropriate parameters\n",
    "    unfold = torch.nn.Unfold(kernel_size=patch_size, stride=patch_size)\n",
    "    \n",
    "    # Apply Unfold to the image tensor\n",
    "    unfolded = unfold(image_tensor)\n",
    "    \n",
    "    # Reshape the unfolded tensor to match the desired output shape\n",
    "    # Output shape: BSxLxH, where L is the number of patches in each dimension\n",
    "    unfolded = unfolded.transpose(1, 2).reshape(bs, -1, c * patch_size * patch_size)\n",
    "    \n",
    "    return unfolded\n",
    "\n",
    "# sinusoidal positional embeds\n",
    "class SinusoidalPosEmb(nn.Module):\n",
    "    def __init__(self, dim):\n",
    "        super().__init__()\n",
    "        self.dim = dim\n",
    "\n",
    "    def forward(self, x):\n",
    "        device = x.device\n",
    "        half_dim = self.dim // 2\n",
    "        emb = math.log(10000) / (half_dim - 1)\n",
    "        emb = torch.exp(torch.arange(half_dim, device=device) * -emb)\n",
    "        emb = x[:, None] * emb[None, :]\n",
    "        emb = torch.cat((emb.sin(), emb.cos()), dim=-1)\n",
    "        return emb\n",
    "    \n",
    "    \n",
    "# Define a decoder module for the Transformer architecture\n",
    "class Decoder(nn.Module):\n",
    "    def __init__(self, num_emb, hidden_size=128, num_layers=3, num_heads=4):\n",
    "        super(Decoder, self).__init__()\n",
    "        \n",
    "        # Create an embedding layer for tokens\n",
    "        self.embedding = nn.Embedding(num_emb, hidden_size)\n",
    "        # Initialize the embedding weights\n",
    "        self.embedding.weight.data = 0.001 * self.embedding.weight.data\n",
    "\n",
    "        # Initialize sinusoidal positional embeddings\n",
    "        self.pos_emb = SinusoidalPosEmb(hidden_size)\n",
    "        \n",
    "        # Create multiple decoder layers\n",
    "        decoder_layer = nn.TransformerDecoderLayer(d_model=hidden_size, nhead=num_heads, \n",
    "                                                   dim_feedforward=hidden_size * 2, dropout=0.1,\n",
    "                                                   batch_first=True)\n",
    "        # TransformerDecoder will clone the decoder_layer \"num_layers\" times\n",
    "        self.decoder_layers = nn.TransformerDecoder(decoder_layer, num_layers=num_layers)\n",
    "                \n",
    "        # Define a linear layer for output prediction\n",
    "        self.fc_out = nn.Linear(hidden_size, num_emb)\n",
    "        \n",
    "    def forward(self, input_seq, encoder_output, input_padding_mask=None, encoder_padding_mask=None):        \n",
    "        # Embed the input sequence\n",
    "        input_embs = self.embedding(input_seq)\n",
    "        bs, l, h = input_embs.shape\n",
    "\n",
    "        # Add positional embeddings to the input embeddings\n",
    "        seq_indx = torch.arange(l, device=input_seq.device)\n",
    "        pos_emb = self.pos_emb(seq_indx).reshape(1, l, h).expand(bs, l, h)\n",
    "        embs = input_embs + pos_emb\n",
    "        causal_mask = torch.triu(torch.ones(l, l, device=input_seq.device), 1).bool()\n",
    "        \n",
    "        # Pass the embeddings through each transformer block\n",
    "        output = self.decoder_layers(tgt=embs, memory=encoder_output, tgt_mask=causal_mask,\n",
    "                                     tgt_key_padding_mask=input_padding_mask, \n",
    "                                     memory_key_padding_mask=encoder_padding_mask)\n",
    "        \n",
    "        return self.fc_out(output)\n",
    "\n",
    "    \n",
    "# Define an Vision Encoder module for the Transformer architecture\n",
    "class VisionEncoder(nn.Module):\n",
    "    def __init__(self, image_size, channels_in, patch_size=16, hidden_size=128, num_layers=3, num_heads=4):\n",
    "        super(VisionEncoder, self).__init__()\n",
    "        \n",
    "        self.patch_size = patch_size\n",
    "        self.fc_in = nn.Linear(channels_in * patch_size * patch_size, hidden_size)\n",
    "        \n",
    "        seq_length = (image_size // patch_size) ** 2\n",
    "        self.pos_embedding = nn.Parameter(torch.empty(1, seq_length, hidden_size).normal_(std=0.02))\n",
    "        \n",
    "        # Create multiple transformer blocks as layers\n",
    "        encoder_layer = nn.TransformerEncoderLayer(d_model=hidden_size, nhead=num_heads, \n",
    "                                                   dim_feedforward=hidden_size * 2, dropout=0.1, \n",
    "                                                   batch_first=True)\n",
    "        # TransformerEncoder will clone the encoder_layer \"num_layers\" times\n",
    "        self.encoder_layers = nn.TransformerEncoder(encoder_layer, num_layers) \n",
    "                \n",
    "    def forward(self, image):  \n",
    "        bs = image.shape[0]\n",
    "\n",
    "        patch_seq = extract_patches(image, patch_size=self.patch_size)\n",
    "        patch_emb = self.fc_in(patch_seq)\n",
    "\n",
    "        # Add a unique embedding to each token embedding\n",
    "        embs = patch_emb + self.pos_embedding\n",
    "        \n",
    "        # Pass the embeddings through each transformer block\n",
    "        output = self.encoder_layers(embs)\n",
    "        \n",
    "        return output\n",
    "    \n",
    "    \n",
    "# Define an Vision Encoder-Decoder module for the Transformer architecture\n",
    "class VisionEncoderDecoder(nn.Module):\n",
    "    def __init__(self, image_size, channels_in, num_emb, patch_size=16, \n",
    "                 hidden_size=128, num_layers=(3, 3), num_heads=4):\n",
    "        super(VisionEncoderDecoder, self).__init__()\n",
    "        \n",
    "        # Create an encoder and decoder with specified parameters\n",
    "        self.encoder = VisionEncoder(image_size=image_size, channels_in=channels_in, patch_size=patch_size,\n",
    "                               hidden_size=hidden_size, num_layers=num_layers[0], num_heads=num_heads)\n",
    "        \n",
    "        self.decoder = Decoder(num_emb=num_emb, hidden_size=hidden_size, \n",
    "                               num_layers=num_layers[1], num_heads=num_heads)\n",
    "\n",
    "    def forward(self, input_image, target_seq, padding_mask):\n",
    "        # Generate padding masks for the target sequence\n",
    "        bool_padding_mask = padding_mask == 0\n",
    "\n",
    "        # Encode the input sequence\n",
    "        encoded_seq = self.encoder(image=input_image)\n",
    "        \n",
    "        # Decode the target sequence using the encoded sequence\n",
    "        decoded_seq = self.decoder(input_seq=target_seq, \n",
    "                                   encoder_output=encoded_seq, \n",
    "                                   input_padding_mask=bool_padding_mask)\n",
    "        return decoded_seq"
   ]
  },
  {
   "cell_type": "markdown",
   "id": "00a21795",
   "metadata": {},
   "source": [
    "## Initialise Model and Optimizer"
   ]
  },
  {
   "cell_type": "code",
   "execution_count": null,
   "id": "6341169c",
   "metadata": {},
   "outputs": [],
   "source": [
    "# Check if GPU is available, set device accordingly\n",
    "device = torch.device(1 if torch.cuda.is_available() else 'cpu')\n",
    "\n",
    "# Embedding Size\n",
    "hidden_size = 768\n",
    "\n",
    "# Number of Transformer blocks for the (Encoder, Decoder)\n",
    "num_layers = (6, 6)\n",
    "\n",
    "# MultiheadAttention Heads\n",
    "num_heads = 16\n",
    "\n",
    "# Size of the patches\n",
    "patch_size = 16\n",
    "\n",
    "# Create model\n",
    "caption_model = VisionEncoderDecoder(image_size=image_size, channels_in=test_images.shape[1], \n",
    "                                     num_emb=tokenizer.vocab_size, patch_size=patch_size, \n",
    "                                     num_layers=num_layers,hidden_size=hidden_size, \n",
    "                                     num_heads=num_heads).to(device)\n",
    "\n",
    "# Initialize the optimizer with above parameters\n",
    "optimizer = optim.Adam(caption_model.parameters(), lr=learning_rate)\n",
    "\n",
    "scaler = torch.cuda.amp.GradScaler()\n",
    "\n",
    "# Define the loss function\n",
    "loss_fn = nn.CrossEntropyLoss(reduction=\"none\")\n",
    "\n",
    "# Initialize the training loss logger\n",
    "training_loss_logger = []"
   ]
  },
  {
   "cell_type": "code",
   "execution_count": null,
   "id": "2bdb0ec4",
   "metadata": {},
   "outputs": [],
   "source": [
    "# Let's see how many Parameters our Model has!\n",
    "num_model_params = 0\n",
    "for param in caption_model.parameters():\n",
    "    num_model_params += param.flatten().shape[0]\n",
    "\n",
    "print(\"-This Model Has %d (Approximately %d Million) Parameters!\" % (num_model_params, num_model_params//1e6))"
   ]
  },
  {
   "cell_type": "markdown",
   "id": "3c8eea79",
   "metadata": {},
   "source": [
    "## Training"
   ]
  },
  {
   "cell_type": "code",
   "execution_count": null,
   "id": "8dd56a78",
   "metadata": {},
   "outputs": [],
   "source": [
    "# Iterate over epochs\n",
    "for epoch in trange(0, nepochs, leave=False, desc=\"Epoch\"):\n",
    "    # Set the model in training mode\n",
    "    caption_model.train()\n",
    "    steps = 0\n",
    "    # Iterate over the training data loader\n",
    "    for images, captions in tqdm(data_loader_train, desc=\"Training\", leave=False):\n",
    "        \n",
    "        images = images.to(device)\n",
    "        \n",
    "        # Tokenize and pre-process the captions\n",
    "        tokens = tokenizer(captions, padding=True, truncation=True, return_tensors=\"pt\")\n",
    "        token_ids = tokens['input_ids'].to(device)\n",
    "        padding_mask = tokens['attention_mask'].to(device)\n",
    "        bs = token_ids.shape[0]\n",
    "        \n",
    "        # Shift the input sequence to create the target sequence\n",
    "        target_ids = torch.cat((token_ids[:, 1:], \n",
    "                                torch.zeros(bs, 1, device=device).long()), 1)\n",
    "        \n",
    "        with torch.cuda.amp.autocast():\n",
    "            # Forward pass\n",
    "            pred = caption_model(images, token_ids, padding_mask=padding_mask)\n",
    "\n",
    "        # Compute the loss\n",
    "        loss = (loss_fn(pred.transpose(1, 2), target_ids) * padding_mask).sum()/padding_mask.sum()\n",
    "\n",
    "        # Backpropagation\n",
    "        optimizer.zero_grad()\n",
    "        scaler.scale(loss).backward()\n",
    "        scaler.step(optimizer)\n",
    "        scaler.update()\n",
    "        \n",
    "        # Log the training loss\n",
    "        training_loss_logger.append(loss.item())"
   ]
  },
  {
   "cell_type": "code",
   "execution_count": null,
   "id": "85e047dd",
   "metadata": {},
   "outputs": [],
   "source": [
    "# scaler.step(optimizer)\n",
    "scaler.update()"
   ]
  },
  {
   "cell_type": "markdown",
   "id": "88cf7354",
   "metadata": {},
   "source": [
    "## Plot Loss"
   ]
  },
  {
   "cell_type": "code",
   "execution_count": null,
   "id": "d60d9956",
   "metadata": {},
   "outputs": [],
   "source": [
    "_ = plt.figure(figsize=(10, 5))\n",
    "_ = plt.plot(training_loss_logger[100:])\n",
    "_ = plt.title(\"Training Loss\")"
   ]
  },
  {
   "cell_type": "code",
   "execution_count": null,
   "id": "fdd144a5",
   "metadata": {},
   "outputs": [],
   "source": [
    "window_size = 512\n",
    "data = np.convolve(np.array(training_loss_logger), np.ones(window_size)/window_size, mode=\"valid\")\n",
    "_ = plt.figure(figsize=(10, 5))\n",
    "_ = plt.plot(data[2000:])\n",
    "_ = plt.title(\"Training Loss\")"
   ]
  },
  {
   "cell_type": "markdown",
   "id": "dc3f7b97",
   "metadata": {},
   "source": [
    "## Testing"
   ]
  },
  {
   "cell_type": "code",
   "execution_count": null,
   "id": "564fde22",
   "metadata": {},
   "outputs": [],
   "source": [
    "# Create a dataloader itterable object\n",
    "dataiter = next(iter(data_loader_val))\n",
    "# Sample from the itterable object\n",
    "test_images, test_captions = dataiter"
   ]
  },
  {
   "cell_type": "code",
   "execution_count": null,
   "id": "70a6a12e",
   "metadata": {},
   "outputs": [],
   "source": [
    "# Choose an index within the batch\n",
    "index = 8\n",
    "test_image = test_images[index].unsqueeze(0)"
   ]
  },
  {
   "cell_type": "code",
   "execution_count": null,
   "id": "16436c4d",
   "metadata": {},
   "outputs": [],
   "source": [
    "# Lets visualise an entire batch of images!\n",
    "plt.figure(figsize = (3,3))\n",
    "out = torchvision.utils.make_grid(test_image, 1, normalize=True)\n",
    "_ = plt.imshow(out.numpy().transpose((1, 2, 0)))\n",
    "print(test_captions[index])"
   ]
  },
  {
   "cell_type": "code",
   "execution_count": null,
   "id": "aecfeb3b",
   "metadata": {},
   "outputs": [],
   "source": [
    "# Add the Start-Of-Sentence token to the prompt to signal the network to start generating the caption\n",
    "sos_token = 101 * torch.ones(1, 1).long()\n",
    "\n",
    "# Set the temperature for sampling during generation\n",
    "temp = 0.8"
   ]
  },
  {
   "cell_type": "code",
   "execution_count": null,
   "id": "6148b641",
   "metadata": {},
   "outputs": [],
   "source": [
    "log_tokens = [sos_token]\n",
    "caption_model.eval()\n",
    "\n",
    "with torch.no_grad():\n",
    "    # Encode the input image\n",
    "    with torch.cuda.amp.autocast():\n",
    "        # Forward pass\n",
    "        image_embedding = caption_model.encoder(test_image.to(device))\n",
    "\n",
    "    # Generate the answer tokens\n",
    "    for i in range(50):\n",
    "        input_tokens = torch.cat(log_tokens, 1)\n",
    "        \n",
    "        # Decode the input tokens into the next predicted tokens\n",
    "        data_pred = caption_model.decoder(input_tokens.to(device), image_embedding)\n",
    "        \n",
    "        # Sample from the distribution of predicted probabilities\n",
    "        dist = Categorical(logits=data_pred[:, -1] / temp)\n",
    "        next_tokens = dist.sample().reshape(1, 1)\n",
    "        \n",
    "        # Append the next predicted token to the sequence\n",
    "        log_tokens.append(next_tokens.cpu())\n",
    "        \n",
    "        # Break the loop if the End-Of-Caption token is predicted\n",
    "        if next_tokens.item() == 102:\n",
    "            break"
   ]
  },
  {
   "cell_type": "code",
   "execution_count": null,
   "id": "024ddad8",
   "metadata": {},
   "outputs": [],
   "source": [
    "# Convert the list of token indices to a tensor\n",
    "pred_text = torch.cat(log_tokens, 1)\n",
    "\n",
    "# Convert the token indices to their corresponding strings using the vocabulary\n",
    "pred_text_strings = tokenizer.decode(pred_text[0], skip_special_tokens=True)\n",
    "\n",
    "# Join the token strings to form the predicted text\n",
    "pred_text = \"\".join(pred_text_strings)\n",
    "\n",
    "# Print the predicted text\n",
    "print(pred_text)"
   ]
  },
  {
   "cell_type": "code",
   "execution_count": null,
   "id": "b73fbb3a",
   "metadata": {},
   "outputs": [],
   "source": [
    "# Lets visualise an entire batch of images!\n",
    "plt.figure(figsize = (3,3))\n",
    "out = torchvision.utils.make_grid(test_image, 1, normalize=True)\n",
    "_ = plt.imshow(out.numpy().transpose((1, 2, 0)))"
   ]
  },
  {
   "cell_type": "code",
   "execution_count": null,
   "id": "16ea0df5",
   "metadata": {},
   "outputs": [],
   "source": []
  }
 ],
 "metadata": {
  "kernelspec": {
   "display_name": "Python 3 (ipykernel)",
   "language": "python",
   "name": "python3"
  },
  "language_info": {
   "codemirror_mode": {
    "name": "ipython",
    "version": 3
   },
   "file_extension": ".py",
   "mimetype": "text/x-python",
   "name": "python",
   "nbconvert_exporter": "python",
   "pygments_lexer": "ipython3",
   "version": "3.9.16"
  }
 },
 "nbformat": 4,
 "nbformat_minor": 5
}

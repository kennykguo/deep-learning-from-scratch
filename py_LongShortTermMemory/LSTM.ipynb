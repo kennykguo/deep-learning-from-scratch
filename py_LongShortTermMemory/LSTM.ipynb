{
 "cells": [
  {
   "cell_type": "code",
   "execution_count": 6,
   "id": "6aad3233-c749-475b-afd8-26b5b9b36327",
   "metadata": {},
   "outputs": [],
   "source": [
    "\"\"\"\n",
    "This is a batched LSTM forward and backward pass\n",
    "\"\"\"\n",
    "import numpy as np\n",
    "import code\n"
   ]
  },
  {
   "cell_type": "code",
   "execution_count": 4,
   "id": "3e79d22d-7b43-4343-a4d1-383d851d863c",
   "metadata": {},
   "outputs": [
    {
     "data": {
      "text/plain": [
       "[2, 3]"
      ]
     },
     "execution_count": 4,
     "metadata": {},
     "output_type": "execute_result"
    }
   ],
   "source": [
    "list = [1,2,3,4,5]\n",
    "list[1:3]"
   ]
  },
  {
   "cell_type": "code",
   "execution_count": 17,
   "id": "2e8474b1-00a0-49d5-ac7d-4c0633211e89",
   "metadata": {},
   "outputs": [],
   "source": [
    "A = np.zeros((3,4,5))"
   ]
  },
  {
   "cell_type": "code",
   "execution_count": 19,
   "id": "4b2dc33a-1316-4661-9b66-9a0550b93d69",
   "metadata": {},
   "outputs": [],
   "source": [
    "b = A[1,:,:5]"
   ]
  },
  {
   "cell_type": "code",
   "execution_count": 20,
   "id": "c3bf83d6-1f44-467e-a89a-618b8ed495ad",
   "metadata": {},
   "outputs": [
    {
     "data": {
      "text/plain": [
       "(4, 5)"
      ]
     },
     "execution_count": 20,
     "metadata": {},
     "output_type": "execute_result"
    }
   ],
   "source": [
    "b.shape"
   ]
  },
  {
   "cell_type": "code",
   "execution_count": 10,
   "id": "262dfa23-75c1-46f1-9d6c-205958c5d9c5",
   "metadata": {},
   "outputs": [],
   "source": [
    "A = B"
   ]
  },
  {
   "cell_type": "code",
   "execution_count": 12,
   "id": "8f5f9baa-f9a5-424d-92bd-6dfdd4beba34",
   "metadata": {},
   "outputs": [
    {
     "data": {
      "text/plain": [
       "(15, 10)"
      ]
     },
     "execution_count": 12,
     "metadata": {},
     "output_type": "execute_result"
    }
   ],
   "source": [
    "A.shape"
   ]
  }
 ],
 "metadata": {
  "kernelspec": {
   "display_name": "Python 3 (ipykernel)",
   "language": "python",
   "name": "python3"
  },
  "language_info": {
   "codemirror_mode": {
    "name": "ipython",
    "version": 3
   },
   "file_extension": ".py",
   "mimetype": "text/x-python",
   "name": "python",
   "nbconvert_exporter": "python",
   "pygments_lexer": "ipython3",
   "version": "3.12.2"
  }
 },
 "nbformat": 4,
 "nbformat_minor": 5
}

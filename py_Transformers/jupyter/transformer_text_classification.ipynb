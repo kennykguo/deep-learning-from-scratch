{
 "cells": [
  {
   "cell_type": "code",
   "execution_count": 12,
   "id": "5d05196f-035c-49d6-8922-d823e8fb9dc6",
   "metadata": {},
   "outputs": [],
   "source": [
    "import os\n",
    "import re\n",
    "import pandas as pd\n",
    "from torchtext.data.functional import generate_sp_model, load_sp_model\n",
    "import torch\n",
    "from torch.utils.data import Dataset, DataLoader"
   ]
  },
  {
   "cell_type": "code",
   "execution_count": 118,
   "id": "5133f035-ce0c-4342-82b5-0fbb4e10816a",
   "metadata": {},
   "outputs": [
    {
     "name": "stdout",
     "output_type": "stream",
     "text": [
      "<class 'list'>\n"
     ]
    }
   ],
   "source": [
    "print(type(line.split(\",\")))"
   ]
  },
  {
   "cell_type": "code",
   "execution_count": 126,
   "id": "c3c39fc1-a25f-4b57-9e32-9f727014b8be",
   "metadata": {},
   "outputs": [],
   "source": [
    "root = \"data\"\n",
    "with open(os.path.join(root, \"train.csv\")) as f:\n",
    "        with open(os.path.join(root, \"data.txt\"), \"w\") as f2:\n",
    "            for line in f:\n",
    "                text_only = \"\".join(line.split(\",\")[1:])\n",
    "                filtered = re.sub(r'\\\\|\\\\n|;', ' ', text_only.replace('\"', ' ').replace('\\n', ' '))\n",
    "                filtered = filtered.replace(' #39;', \"'\")\n",
    "                filtered = filtered.replace(' #38;', \"&\")\n",
    "                filtered = filtered.replace(' #36;', \"$\")\n",
    "                filtered = filtered.replace(' #151;', \"-\")\n",
    "                f2.write(filtered.lower() + \"\\n\")"
   ]
  },
  {
   "cell_type": "code",
   "execution_count": 122,
   "id": "4a3cbf43-85b6-4905-a1bf-f29e03a3874b",
   "metadata": {
    "scrolled": true
   },
   "outputs": [
    {
     "name": "stderr",
     "output_type": "stream",
     "text": [
      "sentencepiece_trainer.cc(177) LOG(INFO) Running command: --input=data/data.txt --model_prefix=transformer --vocab_size=20000 --model_type=unigram\n",
      "sentencepiece_trainer.cc(77) LOG(INFO) Starts training with : \n",
      "trainer_spec {\n",
      "  input: data/data.txt\n",
      "  input_format: \n",
      "  model_prefix: transformer\n",
      "  model_type: UNIGRAM\n",
      "  vocab_size: 20000\n",
      "  self_test_sample_size: 0\n",
      "  character_coverage: 0.9995\n",
      "  input_sentence_size: 0\n",
      "  shuffle_input_sentence: 1\n",
      "  seed_sentencepiece_size: 1000000\n",
      "  shrinking_factor: 0.75\n",
      "  max_sentence_length: 4192\n",
      "  num_threads: 16\n",
      "  num_sub_iterations: 2\n",
      "  max_sentencepiece_length: 16\n",
      "  split_by_unicode_script: 1\n",
      "  split_by_number: 1\n",
      "  split_by_whitespace: 1\n",
      "  split_digits: 0\n",
      "  treat_whitespace_as_suffix: 0\n",
      "  required_chars: \n",
      "  byte_fallback: 0\n",
      "  vocabulary_output_piece_score: 1\n",
      "  train_extremely_large_corpus: 0\n",
      "  hard_vocab_limit: 1\n",
      "  use_all_vocab: 0\n",
      "  unk_id: 0\n",
      "  bos_id: 1\n",
      "  eos_id: 2\n",
      "  pad_id: -1\n",
      "  unk_piece: <unk>\n",
      "  bos_piece: <s>\n",
      "  eos_piece: </s>\n",
      "  pad_piece: <pad>\n",
      "  unk_surface:  ⁇ \n",
      "}\n",
      "normalizer_spec {\n",
      "  name: nmt_nfkc\n",
      "  add_dummy_prefix: 1\n",
      "  remove_extra_whitespaces: 1\n",
      "  escape_whitespaces: 1\n",
      "  normalization_rule_tsv: \n",
      "}\n",
      "denormalizer_spec {}\n",
      "trainer_interface.cc(319) LOG(INFO) SentenceIterator is not specified. Using MultiFileSentenceIterator.\n",
      "trainer_interface.cc(174) LOG(INFO) Loading corpus: data/data.txt\n",
      "trainer_interface.cc(375) LOG(INFO) Loaded all 120000 sentences\n",
      "trainer_interface.cc(390) LOG(INFO) Adding meta_piece: <unk>\n",
      "trainer_interface.cc(390) LOG(INFO) Adding meta_piece: <s>\n",
      "trainer_interface.cc(390) LOG(INFO) Adding meta_piece: </s>\n",
      "trainer_interface.cc(395) LOG(INFO) Normalizing sentences...\n",
      "trainer_interface.cc(456) LOG(INFO) all chars count=28222889\n",
      "trainer_interface.cc(467) LOG(INFO) Done: 99.9756% characters are covered.\n",
      "trainer_interface.cc(477) LOG(INFO) Alphabet size=48\n",
      "trainer_interface.cc(478) LOG(INFO) Final character coverage=0.999756\n",
      "trainer_interface.cc(510) LOG(INFO) Done! preprocessed 120000 sentences.\n",
      "unigram_model_trainer.cc(138) LOG(INFO) Making suffix array...\n",
      "unigram_model_trainer.cc(142) LOG(INFO) Extracting frequent sub strings...\n",
      "unigram_model_trainer.cc(193) LOG(INFO) Initialized 152602 seed sentencepieces\n",
      "trainer_interface.cc(516) LOG(INFO) Tokenizing input sentences with whitespace: 120000\n",
      "trainer_interface.cc(526) LOG(INFO) Done! 120631\n",
      "unigram_model_trainer.cc(488) LOG(INFO) Using 120631 sentences for EM training\n",
      "unigram_model_trainer.cc(504) LOG(INFO) EM sub_iter=0 size=62443 obj=11.2717 num_tokens=276733 num_tokens/piece=4.43177\n",
      "unigram_model_trainer.cc(504) LOG(INFO) EM sub_iter=1 size=49790 obj=9.0969 num_tokens=277388 num_tokens/piece=5.57116\n",
      "unigram_model_trainer.cc(504) LOG(INFO) EM sub_iter=0 size=37337 obj=9.0515 num_tokens=288412 num_tokens/piece=7.72456\n",
      "unigram_model_trainer.cc(504) LOG(INFO) EM sub_iter=1 size=37324 obj=9.03806 num_tokens=288579 num_tokens/piece=7.73173\n",
      "unigram_model_trainer.cc(504) LOG(INFO) EM sub_iter=0 size=27993 obj=9.07602 num_tokens=309208 num_tokens/piece=11.0459\n",
      "unigram_model_trainer.cc(504) LOG(INFO) EM sub_iter=1 size=27993 obj=9.06489 num_tokens=309177 num_tokens/piece=11.0448\n",
      "unigram_model_trainer.cc(504) LOG(INFO) EM sub_iter=0 size=22000 obj=9.12194 num_tokens=328649 num_tokens/piece=14.9386\n",
      "unigram_model_trainer.cc(504) LOG(INFO) EM sub_iter=1 size=21999 obj=9.10707 num_tokens=328625 num_tokens/piece=14.9382\n",
      "trainer_interface.cc(604) LOG(INFO) Saving model: transformer.model\n",
      "trainer_interface.cc(615) LOG(INFO) Saving vocabs: transformer.vocab\n"
     ]
    }
   ],
   "source": [
    "# Generate the SentencePiece tokenizer\n",
    "# Text tokenizer and detokenizer\n",
    "# Unsupervised text tokenizer. It will tokenize words into subpieces instead of words\n",
    "# This function will create a set of subtokens to fit the set vocabulary size\n",
    "# There will always be enough subwords to subtokenize a dataset :)\n",
    "# Saved in the home directory\n",
    "generate_sp_model(os.path.join(root, \"data.txt\"), vocab_size=20000, model_prefix='transformer')"
   ]
  },
  {
   "cell_type": "code",
   "execution_count": 145,
   "id": "97e9b8c6-f18f-4cd0-a686-de839cbe2f99",
   "metadata": {},
   "outputs": [],
   "source": [
    "class AGNews(Dataset):\n",
    "    def __init__(self, num_datapoints, set=\"train\"):\n",
    "\n",
    "        # Reads the file into a pandas DataFrame\n",
    "        self.df = pd.read_csv(os.path.join(root, set + \".csv\"), names=[\"Class\", \"Title\", \"Content\"])\n",
    "\n",
    "        # Replaces empty entries with a space\n",
    "        self.df.fillna('', inplace=True)\n",
    "\n",
    "        # Concatenates title and content into one heading 'article'\n",
    "        self.df['Article'] = self.df['Title'] + \" : \" + self.df['Content']\n",
    "        self.df.drop(['Title', 'Content'], axis=1, inplace=True)\n",
    "        self.df['Article'] = self.df['Article'].str.replace(r'\\\\n|\\\\|\\\\r|\\\\r\\\\n|\\n|\"', ' ', regex=True)\n",
    "\n",
    "        # Clean up data\n",
    "        self.df['Article'] = self.df['Article'].replace({' #39;': \"'\", ' #38;': \"&\", ' #36;': \"$\", ' #151;': \"-\"}, regex=True)\n",
    "\n",
    "        # Gets the first num_datapoints datapoints\n",
    "        if num_datapoints is not None:\n",
    "            self.df = self.df.head(num_datapoints)\n",
    "\n",
    "    def __getitem__(self, index):\n",
    "        text = self.df.loc[index][\"Article\"].lower()\n",
    "        # See if we can remove array indexing\n",
    "        class_index = int(self.df.loc[index][\"Class\"]) - 1\n",
    "        return class_index, text\n",
    "\n",
    "    def __len__(self):\n",
    "        return len(self.df)"
   ]
  },
  {
   "cell_type": "code",
   "execution_count": 199,
   "id": "6a2d771e-04a1-4a7f-9def-e9b81cd12f84",
   "metadata": {},
   "outputs": [],
   "source": [
    "# Create training and testing datasets from train.csv, test.csv, using AGNews class\n",
    "train_dataset = AGNews(num_datapoints=10000, set=\"train\")\n",
    "test_dataset = AGNews(num_datapoints=10000, set=\"test\")"
   ]
  },
  {
   "cell_type": "code",
   "execution_count": 267,
   "id": "c57c0c02-ff0b-4d53-8754-bf7c0be6c822",
   "metadata": {},
   "outputs": [
    {
     "data": {
      "text/html": [
       "<div>\n",
       "<style scoped>\n",
       "    .dataframe tbody tr th:only-of-type {\n",
       "        vertical-align: middle;\n",
       "    }\n",
       "\n",
       "    .dataframe tbody tr th {\n",
       "        vertical-align: top;\n",
       "    }\n",
       "\n",
       "    .dataframe thead th {\n",
       "        text-align: right;\n",
       "    }\n",
       "</style>\n",
       "<table border=\"1\" class=\"dataframe\">\n",
       "  <thead>\n",
       "    <tr style=\"text-align: right;\">\n",
       "      <th></th>\n",
       "      <th>Class</th>\n",
       "      <th>Article</th>\n",
       "    </tr>\n",
       "  </thead>\n",
       "  <tbody>\n",
       "    <tr>\n",
       "      <th>0</th>\n",
       "      <td>3</td>\n",
       "      <td>Wall St. Bears Claw Back Into the Black (Reute...</td>\n",
       "    </tr>\n",
       "    <tr>\n",
       "      <th>1</th>\n",
       "      <td>3</td>\n",
       "      <td>Carlyle Looks Toward Commercial Aerospace (Reu...</td>\n",
       "    </tr>\n",
       "    <tr>\n",
       "      <th>2</th>\n",
       "      <td>3</td>\n",
       "      <td>Oil and Economy Cloud Stocks' Outlook (Reuters...</td>\n",
       "    </tr>\n",
       "    <tr>\n",
       "      <th>3</th>\n",
       "      <td>3</td>\n",
       "      <td>Iraq Halts Oil Exports from Main Southern Pipe...</td>\n",
       "    </tr>\n",
       "    <tr>\n",
       "      <th>4</th>\n",
       "      <td>3</td>\n",
       "      <td>Oil prices soar to all-time record, posing new...</td>\n",
       "    </tr>\n",
       "    <tr>\n",
       "      <th>...</th>\n",
       "      <td>...</td>\n",
       "      <td>...</td>\n",
       "    </tr>\n",
       "    <tr>\n",
       "      <th>9995</th>\n",
       "      <td>4</td>\n",
       "      <td>Winamp flaw: Digital attacks use skins for cam...</td>\n",
       "    </tr>\n",
       "    <tr>\n",
       "      <th>9996</th>\n",
       "      <td>4</td>\n",
       "      <td>BMC adds PeopleSoft management : BMC Software ...</td>\n",
       "    </tr>\n",
       "    <tr>\n",
       "      <th>9997</th>\n",
       "      <td>3</td>\n",
       "      <td>CAO chief faces Singapore probe : The chief of...</td>\n",
       "    </tr>\n",
       "    <tr>\n",
       "      <th>9998</th>\n",
       "      <td>3</td>\n",
       "      <td>A Microsoft deal gets full EU inquiry : BRUSSE...</td>\n",
       "    </tr>\n",
       "    <tr>\n",
       "      <th>9999</th>\n",
       "      <td>4</td>\n",
       "      <td>Feds Bust File-Sharing Sites : Operation Digit...</td>\n",
       "    </tr>\n",
       "  </tbody>\n",
       "</table>\n",
       "<p>10000 rows × 2 columns</p>\n",
       "</div>"
      ],
      "text/plain": [
       "      Class                                            Article\n",
       "0         3  Wall St. Bears Claw Back Into the Black (Reute...\n",
       "1         3  Carlyle Looks Toward Commercial Aerospace (Reu...\n",
       "2         3  Oil and Economy Cloud Stocks' Outlook (Reuters...\n",
       "3         3  Iraq Halts Oil Exports from Main Southern Pipe...\n",
       "4         3  Oil prices soar to all-time record, posing new...\n",
       "...     ...                                                ...\n",
       "9995      4  Winamp flaw: Digital attacks use skins for cam...\n",
       "9996      4  BMC adds PeopleSoft management : BMC Software ...\n",
       "9997      3  CAO chief faces Singapore probe : The chief of...\n",
       "9998      3  A Microsoft deal gets full EU inquiry : BRUSSE...\n",
       "9999      4  Feds Bust File-Sharing Sites : Operation Digit...\n",
       "\n",
       "[10000 rows x 2 columns]"
      ]
     },
     "execution_count": 267,
     "metadata": {},
     "output_type": "execute_result"
    }
   ],
   "source": [
    "# Example dataset\n",
    "train_dataset.df"
   ]
  },
  {
   "cell_type": "code",
   "execution_count": 265,
   "id": "db1b0de6-ecdb-41e4-8b78-28eb4c06d908",
   "metadata": {},
   "outputs": [
    {
     "data": {
      "text/html": [
       "<div>\n",
       "<style scoped>\n",
       "    .dataframe tbody tr th:only-of-type {\n",
       "        vertical-align: middle;\n",
       "    }\n",
       "\n",
       "    .dataframe tbody tr th {\n",
       "        vertical-align: top;\n",
       "    }\n",
       "\n",
       "    .dataframe thead th {\n",
       "        text-align: right;\n",
       "    }\n",
       "</style>\n",
       "<table border=\"1\" class=\"dataframe\">\n",
       "  <thead>\n",
       "    <tr style=\"text-align: right;\">\n",
       "      <th></th>\n",
       "      <th>Class</th>\n",
       "      <th>Article</th>\n",
       "    </tr>\n",
       "  </thead>\n",
       "  <tbody>\n",
       "    <tr>\n",
       "      <th>0</th>\n",
       "      <td>3</td>\n",
       "      <td>Fears for T N pension after talks : Unions rep...</td>\n",
       "    </tr>\n",
       "    <tr>\n",
       "      <th>1</th>\n",
       "      <td>4</td>\n",
       "      <td>The Race is On: Second Private Team Sets Launc...</td>\n",
       "    </tr>\n",
       "    <tr>\n",
       "      <th>2</th>\n",
       "      <td>4</td>\n",
       "      <td>Ky. Company Wins Grant to Study Peptides (AP) ...</td>\n",
       "    </tr>\n",
       "    <tr>\n",
       "      <th>3</th>\n",
       "      <td>4</td>\n",
       "      <td>Prediction Unit Helps Forecast Wildfires (AP) ...</td>\n",
       "    </tr>\n",
       "    <tr>\n",
       "      <th>4</th>\n",
       "      <td>4</td>\n",
       "      <td>Calif. Aims to Limit Farm-Related Smog (AP) : ...</td>\n",
       "    </tr>\n",
       "    <tr>\n",
       "      <th>...</th>\n",
       "      <td>...</td>\n",
       "      <td>...</td>\n",
       "    </tr>\n",
       "    <tr>\n",
       "      <th>7595</th>\n",
       "      <td>1</td>\n",
       "      <td>Around the world : Ukrainian presidential cand...</td>\n",
       "    </tr>\n",
       "    <tr>\n",
       "      <th>7596</th>\n",
       "      <td>2</td>\n",
       "      <td>Void is filled with Clement : With the supply ...</td>\n",
       "    </tr>\n",
       "    <tr>\n",
       "      <th>7597</th>\n",
       "      <td>2</td>\n",
       "      <td>Martinez leaves bitter : Like Roger Clemens di...</td>\n",
       "    </tr>\n",
       "    <tr>\n",
       "      <th>7598</th>\n",
       "      <td>3</td>\n",
       "      <td>5 of arthritis patients in Singapore take Bext...</td>\n",
       "    </tr>\n",
       "    <tr>\n",
       "      <th>7599</th>\n",
       "      <td>3</td>\n",
       "      <td>EBay gets into rentals : EBay plans to buy the...</td>\n",
       "    </tr>\n",
       "  </tbody>\n",
       "</table>\n",
       "<p>7600 rows × 2 columns</p>\n",
       "</div>"
      ],
      "text/plain": [
       "      Class                                            Article\n",
       "0         3  Fears for T N pension after talks : Unions rep...\n",
       "1         4  The Race is On: Second Private Team Sets Launc...\n",
       "2         4  Ky. Company Wins Grant to Study Peptides (AP) ...\n",
       "3         4  Prediction Unit Helps Forecast Wildfires (AP) ...\n",
       "4         4  Calif. Aims to Limit Farm-Related Smog (AP) : ...\n",
       "...     ...                                                ...\n",
       "7595      1  Around the world : Ukrainian presidential cand...\n",
       "7596      2  Void is filled with Clement : With the supply ...\n",
       "7597      2  Martinez leaves bitter : Like Roger Clemens di...\n",
       "7598      3  5 of arthritis patients in Singapore take Bext...\n",
       "7599      3  EBay gets into rentals : EBay plans to buy the...\n",
       "\n",
       "[7600 rows x 2 columns]"
      ]
     },
     "execution_count": 265,
     "metadata": {},
     "output_type": "execute_result"
    }
   ],
   "source": [
    "test_dataset.df"
   ]
  },
  {
   "cell_type": "code",
   "execution_count": 203,
   "id": "99d0d48a-2913-497f-9ab9-34350dfd5a94",
   "metadata": {},
   "outputs": [],
   "source": [
    "# Create data loaders for the training and testing datasets\n",
    "# Dataloaders allow for batching, shuffling\n",
    "\n",
    "batch_size = 32  # Example batch size\n",
    "\n",
    "dataloader_train = DataLoader(train_dataset, batch_size=batch_size, shuffle=True, drop_last=True)\n",
    "dataloader_test = DataLoader(test_dataset, batch_size=batch_size, shuffle=False, drop_last=True)"
   ]
  },
  {
   "cell_type": "code",
   "execution_count": 283,
   "id": "e1088bb3-c7a2-4b83-9016-27b4293696b1",
   "metadata": {},
   "outputs": [
    {
     "data": {
      "text/plain": [
       "['▁facts',\n",
       " '▁on',\n",
       " '▁stem',\n",
       " '▁cells',\n",
       " '▁:',\n",
       " '▁this',\n",
       " '▁summer',\n",
       " '▁marks',\n",
       " '▁the',\n",
       " '▁third',\n",
       " '▁anniversary',\n",
       " '▁of',\n",
       " '▁president',\n",
       " '▁bush',\n",
       " \"'\",\n",
       " 's',\n",
       " '▁announcement',\n",
       " '▁of',\n",
       " '▁his',\n",
       " '▁policy',\n",
       " '▁on',\n",
       " '▁stem',\n",
       " '▁cell',\n",
       " '▁research',\n",
       " '.',\n",
       " '▁in',\n",
       " '▁the',\n",
       " '▁interven',\n",
       " 'ing',\n",
       " '▁years',\n",
       " ',',\n",
       " '▁the',\n",
       " '▁subject',\n",
       " '▁has',\n",
       " '▁become',\n",
       " '▁a',\n",
       " '▁polariz',\n",
       " 'ing',\n",
       " '▁flash',\n",
       " '▁point',\n",
       " '▁for',\n",
       " '▁american',\n",
       " '▁politics',\n",
       " '▁and',\n",
       " '▁a',\n",
       " '▁f',\n",
       " 'ocal',\n",
       " '▁point',\n",
       " '▁for',\n",
       " '▁the',\n",
       " '▁presidential',\n",
       " '▁campaign',\n",
       " '.']"
      ]
     },
     "execution_count": 283,
     "metadata": {},
     "output_type": "execute_result"
    }
   ],
   "source": [
    "# Tokenize individual entries\n",
    "x = list(sp_tokenizer([text_batch[0]]))[0]\n",
    "x"
   ]
  },
  {
   "cell_type": "code",
   "execution_count": 281,
   "id": "4ddd4cab-8ebe-481a-b9e6-bcea113890c7",
   "metadata": {},
   "outputs": [
    {
     "name": "stdout",
     "output_type": "stream",
     "text": [
      "Original Text: facts on stem cells : this summer marks the third anniversary of president bush's announcement of his policy on stem cell research. in the intervening years, the subject has become a polarizing flash point for american politics and a focal point for the presidential campaign.\n",
      "Tokenized Text: ['▁facts', '▁on', '▁stem', '▁cells', '▁:', '▁this', '▁summer', '▁marks', '▁the', '▁third', '▁anniversary', '▁of', '▁president', '▁bush', \"'\", 's', '▁announcement', '▁of', '▁his', '▁policy', '▁on', '▁stem', '▁cell', '▁research', '.', '▁in', '▁the', '▁interven', 'ing', '▁years', ',', '▁the', '▁subject', '▁has', '▁become', '▁a', '▁polariz', 'ing', '▁flash', '▁point', '▁for', '▁american', '▁politics', '▁and', '▁a', '▁f', 'ocal', '▁point', '▁for', '▁the', '▁presidential', '▁campaign', '.']\n",
      "Numericalized Text: [7795, 12, 2166, 3988, 665, 68, 1299, 3956, 3, 145, 2842, 8, 99, 165, 22, 7, 2060, 8, 40, 1001, 12, 2166, 764, 246, 4, 9, 3, 19774, 19, 131, 0, 3, 3304, 34, 681, 6, 19352, 19, 1973, 894, 13, 209, 3061, 10, 6, 559, 9215, 894, 13, 3, 459, 527, 4]\n"
     ]
    }
   ],
   "source": [
    "from torchtext.data.functional import sentencepiece_tokenizer, sentencepiece_numericalizer\n",
    "# Tokenization and numericalization\n",
    "\n",
    "# Load the trained SentencePiece model\n",
    "sp_model = load_sp_model(\"transformer.model\")\n",
    "\n",
    "# Create a tokenizer function from file\n",
    "sp_tokenizer = sentencepiece_tokenizer(sp_model)\n",
    "\n",
    "# Create a numericalizer function from file\n",
    "sp_numericalizer = sentencepiece_numericalizer(sp_model)\n",
    "\n",
    "# Example usage\n",
    "for class_index, text_batch in data_loader_train:\n",
    "    \n",
    "    # text_batch is a list of sentences\n",
    "    tokenized_text_batch = [list(sp_tokenizer([t]))[0] for t in text_batch]\n",
    "\n",
    "    numericalized_text_batch = [list(sp_numericalizer([t]))[0] for t in text_batch]\n",
    "    \n",
    "    print(f\"Original Text: {text_batch[0]}\")\n",
    "    \n",
    "    print(f\"Tokenized Text: {tokenized_text_batch[0]}\")\n",
    "    \n",
    "    print(f\"Numericalized Text: {numericalized_text_batch[0]}\")\n",
    "    \n",
    "    break"
   ]
  },
  {
   "cell_type": "code",
   "execution_count": 319,
   "id": "47863551-0b36-471a-9962-9bf732969868",
   "metadata": {},
   "outputs": [
    {
     "data": {
      "text/plain": [
       "\"tjx cos. earnings fall 4 percent : tjx cos. inc.'s second-quarter earnings fell 4 percent, reflecting higher markdowns on merchandise due to softer sales trends. \""
      ]
     },
     "execution_count": 319,
     "metadata": {},
     "output_type": "execute_result"
    }
   ],
   "source": [
    "text_batch[1]"
   ]
  },
  {
   "cell_type": "code",
   "execution_count": 138,
   "id": "c763a040-2929-4594-83c9-c4d449115b09",
   "metadata": {},
   "outputs": [],
   "source": [
    "# https://pytorch.org/data/main/torchdata.datapipes.iter.html\n",
    "# https://medium.com/deelvin-machine-learning/comparison-of-pytorch-dataset-and-torchdata-datapipes-486e03068c58"
   ]
  },
  {
   "cell_type": "code",
   "execution_count": 306,
   "id": "a73cbc10-a59d-4181-b707-c8aeaf6c2181",
   "metadata": {},
   "outputs": [
    {
     "data": {
      "text/plain": [
       "<generator object yield_tokens at 0x282a1c9a0>"
      ]
     },
     "execution_count": 306,
     "metadata": {},
     "output_type": "execute_result"
    }
   ],
   "source": [
    "yield_tokens(\"transformer.vocab\")"
   ]
  },
  {
   "cell_type": "code",
   "execution_count": 304,
   "id": "cdc1832f-a16b-4b45-8152-86754e96e062",
   "metadata": {},
   "outputs": [],
   "source": [
    "def yield_tokens(file_path):\n",
    "    with io.open(file_path, encoding='utf-8') as f:\n",
    "        # Iterate through each line in the file\n",
    "        for line in f:\n",
    "            # Yield the token from the first column (split by tab)\n",
    "            yield [line.split(\"\\t\")[0]]\n",
    "\n",
    "# Build a vocabulary from the tokens yielded by the yield_tokens function\n",
    "# <pad> is a padding token that is added to the end of a sentence to ensure the length of all sequences in a batch is the same\n",
    "# <sos> signals the \"Start-Of-Sentence\" aka the start of the sequence\n",
    "# <eos> signal the \"End-Of-Sentence\" aka the end of the sequence\n",
    "# <unk> \"unknown\" token is used if a token is not contained in the vocab\n",
    "# From torchtext library\n",
    "# Builds a generator object, that is treated like an iterator\n",
    "vocab = build_vocab_from_iterator(yield_tokens(\"transformer.vocab\"), specials=['<pad>', '<sos>', '<eos>', '<unk>'], special_first=True)\n",
    "\n",
    "# Set the default index for unknown tokens to the index of the '<unk>' token\n",
    "vocab.set_default_index(vocab['<unk>'])"
   ]
  },
  {
   "cell_type": "code",
   "execution_count": 321,
   "id": "b607f19d-1f63-4040-af39-2db2615c668d",
   "metadata": {},
   "outputs": [
    {
     "name": "stdout",
     "output_type": "stream",
     "text": [
      "0\n",
      "1\n",
      "2\n",
      "3\n",
      "18412\n",
      "3\n"
     ]
    }
   ],
   "source": [
    "print(vocab['<pad>'])  # Should print the index of <pad>\n",
    "print(vocab['<sos>'])  # Should print the index of <sos>\n",
    "print(vocab['<eos>'])  # Should print the index of <eos>\n",
    "print(vocab['<unk>'])  # Should print the index of <unk>\n",
    "print(vocab['▁the'])   # Should print the index of ▁the (if present)\n",
    "print(vocab['unknown_token'])  # Should print the index of <unk> as it's not in vocab"
   ]
  },
  {
   "cell_type": "code",
   "execution_count": 372,
   "id": "1b0ddb0c-f8e9-4491-8aa1-4a1a6d5d84d1",
   "metadata": {},
   "outputs": [
    {
     "data": {
      "text/plain": [
       "Sequential(\n",
       "  (0): SentencePieceTokenizer()\n",
       "  (1): VocabTransform(\n",
       "    (vocab): Vocab()\n",
       "  )\n",
       "  (2): AddToken()\n",
       "  (3): Truncate()\n",
       "  (4): AddToken()\n",
       "  (5): ToTensor()\n",
       ")"
      ]
     },
     "execution_count": 372,
     "metadata": {},
     "output_type": "execute_result"
    }
   ],
   "source": [
    "# Data transform to turn text into vocab token\n",
    "# Text transformation pipeline aliased T\n",
    "text_transform = T.Sequential(\n",
    "    # Tokenize with pretrained Tokenizer\n",
    "    T.SentencePieceTokenizer(\"spm_ag_news.model\"),\n",
    "    # Converts the sentences to indices based on given vocabulary\n",
    "    T.VocabTransform(vocab=vocab),\n",
    "    # Add <sos> at beginning of each sentence. 1 because the index for <sos> in vocabulary is 1 as seen in previous section\n",
    "    T.AddToken(1, begin=True),\n",
    "    # Crop the sentence if it is longer than the max length\n",
    "    T.Truncate(max_seq_len=max_len),\n",
    "    ## Add <eos> at beginning of each sentence. 2 because the index for <eos> in vocabulary is\n",
    "    # 2 as seen in previous section\n",
    "    T.AddToken(2, begin=False),\n",
    "    # Convert the list of lists to a tensor, this will also\n",
    "    # Pad a sentence with the <pad> token if it is shorter than the max length\n",
    "    # This ensures all sentences are the same length!\n",
    "    T.ToTensor(padding_value=0),\n",
    ")\n",
    "\n",
    "text_transform"
   ]
  },
  {
   "cell_type": "code",
   "execution_count": null,
   "id": "598a72b7-adef-48ef-8a98-59b24373bcee",
   "metadata": {},
   "outputs": [],
   "source": []
  },
  {
   "cell_type": "code",
   "execution_count": null,
   "id": "46c96428-186b-4123-800e-264d80174a5b",
   "metadata": {},
   "outputs": [],
   "source": []
  },
  {
   "cell_type": "code",
   "execution_count": null,
   "id": "a89bd55c-dd45-4173-b19c-434b728867f1",
   "metadata": {},
   "outputs": [],
   "source": []
  },
  {
   "cell_type": "code",
   "execution_count": null,
   "id": "e6827849-90b4-4cc7-b653-c45af8961645",
   "metadata": {},
   "outputs": [],
   "source": []
  },
  {
   "cell_type": "code",
   "execution_count": null,
   "id": "a389bfa2-80ed-4145-ac7d-44d4bafa42cf",
   "metadata": {},
   "outputs": [],
   "source": []
  },
  {
   "cell_type": "code",
   "execution_count": 374,
   "id": "1beb384c-6a4a-423c-91fb-f3cb75fe9018",
   "metadata": {},
   "outputs": [
    {
     "name": "stdout",
     "output_type": "stream",
     "text": [
      "tensor([[ 5,  6,  7,  8],\n",
      "        [ 9, 10, 11,  0]])\n"
     ]
    }
   ],
   "source": [
    "class TokenDrop(nn.Module):\n",
    "    \"\"\"For a batch of tokens indices, randomly replace a non-specical token with <pad>.\n",
    "    prob (float): probability of dropping a token\n",
    "    pad_token (int): index for the <pad> token\n",
    "    num_special (int): Number of special tokens, assumed to be at the start of the vocab\n",
    "    \"\"\"\n",
    "\n",
    "    def __init__(self, prob=0.1, pad_token=0, num_special=4):\n",
    "        self.prob = prob\n",
    "        self.num_special = num_special\n",
    "        self.pad_token = pad_token\n",
    "\n",
    "    def __call__(self, sample):\n",
    "        # Randomly sample a bernoulli distribution with p = prob\n",
    "        # Create a mask where 1 means we will replace that token\n",
    "        # Discrete probability distribution\n",
    "        mask = torch.bernoulli(self.prob * torch.ones_like(sample)).long()\n",
    "        \n",
    "        # only replace if the token is not a special token\n",
    "        # Ones or zeros. If false, zero, if true, 1\n",
    "        can_drop = (sample >= self.num_special).long()\n",
    "        # Multiply together to get the corresponding tokens that can be dropped, and that will be dropped\n",
    "        mask = mask * can_drop\n",
    "\n",
    "        # Make a mask of pad_token\n",
    "        replace_with = (self.pad_token * torch.ones_like(sample)).long()\n",
    "\n",
    "        # sample is the original sample\n",
    "        # mask indicates what tokens can be replaced (0 to not be replaced, 1 to be replaced)\n",
    "        # replace_with is a list of of the pad_token tokens\n",
    "        # (1-mask) creates the complement mask. (now, 0 indicates to be replaced, 1 indicates to be not replaced)\n",
    "        # Multiplying by sample, retains the original tokens that are not to be kept, and applies the mask on the sample\n",
    "        # mask * replace_with does elementwise multiplication and adds the corresponding pad_token to the tokens replaced\n",
    "        sample_out = (1 - mask) * sample + mask * replace_with\n",
    "        \n",
    "        return sample_out\n",
    "\n",
    "# Sample tensor of token indices (e.g., a batch of sentences)\n",
    "sample = torch.tensor([[5, 6, 7, 8], [9, 10, 11, 12]])\n",
    "\n",
    "# Create an instance of TokenDrop with default parameters\n",
    "token_drop = TokenDrop(prob=0.1, pad_token=0, num_special=4)\n",
    "\n",
    "# Apply token dropping to the sample tensor\n",
    "dropped_sample = token_drop(sample)\n",
    "\n",
    "# Print the result\n",
    "print(dropped_sample)"
   ]
  },
  {
   "cell_type": "code",
   "execution_count": 376,
   "id": "6ec49e3c-8b79-4bf7-854c-f39fd7a9a266",
   "metadata": {},
   "outputs": [],
   "source": [
    "# Sinusoidal positional embeds\n",
    "# Produce unique vector for the integer input vector\n",
    "class SinusoidalPosEmb(nn.Module):\n",
    "    def __init__(self, dim):\n",
    "        super().__init__()\n",
    "        self.dim = dim\n",
    "\n",
    "    def forward(self, x):\n",
    "        device = x.device\n",
    "        half_dim = self.dim // 2\n",
    "        # Computes scaling factors\n",
    "        emb = math.log(10000) / (half_dim - 1)\n",
    "        # Generates sinusoidal frequencies\n",
    "        emb = torch.exp(torch.arange(half_dim, device=device) * -emb)\n",
    "        # Applies the frequencies to the posiitons\n",
    "        emb = x[:, None] * emb[None, :]\n",
    "        # Concatenates sin and cos functions to form positional embeddings\n",
    "        emb = torch.cat((emb.sin(), emb.cos()), dim=-1)\n",
    "        return emb\n"
   ]
  },
  {
   "cell_type": "code",
   "execution_count": 378,
   "id": "b9cc2310-f2c2-4f54-820a-f29519b492c2",
   "metadata": {},
   "outputs": [],
   "source": [
    "# Encoder-only Transformer\n",
    "class NanoTransformer(nn.Module):\n",
    "    \"\"\"\n",
    "    This class implements a simplified Transformer model for sequence classification. \n",
    "    It uses an embedding layer for tokens, sinusoidal positional embeddings, \n",
    "    a Transformer, and a Linear layer.\n",
    "\n",
    "    Args:\n",
    "      num_emb: The number of unique tokens in the vocabulary. (vocab_size)\n",
    "      output_size: The size of the output layer (number of classes). (4)\n",
    "      hidden_size: The dimension of the hidden layer in the Transformer block (default: 128)\n",
    "      num_heads: The number of heads in the multi-head attention layer (default: 4).\n",
    "    \"\"\"\n",
    "    def __init__(self, num_emb, output_size, hidden_size=128, num_heads=4):\n",
    "        # Inherits from nn.Module's attributes\n",
    "        super(NanoTransformer, self).__init__()\n",
    "\n",
    "        # Create an embedding for each token\n",
    "        self.embedding = nn.Embedding(num_emb, hidden_size)\n",
    "        # Scaling down the embedding weights\n",
    "        self.embedding.weight.data = 0.001 * self.embedding.weight.data\n",
    "        # Positional embedding\n",
    "        self.pos_emb = SinusoidalPosEmb(hidden_size)\n",
    "\n",
    "        # Multi-head attention\n",
    "        self.multihead_attn = nn.MultiheadAttention(hidden_size, num_heads=num_heads, batch_first=True)\n",
    "\n",
    "        # Linear layer\n",
    "        self.mlp = nn.Sequential(nn.Linear(hidden_size, hidden_size),\n",
    "                                 nn.LayerNorm(hidden_size),\n",
    "                                 nn.ELU(),\n",
    "                                 nn.Linear(hidden_size, hidden_size))\n",
    "        \n",
    "        self.fc_out = nn.Linear(hidden_size, output_size)\n",
    "\n",
    "    def forward(self, input_seq):\n",
    "        # batch_size, length\n",
    "        bs, l = input_seq.shape\n",
    "        input_embs = self.embedding(input_seq)\n",
    "\n",
    "        # Add a unique embedding to each token embedding depending on it's position in the sequence\n",
    "        seq_indx = torch.arange(l, device=input_seq.device)\n",
    "        pos_emb = self.pos_emb(seq_indx).reshape(1, l, -1).expand(bs, l, -1)\n",
    "        embs = input_embs + pos_emb\n",
    "        output, attn_map = self.multihead_attn(embs, embs, embs)\n",
    "\n",
    "        output = self.mlp(output)\n",
    "\n",
    "        return self.fc_out(output), attn_map"
   ]
  },
  {
   "cell_type": "code",
   "execution_count": 426,
   "id": "561a2785-752b-4f53-ba90-da82428e3264",
   "metadata": {},
   "outputs": [],
   "source": [
    "# Set the device to GPU if available, otherwise use CPU\n",
    "device = torch.device(0 if torch.cuda.is_available() else 'cpu')\n",
    "\n",
    "# Embedding size\n",
    "hidden_size = 128\n",
    "\n",
    "# Define the hyperparameters\n",
    "# Learning rate for the optimizer\n",
    "learning_rate = 1e-4\n",
    "\n",
    "# Number of epochs for training\n",
    "nepochs = 10\n",
    "\n",
    "# Batch size for data loaders\n",
    "batch_size = 32\n",
    "\n",
    "# Maximum sequence length for text inputs\n",
    "max_len = 128\n",
    "\n",
    "# Create the Transformer model\n",
    "tf_classifier = NanoTransformer(num_emb=len(vocab), output_size=4, hidden_size=hidden_size, num_heads=4).to(device)\n",
    "\n",
    "# Initialize the optimizer\n",
    "optimizer = optim.Adam(tf_classifier.parameters(), lr=learning_rate, weight_decay=1e-4)\n",
    "\n",
    "# Cosine annealing scheduler to decay the learning rate\n",
    "lr_scheduler = optim.lr_scheduler.CosineAnnealingLR(optimizer, T_max=nepochs, eta_min=0)\n",
    "\n",
    "# Define the loss function\n",
    "loss_fn = nn.CrossEntropyLoss()\n",
    "\n",
    "# Custom transform to randomly replace a token with <pad>\n",
    "td = TokenDrop(prob=0.1)\n",
    "\n",
    "# Loggers for training and testing loss\n",
    "training_loss_logger = []\n",
    "test_loss_logger = []\n",
    "\n",
    "# Loggers for training and testing accuracy\n",
    "training_acc_logger = []\n",
    "test_acc_logger = []"
   ]
  },
  {
   "cell_type": "code",
   "execution_count": 384,
   "id": "60012da2-236e-46c0-b5ff-dc55a21257d6",
   "metadata": {},
   "outputs": [
    {
     "name": "stdout",
     "output_type": "stream",
     "text": [
      "-This Model Has 2660228 (Approximately 2 Million) Parameters!\n"
     ]
    }
   ],
   "source": [
    "# Number of model parameters\n",
    "num_model_params = 0\n",
    "for param in tf_classifier.parameters():\n",
    "    num_model_params += param.flatten().shape[0]\n",
    "\n",
    "print(\"-This Model Has %d (Approximately %d Million) Parameters!\" % (num_model_params, num_model_params//1e6))"
   ]
  },
  {
   "cell_type": "code",
   "execution_count": 442,
   "id": "1370f42d-a240-40d5-833e-fd55d589262d",
   "metadata": {},
   "outputs": [
    {
     "name": "stdout",
     "output_type": "stream",
     "text": [
      "torch.Size([32, 99])\n"
     ]
    }
   ],
   "source": [
    "for batch_idx, (labels, texts) in enumerate(data_loader_train):\n",
    "    text_tokens = text_tranform(list(texts)).to(device)\n",
    "    print(text_tokens.shape)\n",
    "    if batch_idx == 0:\n",
    "        break"
   ]
  },
  {
   "cell_type": "code",
   "execution_count": 444,
   "id": "cf14c176-ef03-441d-9616-1b055316995a",
   "metadata": {},
   "outputs": [
    {
     "name": "stdout",
     "output_type": "stream",
     "text": [
      "Accuracy: Train 0.00%, Test 0.00%\n",
      "Accuracy: Train 25.93%, Test 27.05%\n",
      "Accuracy: Train 27.78%, Test 27.66%\n"
     ]
    },
    {
     "ename": "KeyboardInterrupt",
     "evalue": "",
     "output_type": "error",
     "traceback": [
      "\u001b[0;31m---------------------------------------------------------------------------\u001b[0m",
      "\u001b[0;31mKeyboardInterrupt\u001b[0m                         Traceback (most recent call last)",
      "Cell \u001b[0;32mIn[444], line 36\u001b[0m\n\u001b[1;32m     34\u001b[0m optimizer\u001b[38;5;241m.\u001b[39mzero_grad()\n\u001b[1;32m     35\u001b[0m loss\u001b[38;5;241m.\u001b[39mbackward()\n\u001b[0;32m---> 36\u001b[0m optimizer\u001b[38;5;241m.\u001b[39mstep()\n\u001b[1;32m     38\u001b[0m \u001b[38;5;66;03m# Log the training loss\u001b[39;00m\n\u001b[1;32m     39\u001b[0m training_loss_logger\u001b[38;5;241m.\u001b[39mappend(loss\u001b[38;5;241m.\u001b[39mitem())\n",
      "File \u001b[0;32m/opt/anaconda3/lib/python3.11/site-packages/torch/optim/lr_scheduler.py:75\u001b[0m, in \u001b[0;36mLRScheduler.__init__.<locals>.with_counter.<locals>.wrapper\u001b[0;34m(*args, **kwargs)\u001b[0m\n\u001b[1;32m     73\u001b[0m instance\u001b[38;5;241m.\u001b[39m_step_count \u001b[38;5;241m+\u001b[39m\u001b[38;5;241m=\u001b[39m \u001b[38;5;241m1\u001b[39m\n\u001b[1;32m     74\u001b[0m wrapped \u001b[38;5;241m=\u001b[39m func\u001b[38;5;241m.\u001b[39m\u001b[38;5;21m__get__\u001b[39m(instance, \u001b[38;5;28mcls\u001b[39m)\n\u001b[0;32m---> 75\u001b[0m \u001b[38;5;28;01mreturn\u001b[39;00m wrapped(\u001b[38;5;241m*\u001b[39margs, \u001b[38;5;241m*\u001b[39m\u001b[38;5;241m*\u001b[39mkwargs)\n",
      "File \u001b[0;32m/opt/anaconda3/lib/python3.11/site-packages/torch/optim/optimizer.py:391\u001b[0m, in \u001b[0;36mOptimizer.profile_hook_step.<locals>.wrapper\u001b[0;34m(*args, **kwargs)\u001b[0m\n\u001b[1;32m    386\u001b[0m         \u001b[38;5;28;01melse\u001b[39;00m:\n\u001b[1;32m    387\u001b[0m             \u001b[38;5;28;01mraise\u001b[39;00m \u001b[38;5;167;01mRuntimeError\u001b[39;00m(\n\u001b[1;32m    388\u001b[0m                 \u001b[38;5;124mf\u001b[39m\u001b[38;5;124m\"\u001b[39m\u001b[38;5;132;01m{\u001b[39;00mfunc\u001b[38;5;132;01m}\u001b[39;00m\u001b[38;5;124m must return None or a tuple of (new_args, new_kwargs), but got \u001b[39m\u001b[38;5;132;01m{\u001b[39;00mresult\u001b[38;5;132;01m}\u001b[39;00m\u001b[38;5;124m.\u001b[39m\u001b[38;5;124m\"\u001b[39m\n\u001b[1;32m    389\u001b[0m             )\n\u001b[0;32m--> 391\u001b[0m out \u001b[38;5;241m=\u001b[39m func(\u001b[38;5;241m*\u001b[39margs, \u001b[38;5;241m*\u001b[39m\u001b[38;5;241m*\u001b[39mkwargs)\n\u001b[1;32m    392\u001b[0m \u001b[38;5;28mself\u001b[39m\u001b[38;5;241m.\u001b[39m_optimizer_step_code()\n\u001b[1;32m    394\u001b[0m \u001b[38;5;66;03m# call optimizer step post hooks\u001b[39;00m\n",
      "File \u001b[0;32m/opt/anaconda3/lib/python3.11/site-packages/torch/optim/optimizer.py:76\u001b[0m, in \u001b[0;36m_use_grad_for_differentiable.<locals>._use_grad\u001b[0;34m(self, *args, **kwargs)\u001b[0m\n\u001b[1;32m     74\u001b[0m     torch\u001b[38;5;241m.\u001b[39mset_grad_enabled(\u001b[38;5;28mself\u001b[39m\u001b[38;5;241m.\u001b[39mdefaults[\u001b[38;5;124m'\u001b[39m\u001b[38;5;124mdifferentiable\u001b[39m\u001b[38;5;124m'\u001b[39m])\n\u001b[1;32m     75\u001b[0m     torch\u001b[38;5;241m.\u001b[39m_dynamo\u001b[38;5;241m.\u001b[39mgraph_break()\n\u001b[0;32m---> 76\u001b[0m     ret \u001b[38;5;241m=\u001b[39m func(\u001b[38;5;28mself\u001b[39m, \u001b[38;5;241m*\u001b[39margs, \u001b[38;5;241m*\u001b[39m\u001b[38;5;241m*\u001b[39mkwargs)\n\u001b[1;32m     77\u001b[0m \u001b[38;5;28;01mfinally\u001b[39;00m:\n\u001b[1;32m     78\u001b[0m     torch\u001b[38;5;241m.\u001b[39m_dynamo\u001b[38;5;241m.\u001b[39mgraph_break()\n",
      "File \u001b[0;32m/opt/anaconda3/lib/python3.11/site-packages/torch/optim/adam.py:168\u001b[0m, in \u001b[0;36mAdam.step\u001b[0;34m(self, closure)\u001b[0m\n\u001b[1;32m    157\u001b[0m     beta1, beta2 \u001b[38;5;241m=\u001b[39m group[\u001b[38;5;124m'\u001b[39m\u001b[38;5;124mbetas\u001b[39m\u001b[38;5;124m'\u001b[39m]\n\u001b[1;32m    159\u001b[0m     has_complex \u001b[38;5;241m=\u001b[39m \u001b[38;5;28mself\u001b[39m\u001b[38;5;241m.\u001b[39m_init_group(\n\u001b[1;32m    160\u001b[0m         group,\n\u001b[1;32m    161\u001b[0m         params_with_grad,\n\u001b[0;32m   (...)\u001b[0m\n\u001b[1;32m    165\u001b[0m         max_exp_avg_sqs,\n\u001b[1;32m    166\u001b[0m         state_steps)\n\u001b[0;32m--> 168\u001b[0m     adam(\n\u001b[1;32m    169\u001b[0m         params_with_grad,\n\u001b[1;32m    170\u001b[0m         grads,\n\u001b[1;32m    171\u001b[0m         exp_avgs,\n\u001b[1;32m    172\u001b[0m         exp_avg_sqs,\n\u001b[1;32m    173\u001b[0m         max_exp_avg_sqs,\n\u001b[1;32m    174\u001b[0m         state_steps,\n\u001b[1;32m    175\u001b[0m         amsgrad\u001b[38;5;241m=\u001b[39mgroup[\u001b[38;5;124m'\u001b[39m\u001b[38;5;124mamsgrad\u001b[39m\u001b[38;5;124m'\u001b[39m],\n\u001b[1;32m    176\u001b[0m         has_complex\u001b[38;5;241m=\u001b[39mhas_complex,\n\u001b[1;32m    177\u001b[0m         beta1\u001b[38;5;241m=\u001b[39mbeta1,\n\u001b[1;32m    178\u001b[0m         beta2\u001b[38;5;241m=\u001b[39mbeta2,\n\u001b[1;32m    179\u001b[0m         lr\u001b[38;5;241m=\u001b[39mgroup[\u001b[38;5;124m'\u001b[39m\u001b[38;5;124mlr\u001b[39m\u001b[38;5;124m'\u001b[39m],\n\u001b[1;32m    180\u001b[0m         weight_decay\u001b[38;5;241m=\u001b[39mgroup[\u001b[38;5;124m'\u001b[39m\u001b[38;5;124mweight_decay\u001b[39m\u001b[38;5;124m'\u001b[39m],\n\u001b[1;32m    181\u001b[0m         eps\u001b[38;5;241m=\u001b[39mgroup[\u001b[38;5;124m'\u001b[39m\u001b[38;5;124meps\u001b[39m\u001b[38;5;124m'\u001b[39m],\n\u001b[1;32m    182\u001b[0m         maximize\u001b[38;5;241m=\u001b[39mgroup[\u001b[38;5;124m'\u001b[39m\u001b[38;5;124mmaximize\u001b[39m\u001b[38;5;124m'\u001b[39m],\n\u001b[1;32m    183\u001b[0m         foreach\u001b[38;5;241m=\u001b[39mgroup[\u001b[38;5;124m'\u001b[39m\u001b[38;5;124mforeach\u001b[39m\u001b[38;5;124m'\u001b[39m],\n\u001b[1;32m    184\u001b[0m         capturable\u001b[38;5;241m=\u001b[39mgroup[\u001b[38;5;124m'\u001b[39m\u001b[38;5;124mcapturable\u001b[39m\u001b[38;5;124m'\u001b[39m],\n\u001b[1;32m    185\u001b[0m         differentiable\u001b[38;5;241m=\u001b[39mgroup[\u001b[38;5;124m'\u001b[39m\u001b[38;5;124mdifferentiable\u001b[39m\u001b[38;5;124m'\u001b[39m],\n\u001b[1;32m    186\u001b[0m         fused\u001b[38;5;241m=\u001b[39mgroup[\u001b[38;5;124m'\u001b[39m\u001b[38;5;124mfused\u001b[39m\u001b[38;5;124m'\u001b[39m],\n\u001b[1;32m    187\u001b[0m         grad_scale\u001b[38;5;241m=\u001b[39m\u001b[38;5;28mgetattr\u001b[39m(\u001b[38;5;28mself\u001b[39m, \u001b[38;5;124m\"\u001b[39m\u001b[38;5;124mgrad_scale\u001b[39m\u001b[38;5;124m\"\u001b[39m, \u001b[38;5;28;01mNone\u001b[39;00m),\n\u001b[1;32m    188\u001b[0m         found_inf\u001b[38;5;241m=\u001b[39m\u001b[38;5;28mgetattr\u001b[39m(\u001b[38;5;28mself\u001b[39m, \u001b[38;5;124m\"\u001b[39m\u001b[38;5;124mfound_inf\u001b[39m\u001b[38;5;124m\"\u001b[39m, \u001b[38;5;28;01mNone\u001b[39;00m),\n\u001b[1;32m    189\u001b[0m     )\n\u001b[1;32m    191\u001b[0m \u001b[38;5;28;01mreturn\u001b[39;00m loss\n",
      "File \u001b[0;32m/opt/anaconda3/lib/python3.11/site-packages/torch/optim/adam.py:318\u001b[0m, in \u001b[0;36madam\u001b[0;34m(params, grads, exp_avgs, exp_avg_sqs, max_exp_avg_sqs, state_steps, foreach, capturable, differentiable, fused, grad_scale, found_inf, has_complex, amsgrad, beta1, beta2, lr, weight_decay, eps, maximize)\u001b[0m\n\u001b[1;32m    315\u001b[0m \u001b[38;5;28;01melse\u001b[39;00m:\n\u001b[1;32m    316\u001b[0m     func \u001b[38;5;241m=\u001b[39m _single_tensor_adam\n\u001b[0;32m--> 318\u001b[0m func(params,\n\u001b[1;32m    319\u001b[0m      grads,\n\u001b[1;32m    320\u001b[0m      exp_avgs,\n\u001b[1;32m    321\u001b[0m      exp_avg_sqs,\n\u001b[1;32m    322\u001b[0m      max_exp_avg_sqs,\n\u001b[1;32m    323\u001b[0m      state_steps,\n\u001b[1;32m    324\u001b[0m      amsgrad\u001b[38;5;241m=\u001b[39mamsgrad,\n\u001b[1;32m    325\u001b[0m      has_complex\u001b[38;5;241m=\u001b[39mhas_complex,\n\u001b[1;32m    326\u001b[0m      beta1\u001b[38;5;241m=\u001b[39mbeta1,\n\u001b[1;32m    327\u001b[0m      beta2\u001b[38;5;241m=\u001b[39mbeta2,\n\u001b[1;32m    328\u001b[0m      lr\u001b[38;5;241m=\u001b[39mlr,\n\u001b[1;32m    329\u001b[0m      weight_decay\u001b[38;5;241m=\u001b[39mweight_decay,\n\u001b[1;32m    330\u001b[0m      eps\u001b[38;5;241m=\u001b[39meps,\n\u001b[1;32m    331\u001b[0m      maximize\u001b[38;5;241m=\u001b[39mmaximize,\n\u001b[1;32m    332\u001b[0m      capturable\u001b[38;5;241m=\u001b[39mcapturable,\n\u001b[1;32m    333\u001b[0m      differentiable\u001b[38;5;241m=\u001b[39mdifferentiable,\n\u001b[1;32m    334\u001b[0m      grad_scale\u001b[38;5;241m=\u001b[39mgrad_scale,\n\u001b[1;32m    335\u001b[0m      found_inf\u001b[38;5;241m=\u001b[39mfound_inf)\n",
      "File \u001b[0;32m/opt/anaconda3/lib/python3.11/site-packages/torch/optim/adam.py:382\u001b[0m, in \u001b[0;36m_single_tensor_adam\u001b[0;34m(params, grads, exp_avgs, exp_avg_sqs, max_exp_avg_sqs, state_steps, grad_scale, found_inf, amsgrad, has_complex, beta1, beta2, lr, weight_decay, eps, maximize, capturable, differentiable)\u001b[0m\n\u001b[1;32m    379\u001b[0m step_t \u001b[38;5;241m+\u001b[39m\u001b[38;5;241m=\u001b[39m \u001b[38;5;241m1\u001b[39m\n\u001b[1;32m    381\u001b[0m \u001b[38;5;28;01mif\u001b[39;00m weight_decay \u001b[38;5;241m!=\u001b[39m \u001b[38;5;241m0\u001b[39m:\n\u001b[0;32m--> 382\u001b[0m     grad \u001b[38;5;241m=\u001b[39m grad\u001b[38;5;241m.\u001b[39madd(param, alpha\u001b[38;5;241m=\u001b[39mweight_decay)\n\u001b[1;32m    384\u001b[0m \u001b[38;5;28;01mif\u001b[39;00m torch\u001b[38;5;241m.\u001b[39mis_complex(param):\n\u001b[1;32m    385\u001b[0m     grad \u001b[38;5;241m=\u001b[39m torch\u001b[38;5;241m.\u001b[39mview_as_real(grad)\n",
      "\u001b[0;31mKeyboardInterrupt\u001b[0m: "
     ]
    }
   ],
   "source": [
    "# Initialize progress bar for tracking epochs\n",
    "# pbar = trange(0, nepochs, leave=False, desc=\"Epoch\")\n",
    "train_acc = 0\n",
    "test_acc = 0\n",
    "\n",
    "# Loop over each epoch\n",
    "for epoch in range(nepochs):\n",
    "    # Update the progress bar with current training and testing accuracy\n",
    "    print('Accuracy: Train %.2f%%, Test %.2f%%' %(train_acc * 100, test_acc * 100))\n",
    "    \n",
    "    # Set the model to training mode\n",
    "    tf_classifier.train()\n",
    "    steps = 0\n",
    "    \n",
    "    # Loop over each batch in the training dataset\n",
    "    for batch_idx, (labels, texts) in enumerate(data_loader_train):\n",
    "        # Number of examples in the batch\n",
    "        bs = labels.shape[0]\n",
    "        \n",
    "        # Transform the text to tokens\n",
    "        text_tokens = text_tranform(list(texts)).to(device)\n",
    "        labels = labels.to(device)\n",
    "\n",
    "        # TokenDrop\n",
    "        text_tokens = td(text_tokens)\n",
    "\n",
    "        # Get the model predictions\n",
    "        pred, _ = tf_classifier(text_tokens)\n",
    "\n",
    "        # Compute the loss using cross-entropy loss\n",
    "        loss = loss_fn(pred[:, 0, :], labels)\n",
    "        \n",
    "        # Backpropagation and optimization step\n",
    "        optimizer.zero_grad()\n",
    "        loss.backward()\n",
    "        optimizer.step()\n",
    "        \n",
    "        # Log the training loss\n",
    "        training_loss_logger.append(loss.item())\n",
    "        \n",
    "        # Update training accuracy\n",
    "        train_acc += (pred[:, 0, :].argmax(1) == labels).sum()\n",
    "        steps += bs\n",
    "    \n",
    "    # Calculate average training accuracy\n",
    "    train_acc = (train_acc / steps).item()\n",
    "    training_acc_logger.append(train_acc)\n",
    "    \n",
    "    # Update learning rate\n",
    "    lr_scheduler.step()\n",
    "    \n",
    "    # Set the model to evaluation mode\n",
    "    tf_classifier.eval()\n",
    "    steps = 0\n",
    "    \n",
    "    # Loop over each batch in the testing dataset\n",
    "    with torch.no_grad():\n",
    "        for batch_idx, (labels, texts) in enumerate(data_loader_train):\n",
    "            bs = labels.shape[0]\n",
    "            \n",
    "            # Transform the text to tokens and move to the GPU\n",
    "            text_tokens = text_tranform(list(texts)).to(device)\n",
    "            labesl = labels.to(device)\n",
    "\n",
    "            # Get the model predictions (Do not return attention map)\n",
    "            pred, _ = tf_classifier(text_tokens)\n",
    "\n",
    "            # Compute the loss using cross-entropy loss\n",
    "            loss = loss_fn(pred[:, 0, :], labels)\n",
    "            test_loss_logger.append(loss.item())\n",
    "\n",
    "            # Update testing accuracy\n",
    "            test_acc += (pred[:, 0, :].argmax(1) == labels).sum()\n",
    "            steps += bs\n",
    "\n",
    "        # Calculate average testing accuracy\n",
    "        test_acc = (test_acc / steps).item()\n",
    "        test_acc_logger.append(test_acc)"
   ]
  },
  {
   "cell_type": "code",
   "execution_count": 275,
   "id": "5c1d7b89-977b-4822-a80c-64e7d6e5081c",
   "metadata": {},
   "outputs": [
    {
     "data": {
      "image/png": "[encoded data removed]",
      "text/plain": [
       "<Figure size 1000x500 with 1 Axes>"
      ]
     },
     "metadata": {},
     "output_type": "display_data"
    }
   ],
   "source": [
    "_ = plt.figure(figsize=(10, 5))\n",
    "_ = plt.plot(np.linspace(0, nepochs, len(training_loss_logger)), training_loss_logger)\n",
    "_ = plt.plot(np.linspace(0, nepochs, len(test_loss_logger)), test_loss_logger)\n",
    "\n",
    "_ = plt.legend([\"Train\", \"Test\"])\n",
    "_ = plt.title(\"Training Vs Test Loss\")\n",
    "_ = plt.xlabel(\"Epochs\")\n",
    "_ = plt.ylabel(\"Loss\")"
   ]
  },
  {
   "cell_type": "code",
   "execution_count": 277,
   "id": "ae485636-eaae-4123-b8dc-200ccfedf863",
   "metadata": {},
   "outputs": [
    {
     "name": "stdout",
     "output_type": "stream",
     "text": [
      "Max Test Accuracy 39.08%\n"
     ]
    },
    {
     "data": {
      "image/png": "[encoded data removed]",
      "text/plain": [
       "<Figure size 1000x500 with 1 Axes>"
      ]
     },
     "metadata": {},
     "output_type": "display_data"
    }
   ],
   "source": [
    "_ = plt.figure(figsize=(10, 5))\n",
    "_ = plt.plot(np.linspace(0, nepochs, len(training_acc_logger)), training_acc_logger)\n",
    "_ = plt.plot(np.linspace(0, nepochs, len(test_acc_logger)), test_acc_logger)\n",
    "\n",
    "_ = plt.legend([\"Train\", \"Test\"])\n",
    "_ = plt.title(\"Training Vs Test Accuracy\")\n",
    "_ = plt.xlabel(\"Epochs\")\n",
    "_ = plt.ylabel(\"Accuracy\")\n",
    "print(\"Max Test Accuracy %.2f%%\" % (np.max(test_acc_logger) * 100))"
   ]
  },
  {
   "cell_type": "code",
   "execution_count": 279,
   "id": "58c1f111-2c6e-4552-ba07-9c0215745739",
   "metadata": {},
   "outputs": [],
   "source": [
    "ag_news_classes = [\n",
    "    \"World\",\n",
    "    \"Sports\",\n",
    "    \"Business\",\n",
    "    \"Science/Technology\"\n",
    "]\n",
    "\n",
    "with torch.no_grad():\n",
    "    label, text = next(iter(data_loader_train))\n",
    "    text_tokens = text_tranform(list(text)).to(device)\n",
    "    pred, attention_map = tf_classifier(text_tokens)"
   ]
  },
  {
   "cell_type": "code",
   "execution_count": 281,
   "id": "02e987ca-bc6f-4c6b-b6c9-d956aee4e3a7",
   "metadata": {},
   "outputs": [
    {
     "name": "stdout",
     "output_type": "stream",
     "text": [
      "Article:\n",
      "sidebar: the nuts and bolts of com -- objects, interfaces and guids : a quick course in how some of the most esoteric aspects of com work.\n",
      "\n",
      "Predicted label:\n",
      "Science/Technology\n",
      "True label:\n",
      "Science/Technology\n",
      "\n",
      "Top 5 Tokens:\n",
      "['▁quick', '▁a', '<pad>', '<pad>', '<pad>']\n"
     ]
    }
   ],
   "source": [
    "test_index = 3\n",
    "\n",
    "# Choose a text index smaller than the total number in the batch!\n",
    "assert test_index < label.shape[0]\n",
    "\n",
    "# Select the attention map for a single sample and the first attention head\n",
    "att_map = attention_map[test_index, 0]\n",
    "pred_class = ag_news_classes[pred[test_index, -1].argmax().item()]\n",
    "top5 = att_map.argsort(descending=True)[:5]\n",
    "top5_tokens = vocab.lookup_tokens(text_tokens[test_index, top5].cpu().numpy())\n",
    "\n",
    "\n",
    "print(\"Article:\")\n",
    "print(text[test_index])\n",
    "print(\"\\nPredicted label:\")\n",
    "print(pred_class)\n",
    "print(\"True label:\")\n",
    "print(ag_news_classes[label[test_index].item()])\n",
    "\n",
    "print(\"\\nTop 5 Tokens:\")\n",
    "print(top5_tokens)"
   ]
  },
  {
   "cell_type": "code",
   "execution_count": 283,
   "id": "e3dbd933-329f-4fa1-a5fd-bab5ac498b9b",
   "metadata": {},
   "outputs": [
    {
     "data": {
      "image/png": "[encoded data removed]",
      "text/plain": [
       "<Figure size 640x480 with 1 Axes>"
      ]
     },
     "metadata": {},
     "output_type": "display_data"
    }
   ],
   "source": [
    "_ = plt.plot(att_map.cpu().numpy())\n",
    "_ = plt.title(\"Attention score per token\")"
   ]
  }
 ],
 "metadata": {
  "kernelspec": {
   "display_name": "Python 3 (ipykernel)",
   "language": "python",
   "name": "python3"
  },
  "language_info": {
   "codemirror_mode": {
    "name": "ipython",
    "version": 3
   },
   "file_extension": ".py",
   "mimetype": "text/x-python",
   "name": "python",
   "nbconvert_exporter": "python",
   "pygments_lexer": "ipython3",
   "version": "3.11.7"
  }
 },
 "nbformat": 4,
 "nbformat_minor": 5
}

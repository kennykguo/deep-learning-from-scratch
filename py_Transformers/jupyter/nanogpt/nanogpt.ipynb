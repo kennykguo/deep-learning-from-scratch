{
 "cells": [
  {
   "cell_type": "code",
   "execution_count": 1,
   "id": "3179eebc-2fc6-4b93-b818-11136bb65112",
   "metadata": {},
   "outputs": [],
   "source": [
    "with open ('tiny-shakespeare.txt', 'r', encoding = 'utf-8') as f:\n",
    "    text = f.read()"
   ]
  },
  {
   "cell_type": "code",
   "execution_count": 2,
   "id": "a3ed91d7-5900-459b-8481-dd03b529d97e",
   "metadata": {},
   "outputs": [
    {
     "name": "stdout",
     "output_type": "stream",
     "text": [
      "1115394\n"
     ]
    }
   ],
   "source": [
    "print(len(text))"
   ]
  },
  {
   "cell_type": "code",
   "execution_count": 3,
   "id": "a5c5149c-a699-4d77-8f5d-da9946bdfe09",
   "metadata": {},
   "outputs": [
    {
     "name": "stdout",
     "output_type": "stream",
     "text": [
      "First Citizen:\n",
      "Before we proceed any further, hear me speak.\n",
      "\n",
      "All:\n",
      "Speak, speak.\n",
      "\n",
      "First Citizen:\n",
      "You are all resolved rather to die than to famish?\n",
      "\n",
      "All:\n",
      "Resolved. resolved.\n",
      "\n",
      "First Citizen:\n",
      "First, you know Caius Marcius is chief enemy to the people.\n",
      "\n",
      "All:\n",
      "We know't, we know't.\n",
      "\n",
      "First Citizen:\n",
      "Let us kill him, and we'll have corn at our own price.\n",
      "Is't a verdict?\n",
      "\n",
      "All:\n",
      "No more talking on't; let it be done: away, away!\n",
      "\n",
      "Second Citizen:\n",
      "One word, good citizens.\n",
      "\n",
      "First Citizen:\n",
      "We are accounted poor citizens, the patricians good.\n",
      "What authority surfeits on would relieve us: if they\n",
      "would yield us but the superfluity, while it were\n",
      "wholesome, we might guess they relieved us humanely;\n",
      "but they think we are too dear: the leanness that\n",
      "afflicts us, the object of our misery, is as an\n",
      "inventory to particularise their abundance; our\n",
      "sufferance is a gain to them Let us revenge this with\n",
      "our pikes, ere we become rakes: for the gods know I\n",
      "speak this in hunger for bread, not in thirst for revenge.\n",
      "\n",
      "\n"
     ]
    }
   ],
   "source": [
    "print(text[:1000])"
   ]
  },
  {
   "cell_type": "code",
   "execution_count": 4,
   "id": "41cf702c-0a5d-4db7-9c63-04770bf02175",
   "metadata": {},
   "outputs": [
    {
     "name": "stdout",
     "output_type": "stream",
     "text": [
      "\n",
      " !$&',-.3:;?ABCDEFGHIJKLMNOPQRSTUVWXYZabcdefghijklmnopqrstuvwxyz\n",
      "65\n"
     ]
    }
   ],
   "source": [
    "# Get the set of all characters that occur in the set - then call list to create this list, and then sort alphabetically\n",
    "# These are the possible characters our model can output\n",
    "\n",
    "# Set of characters\n",
    "chars = sorted(list(set(text)))\n",
    "vocab_size = len(chars)\n",
    "print(''.join(chars))\n",
    "print(vocab_size)\n"
   ]
  },
  {
   "cell_type": "code",
   "execution_count": 5,
   "id": "ebb3dd20-ce55-4f3d-ad9e-5b90eea032dd",
   "metadata": {},
   "outputs": [],
   "source": [
    "# Tokenize the input text\n",
    "# Convert thei input text into a sequence of numbers\n",
    "# Trans late individual characdters into integers\n",
    "# SentencePiece\n",
    "# OpenAI tiktoken\n",
    "\n",
    "# Build the encoder and decoder\n",
    "stoi = {ch:i for i,ch in enumerate(chars)}\n",
    "itos = {i:ch for i,ch in enumerate(chars)}\n",
    "\n",
    "# Encoded text function\n",
    "encode = lambda s: [stoi[c] for c in s] # Take a string, then output a vector\n",
    "\n",
    "# Decoded text function\n",
    "decode = lambda l: ''.join([itos[i] for i in l]) # Take a vector, output a string"
   ]
  },
  {
   "cell_type": "code",
   "execution_count": 7,
   "id": "8ff0b776-c4ad-4ea9-98e6-30700fb7384a",
   "metadata": {},
   "outputs": [],
   "source": [
    "import torch"
   ]
  },
  {
   "cell_type": "code",
   "execution_count": 8,
   "id": "48b455bb-a872-461d-96f2-7778e68a52ae",
   "metadata": {},
   "outputs": [
    {
     "data": {
      "text/plain": [
       "torch.Size([1115394])"
      ]
     },
     "execution_count": 8,
     "metadata": {},
     "output_type": "execute_result"
    }
   ],
   "source": [
    "# Convert our encoded text into a tensor (len(data) total)\n",
    "data = torch.tensor(encode(text), dtype = torch.long)\n",
    "data.shape"
   ]
  },
  {
   "cell_type": "code",
   "execution_count": 9,
   "id": "ffd23e9a-7868-4236-a237-a0dfa3a6cd21",
   "metadata": {},
   "outputs": [],
   "source": [
    "# 90% split\n",
    "n = int(0.9 * len(data))\n",
    "train_data = data[:n]\n",
    "val_data = data[:n]\n",
    "\n",
    "# Train on chunks (SGD)"
   ]
  },
  {
   "cell_type": "code",
   "execution_count": 72,
   "id": "a823e11a-183a-4e7e-bbe3-60775bba6efd",
   "metadata": {},
   "outputs": [
    {
     "data": {
      "text/plain": [
       "'First Citizen:\\nBefore we proceed any further, hear me speak.\\n\\nAll:\\nSpeak, speak.\\n\\nFirst Citizen:\\nYou'"
      ]
     },
     "execution_count": 72,
     "metadata": {},
     "output_type": "execute_result"
    }
   ],
   "source": [
    "decode(train_data[:100].tolist())"
   ]
  },
  {
   "cell_type": "code",
   "execution_count": 10,
   "id": "99ef774e-1524-4ebd-83a9-a6f834df8789",
   "metadata": {},
   "outputs": [
    {
     "data": {
      "text/plain": [
       "tensor([18, 47, 56, 57, 58,  1, 15, 47, 58])"
      ]
     },
     "execution_count": 10,
     "metadata": {},
     "output_type": "execute_result"
    }
   ],
   "source": [
    "block_size = 8\n",
    "# When training, we train for the transformer to make a prediction at every one of the 8 positions\n",
    "# The labels at each index in the x batch would be:\n",
    "train_data[:block_size + 1]"
   ]
  },
  {
   "cell_type": "code",
   "execution_count": 11,
   "id": "1b991c2d-ba4a-4a59-831f-e19f9a7f1777",
   "metadata": {},
   "outputs": [],
   "source": [
    "# In the context of 18, 47 comes next. In the context of 18, 47, 56 comes next"
   ]
  },
  {
   "cell_type": "code",
   "execution_count": 12,
   "id": "da8b1cb5-66c9-4d55-9792-8f7b9c00eff5",
   "metadata": {},
   "outputs": [
    {
     "name": "stdout",
     "output_type": "stream",
     "text": [
      " When input is tensor([18]) the target is 47\n",
      " When input is tensor([18, 47]) the target is 56\n",
      " When input is tensor([18, 47, 56]) the target is 57\n",
      " When input is tensor([18, 47, 56, 57]) the target is 58\n",
      " When input is tensor([18, 47, 56, 57, 58]) the target is 1\n",
      " When input is tensor([18, 47, 56, 57, 58,  1]) the target is 15\n",
      " When input is tensor([18, 47, 56, 57, 58,  1, 15]) the target is 47\n",
      " When input is tensor([18, 47, 56, 57, 58,  1, 15, 47]) the target is 58\n"
     ]
    }
   ],
   "source": [
    "x = train_data[:block_size]\n",
    "# Next characters, at every index in the block\n",
    "y = train_data[1: block_size+1]\n",
    "for t in range(block_size):\n",
    "    context = x[:t+1]\n",
    "    target = y[t]\n",
    "    print(f\" When input is {context} the target is {target}\")\n",
    "\n",
    "# For a block_size of n, there are n training examples"
   ]
  },
  {
   "cell_type": "code",
   "execution_count": 14,
   "id": "e1d0ec29-d132-4d79-8719-8fa3672e466c",
   "metadata": {},
   "outputs": [],
   "source": [
    "# We want the Transformer to see a size anywhere between 1 and 8\n",
    "# The Transformer should know how to predict even just one character"
   ]
  },
  {
   "cell_type": "code",
   "execution_count": 15,
   "id": "5ad54cb8-671e-49d3-a78c-c9a94c5dca4d",
   "metadata": {},
   "outputs": [],
   "source": [
    "# Process multiple chunks at the same time, but completely indepedently"
   ]
  },
  {
   "cell_type": "code",
   "execution_count": 77,
   "id": "821cb666-efa4-4820-8517-335fe05e92e7",
   "metadata": {},
   "outputs": [
    {
     "name": "stdout",
     "output_type": "stream",
     "text": [
      "inputs:\n",
      "torch.Size([4, 8])\n",
      "tensor([[43,  1, 51, 39, 63,  1, 40, 43],\n",
      "        [58, 46, 43,  1, 43, 39, 56, 57],\n",
      "        [39, 58, 47, 53, 52, 12,  1, 37],\n",
      "        [53, 56, 43,  1, 21,  1, 41, 39]])\n",
      "targets:\n",
      "torch.Size([4, 8])\n",
      "tensor([[ 1, 51, 39, 63,  1, 40, 43,  1],\n",
      "        [46, 43,  1, 43, 39, 56, 57, 10],\n",
      "        [58, 47, 53, 52, 12,  1, 37, 53],\n",
      "        [56, 43,  1, 21,  1, 41, 39, 51]])\n",
      "e may be\n",
      "the ears\n",
      "ation? Y\n",
      "ore I ca\n",
      " may be \n",
      "he ears:\n",
      "tion? Yo\n",
      "re I cam\n"
     ]
    }
   ],
   "source": [
    "batch_size = 4 # Total number of processes running in parallel\n",
    "block_size = 8 # Maximum content length for predictions\n",
    "\n",
    "def get_batch(split):\n",
    "    data = train_data if split == 'train' else val_data\n",
    "    # Generate random positions batch size number of random offsets\n",
    "    # @torch documentation\n",
    "    \n",
    "    # Generates 4 random numbers\n",
    "    ix = torch.randint(len(data) - block_size, (batch_size,))\n",
    "    # torch.stack stacks the plucked examples\n",
    "    # Each row represents a training example. Each column represents a word\n",
    "    x = torch.stack([data[i:i+block_size]  for i in ix])\n",
    "    # Offset by 1 to get the corresponding plucked labels\n",
    "    y = torch.stack([data[i+1:i+block_size+1]  for i in ix])\n",
    "    return x, y\n",
    "\n",
    "\n",
    "xb, yb = get_batch('train')\n",
    "print('inputs:')\n",
    "print(xb.shape)\n",
    "print(xb)\n",
    "\n",
    "print('targets:')\n",
    "print(yb.shape)\n",
    "print(yb)\n",
    "\n",
    "for i in range(batch_size):\n",
    "    print(decode(xb[i].tolist()))\n",
    "\n",
    "for i in range(batch_size):\n",
    "    print(decode(yb[i].tolist()))"
   ]
  },
  {
   "cell_type": "code",
   "execution_count": 17,
   "id": "5630c88e-a3cc-4368-9694-d6d7981eb00d",
   "metadata": {},
   "outputs": [
    {
     "name": "stdout",
     "output_type": "stream",
     "text": [
      "\n",
      "SKIcLT;AcELMoTbvZv C?nq-QE33:CJqkOKH-q;:la!oiywkHjgChzbQ?u!3bLIgwevmyFJGUGp\n",
      "wnYWmnxKWWev-tDqXErVKLgJ\n"
     ]
    }
   ],
   "source": [
    "# Bigram language model\n",
    "\n",
    "import torch\n",
    "import torch.nn as nn\n",
    "from torch.nn import functional as F\n",
    "torch.manual_seed(1337)\n",
    "\n",
    "# Inherits from nn.Module\n",
    "class BigramLanguageModel(nn.Module):\n",
    "    def __init__(self, vocab_size):\n",
    "        super().__init__()\n",
    "        # Creating embedding table (vocab size x vocab size) -> maps token ID to corresponding embedding vector (1, vocab_size)\n",
    "        self.token_embedding_table = nn.Embedding(vocab_size, vocab_size)\n",
    "\n",
    "    def forward(self, idx, targets=None):\n",
    "        # idx is a tensor of shape (B,T) and so is targets\n",
    "\n",
    "        # Convert idx into corresponding embeddings (B, T, C)\n",
    "        logits = self.token_embedding_table(idx) # (B, T, C) for batch, time, channel\n",
    "        # The time channel denotes the ability for the language model to use multiple training examples, from just one row in a batch\n",
    "        # Scores for next character in the sequence\n",
    "\n",
    "        if targets is None:\n",
    "            loss = None\n",
    "            \n",
    "        else:\n",
    "            # Reshaping for the loss function in PyTorch\n",
    "            B, T, C = logits.shape\n",
    "            logits = logits.view(B * T, C) # Flattens out in the 1st dimension\n",
    "            # For every row, compute loss (B * T inputs, B * T labels)\n",
    "            targets = targets.view(B * T)\n",
    "            \n",
    "            # Use cross-entropy loss function (expects 2D arrays)\n",
    "            loss = F.cross_entropy(logits, targets)\n",
    "        \n",
    "        return logits, loss\n",
    "\n",
    "    def generate(self, idx, max_new_tokens):\n",
    "        # idx is (B, T) array of indices\n",
    "        for _ in range (max_new_tokens):\n",
    "            logits, loss = self(idx) # Get predictions\n",
    "            \n",
    "            # Extracts the logits from the last time_step in every iteration (given idx as input)\n",
    "            logits = logits[:, -1, :] # (B, C)\n",
    "            probs = F.softmax(logits, dim = -1) #(B, C)\n",
    "            idx_next = torch.multinomial(probs, num_samples = 1) # (B, 1)\n",
    "            idx = torch.cat((idx, idx_next), dim = 1) # (B, T + 1)\n",
    "        return idx\n",
    "\n",
    "\n",
    "m = BigramLanguageModel(vocab_size)\n",
    "\n",
    "# PyTorch automatically computes forward if you pass in arguments like this\n",
    "logits, loss = m(xb, yb)\n",
    "# print(logits.shape)\n",
    "# print(loss)\n",
    "\n",
    "\n",
    "# Create a 1x1 tensor, holding a zero. Pass this in to generate method\n",
    "print(decode(m.generate(idx = torch.zeros((1,1), dtype = torch.long), max_new_tokens = 100)[0].tolist()))"
   ]
  },
  {
   "cell_type": "code",
   "execution_count": 18,
   "id": "02dc2b2a-b6c5-40a0-aec4-aae024618177",
   "metadata": {},
   "outputs": [],
   "source": [
    "# Create a PyTorch optimizer\n",
    "optimizer = torch.optim.AdamW(m.parameters(), lr = 1e-3)"
   ]
  },
  {
   "cell_type": "code",
   "execution_count": 24,
   "id": "d3ff9117-ebb9-4fc3-ae49-870e391c14e6",
   "metadata": {},
   "outputs": [
    {
     "name": "stdout",
     "output_type": "stream",
     "text": [
      "2.521601438522339\n"
     ]
    }
   ],
   "source": [
    "batch_size = 32\n",
    "for steps in range (1000):\n",
    "    xb, yb = get_batch('train')\n",
    "\n",
    "    logits, loss = m(xb, yb)\n",
    "    optimizer.zero_grad(set_to_none = True)\n",
    "    loss.backward()\n",
    "    optimizer.step()\n",
    "\n",
    "print(loss.item())"
   ]
  },
  {
   "cell_type": "code",
   "execution_count": 25,
   "id": "8e877126-30e1-4136-8050-33d403c75b2d",
   "metadata": {},
   "outputs": [
    {
     "name": "stdout",
     "output_type": "stream",
     "text": [
      "\n",
      "\n",
      "I w!AUCUNSome! b!\n",
      "nfry andilk!an!\n",
      "DITh\n",
      "If inoinoth hithcot; e zCAr,\n",
      "june, thes aithak;E:\n",
      "\n",
      "Sen ing ve ce athly wnd hit ve teogs se.\n",
      "VOUMpbe havefulpimngUFLUGott and:\n",
      "ARIUSa-PHEENV\n",
      "PE:\n",
      "Ap arotegnYBupre found do de r s; gq-rilarckememeve hu tDUxfonsopouQUCl:&PHai\n",
      "Agr tylo o'\n",
      "\n",
      "Nof3ullicdfoThiscolly s3Q\n"
     ]
    }
   ],
   "source": [
    "print(decode(m.generate(idx = torch.zeros((1,1), dtype = torch.long), max_new_tokens = 300)[0].tolist()))"
   ]
  },
  {
   "cell_type": "markdown",
   "id": "1a971afe-8d35-45da-aeb3-b5a460621761",
   "metadata": {},
   "source": [
    "### Self Attention"
   ]
  },
  {
   "cell_type": "code",
   "execution_count": 53,
   "id": "4201f425-5e8d-4e37-b6b0-5f752b66513b",
   "metadata": {},
   "outputs": [
    {
     "data": {
      "text/plain": [
       "torch.Size([4, 8, 2])"
      ]
     },
     "execution_count": 53,
     "metadata": {},
     "output_type": "execute_result"
    }
   ],
   "source": [
    "# Mathematical trick\n",
    "# 8 tokens should \"talk to eachother\"\n",
    "# 8 tokens at an index should only talk to tokens before it (previous context to current timestep)\n",
    "torch.manual_seed(1337)\n",
    "B, T, C  = 4, 8, 2\n",
    "x = torch.randn(B,T,C)\n",
    "x.shape"
   ]
  },
  {
   "cell_type": "code",
   "execution_count": null,
   "id": "6516caec-7521-4e44-a967-1c01e9b1ff21",
   "metadata": {},
   "outputs": [],
   "source": [
    "# Easiest way for tokens to communicate with its past is to do an average of the preceding elements\n",
    "# Take channels from one step, and average channels from previous steps that summarizes features for example"
   ]
  },
  {
   "cell_type": "code",
   "execution_count": 58,
   "id": "4da49cef-56f5-407a-a3df-f4ee32996354",
   "metadata": {},
   "outputs": [
    {
     "name": "stdout",
     "output_type": "stream",
     "text": [
      "torch.Size([2])\n",
      "torch.Size([2])\n",
      "torch.Size([2])\n",
      "torch.Size([2])\n",
      "torch.Size([2])\n",
      "torch.Size([2])\n",
      "torch.Size([2])\n",
      "torch.Size([2])\n",
      "torch.Size([2])\n",
      "torch.Size([2])\n",
      "torch.Size([2])\n",
      "torch.Size([2])\n",
      "torch.Size([2])\n",
      "torch.Size([2])\n",
      "torch.Size([2])\n",
      "torch.Size([2])\n",
      "torch.Size([2])\n",
      "torch.Size([2])\n",
      "torch.Size([2])\n",
      "torch.Size([2])\n",
      "torch.Size([2])\n",
      "torch.Size([2])\n",
      "torch.Size([2])\n",
      "torch.Size([2])\n",
      "torch.Size([2])\n",
      "torch.Size([2])\n",
      "torch.Size([2])\n",
      "torch.Size([2])\n",
      "torch.Size([2])\n",
      "torch.Size([2])\n",
      "torch.Size([2])\n",
      "torch.Size([2])\n"
     ]
    }
   ],
   "source": [
    "# Version 1\n",
    "# x[b,t] = mean {i<=t} x[b,i]\n",
    "# Bag of words\n",
    "# Weighted aggregation\n",
    "xbow = torch.zeros((B,T,C))\n",
    "for b in range (B):\n",
    "    for t in range (T):\n",
    "        # Previous dimensions are everything in the batch, up to and including the t'th token\n",
    "        # This line gets all of the last dimension channels aswell\n",
    "        xprev = x[b,:t+1] # (t, C)\n",
    "        # print(xprev.shape)\n",
    "        # Average over the zero dimension\n",
    "        xbow[b,t] = torch.mean(xprev,0) # (1, C)\n",
    "        print(xbow[b,t].shape)"
   ]
  },
  {
   "cell_type": "code",
   "execution_count": 63,
   "id": "4b21089c-05f9-486c-a0b7-55784e532597",
   "metadata": {},
   "outputs": [
    {
     "name": "stdout",
     "output_type": "stream",
     "text": [
      "tensor([[1.0000, 0.0000, 0.0000, 0.0000, 0.0000, 0.0000, 0.0000, 0.0000],\n",
      "        [0.5000, 0.5000, 0.0000, 0.0000, 0.0000, 0.0000, 0.0000, 0.0000],\n",
      "        [0.3333, 0.3333, 0.3333, 0.0000, 0.0000, 0.0000, 0.0000, 0.0000],\n",
      "        [0.2500, 0.2500, 0.2500, 0.2500, 0.0000, 0.0000, 0.0000, 0.0000],\n",
      "        [0.2000, 0.2000, 0.2000, 0.2000, 0.2000, 0.0000, 0.0000, 0.0000],\n",
      "        [0.1667, 0.1667, 0.1667, 0.1667, 0.1667, 0.1667, 0.0000, 0.0000],\n",
      "        [0.1429, 0.1429, 0.1429, 0.1429, 0.1429, 0.1429, 0.1429, 0.0000],\n",
      "        [0.1250, 0.1250, 0.1250, 0.1250, 0.1250, 0.1250, 0.1250, 0.1250]])\n"
     ]
    },
    {
     "data": {
      "text/plain": [
       "True"
      ]
     },
     "execution_count": 63,
     "metadata": {},
     "output_type": "execute_result"
    }
   ],
   "source": [
    "# Version 2\n",
    "wei = torch.tril(torch.ones(T,T))\n",
    "wei = wei / wei.sum(1, keepdim = True)\n",
    "# How much of every row we want to average up\n",
    "print(wei)\n",
    "\n",
    "# Applies for all batches\n",
    "xbow2 = wei @ x # (B, T, T) @ (B, T, C) = (B, T, C)\n",
    "# Show that both operations are doing the same thing\n",
    "torch.allclose(xbow, xbow2)"
   ]
  },
  {
   "cell_type": "code",
   "execution_count": 64,
   "id": "eb412570-3d5e-4d74-a599-46f66a1de453",
   "metadata": {},
   "outputs": [
    {
     "name": "stdout",
     "output_type": "stream",
     "text": [
      "tensor([[0., -inf, -inf, -inf, -inf, -inf, -inf, -inf],\n",
      "        [0., 0., -inf, -inf, -inf, -inf, -inf, -inf],\n",
      "        [0., 0., 0., -inf, -inf, -inf, -inf, -inf],\n",
      "        [0., 0., 0., 0., -inf, -inf, -inf, -inf],\n",
      "        [0., 0., 0., 0., 0., -inf, -inf, -inf],\n",
      "        [0., 0., 0., 0., 0., 0., -inf, -inf],\n",
      "        [0., 0., 0., 0., 0., 0., 0., -inf],\n",
      "        [0., 0., 0., 0., 0., 0., 0., 0.]])\n",
      "tensor([[1.0000, 0.0000, 0.0000, 0.0000, 0.0000, 0.0000, 0.0000, 0.0000],\n",
      "        [0.5000, 0.5000, 0.0000, 0.0000, 0.0000, 0.0000, 0.0000, 0.0000],\n",
      "        [0.3333, 0.3333, 0.3333, 0.0000, 0.0000, 0.0000, 0.0000, 0.0000],\n",
      "        [0.2500, 0.2500, 0.2500, 0.2500, 0.0000, 0.0000, 0.0000, 0.0000],\n",
      "        [0.2000, 0.2000, 0.2000, 0.2000, 0.2000, 0.0000, 0.0000, 0.0000],\n",
      "        [0.1667, 0.1667, 0.1667, 0.1667, 0.1667, 0.1667, 0.0000, 0.0000],\n",
      "        [0.1429, 0.1429, 0.1429, 0.1429, 0.1429, 0.1429, 0.1429, 0.0000],\n",
      "        [0.1250, 0.1250, 0.1250, 0.1250, 0.1250, 0.1250, 0.1250, 0.1250]])\n"
     ]
    },
    {
     "data": {
      "text/plain": [
       "True"
      ]
     },
     "execution_count": 64,
     "metadata": {},
     "output_type": "execute_result"
    }
   ],
   "source": [
    "# Version 3 - softmax\n",
    "tril = torch.tril(torch.ones(T,T))\n",
    "# Weights begin at zero. How much of tokens from past do we want to add\n",
    "wei = torch.zeros((T,T))\n",
    "# Tokens from the future cannot communicate\n",
    "wei = wei.masked_fill(tril == 0, float('-inf'))\n",
    "print(wei)\n",
    "wei = F.softmax(wei, dim = 1)\n",
    "xbow3 = wei @ x\n",
    "print(wei)\n",
    "torch.allclose(xbow, xbow3)"
   ]
  },
  {
   "cell_type": "code",
   "execution_count": 91,
   "id": "ac9ed000-1a4e-4b85-88bf-9aeaba546dc5",
   "metadata": {},
   "outputs": [
    {
     "data": {
      "text/plain": [
       "tensor([[1.0000, 0.0000, 0.0000, 0.0000, 0.0000, 0.0000, 0.0000, 0.0000],\n",
       "        [0.5000, 0.5000, 0.0000, 0.0000, 0.0000, 0.0000, 0.0000, 0.0000],\n",
       "        [0.3333, 0.3333, 0.3333, 0.0000, 0.0000, 0.0000, 0.0000, 0.0000],\n",
       "        [0.2500, 0.2500, 0.2500, 0.2500, 0.0000, 0.0000, 0.0000, 0.0000],\n",
       "        [0.2000, 0.2000, 0.2000, 0.2000, 0.2000, 0.0000, 0.0000, 0.0000],\n",
       "        [0.1667, 0.1667, 0.1667, 0.1667, 0.1667, 0.1667, 0.0000, 0.0000],\n",
       "        [0.1429, 0.1429, 0.1429, 0.1429, 0.1429, 0.1429, 0.1429, 0.0000],\n",
       "        [0.1250, 0.1250, 0.1250, 0.1250, 0.1250, 0.1250, 0.1250, 0.1250]])"
      ]
     },
     "execution_count": 91,
     "metadata": {},
     "output_type": "execute_result"
    }
   ],
   "source": [
    "wei"
   ]
  },
  {
   "cell_type": "code",
   "execution_count": 89,
   "id": "220dcb4e-600b-46af-98d8-eb081960aa60",
   "metadata": {},
   "outputs": [
    {
     "data": {
      "text/plain": [
       "(tensor([[ 0.1808, -0.0700],\n",
       "         [-0.0894, -0.4926],\n",
       "         [ 0.1490, -0.3199],\n",
       "         [ 0.3504, -0.2238],\n",
       "         [ 0.3525,  0.0545],\n",
       "         [ 0.0688, -0.0396],\n",
       "         [ 0.0927, -0.0682],\n",
       "         [-0.0341,  0.1332]]),\n",
       " tensor([[ 0.1808, -0.0700],\n",
       "         [-0.0894, -0.4926],\n",
       "         [ 0.1490, -0.3199],\n",
       "         [ 0.3504, -0.2238],\n",
       "         [ 0.3525,  0.0545],\n",
       "         [ 0.0688, -0.0396],\n",
       "         [ 0.0927, -0.0682],\n",
       "         [-0.0341,  0.1332]]))"
      ]
     },
     "execution_count": 89,
     "metadata": {},
     "output_type": "execute_result"
    }
   ],
   "source": [
    "# Show both are identical\n",
    "xbow[0], xbow2[0]"
   ]
  },
  {
   "cell_type": "code",
   "execution_count": 79,
   "id": "ea3ca950-b0b2-4a66-a8e8-7053aed4f7b4",
   "metadata": {},
   "outputs": [
    {
     "data": {
      "text/plain": [
       "tensor([[ 0.1808, -0.0700],\n",
       "        [-0.3596, -0.9152],\n",
       "        [ 0.6258,  0.0255],\n",
       "        [ 0.9545,  0.0643],\n",
       "        [ 0.3612,  1.1679],\n",
       "        [-1.3499, -0.5102],\n",
       "        [ 0.2360, -0.2398],\n",
       "        [-0.9211,  1.5433]])"
      ]
     },
     "execution_count": 79,
     "metadata": {},
     "output_type": "execute_result"
    }
   ],
   "source": [
    "x[0]"
   ]
  },
  {
   "cell_type": "code",
   "execution_count": 80,
   "id": "a602283e-b1ec-453a-a922-8df4440b089d",
   "metadata": {},
   "outputs": [
    {
     "data": {
      "text/plain": [
       "tensor([[ 0.1808, -0.0700],\n",
       "        [-0.0894, -0.4926],\n",
       "        [ 0.1490, -0.3199],\n",
       "        [ 0.3504, -0.2238],\n",
       "        [ 0.3525,  0.0545],\n",
       "        [ 0.0688, -0.0396],\n",
       "        [ 0.0927, -0.0682],\n",
       "        [-0.0341,  0.1332]])"
      ]
     },
     "execution_count": 80,
     "metadata": {},
     "output_type": "execute_result"
    }
   ],
   "source": [
    "xbow[0]"
   ]
  },
  {
   "cell_type": "code",
   "execution_count": 84,
   "id": "49859c34-a1e3-4d68-bb2d-0b0e0ee5b71f",
   "metadata": {},
   "outputs": [
    {
     "name": "stdout",
     "output_type": "stream",
     "text": [
      "a= \n",
      "tensor([[1.0000, 0.0000, 0.0000],\n",
      "        [0.5000, 0.5000, 0.0000],\n",
      "        [0.3333, 0.3333, 0.3333]])\n",
      "b= \n",
      "tensor([[2., 7.],\n",
      "        [6., 4.],\n",
      "        [6., 5.]])\n",
      "c= \n",
      "tensor([[2.0000, 7.0000],\n",
      "        [4.0000, 5.5000],\n",
      "        [4.6667, 5.3333]])\n"
     ]
    }
   ],
   "source": [
    "torch.manual_seed(42)\n",
    "# a = torch.ones(3,3)\n",
    "a = torch.tril(torch.ones(3,3))\n",
    "a = a / torch.sum(a, 1, keepdim = True)\n",
    "b = torch.randint(0,10,(3,2)).float()\n",
    "c = a @ b\n",
    "print( 'a= ')\n",
    "print(a)\n",
    "print( 'b= ')\n",
    "print(b)\n",
    "print( 'c= ')\n",
    "print(c)"
   ]
  },
  {
   "cell_type": "code",
   "execution_count": 82,
   "id": "e9e11b5d-66a5-46e6-8504-7eaa141a6ced",
   "metadata": {},
   "outputs": [
    {
     "data": {
      "text/plain": [
       "tensor([[1., 0., 0.],\n",
       "        [1., 1., 0.],\n",
       "        [1., 1., 1.]])"
      ]
     },
     "execution_count": 82,
     "metadata": {},
     "output_type": "execute_result"
    }
   ],
   "source": [
    "torch.tril(torch.ones(3,3))\n",
    "# Can normalize rows to sum to 1!\n",
    "# Triangular lower portion of ones"
   ]
  },
  {
   "cell_type": "code",
   "execution_count": 65,
   "id": "649351d2-b909-452f-9914-c73b24d861e3",
   "metadata": {},
   "outputs": [
    {
     "name": "stdout",
     "output_type": "stream",
     "text": [
      "tensor([[[1.0000, 0.0000, 0.0000, 0.0000, 0.0000, 0.0000, 0.0000, 0.0000],\n",
      "         [0.1574, 0.8426, 0.0000, 0.0000, 0.0000, 0.0000, 0.0000, 0.0000],\n",
      "         [0.2088, 0.1646, 0.6266, 0.0000, 0.0000, 0.0000, 0.0000, 0.0000],\n",
      "         [0.5792, 0.1187, 0.1889, 0.1131, 0.0000, 0.0000, 0.0000, 0.0000],\n",
      "         [0.0294, 0.1052, 0.0469, 0.0276, 0.7909, 0.0000, 0.0000, 0.0000],\n",
      "         [0.0176, 0.2689, 0.0215, 0.0089, 0.6812, 0.0019, 0.0000, 0.0000],\n",
      "         [0.1691, 0.4066, 0.0438, 0.0416, 0.1048, 0.2012, 0.0329, 0.0000],\n",
      "         [0.0210, 0.0843, 0.0555, 0.2297, 0.0573, 0.0709, 0.2423, 0.2391]],\n",
      "\n",
      "        [[1.0000, 0.0000, 0.0000, 0.0000, 0.0000, 0.0000, 0.0000, 0.0000],\n",
      "         [0.1687, 0.8313, 0.0000, 0.0000, 0.0000, 0.0000, 0.0000, 0.0000],\n",
      "         [0.2477, 0.0514, 0.7008, 0.0000, 0.0000, 0.0000, 0.0000, 0.0000],\n",
      "         [0.4410, 0.0957, 0.3747, 0.0887, 0.0000, 0.0000, 0.0000, 0.0000],\n",
      "         [0.0069, 0.0456, 0.0300, 0.7748, 0.1427, 0.0000, 0.0000, 0.0000],\n",
      "         [0.0660, 0.0892, 0.0413, 0.6316, 0.1649, 0.0069, 0.0000, 0.0000],\n",
      "         [0.0396, 0.2288, 0.0090, 0.2000, 0.2061, 0.1949, 0.1217, 0.0000],\n",
      "         [0.3650, 0.0474, 0.0767, 0.0293, 0.3084, 0.0784, 0.0455, 0.0493]],\n",
      "\n",
      "        [[1.0000, 0.0000, 0.0000, 0.0000, 0.0000, 0.0000, 0.0000, 0.0000],\n",
      "         [0.4820, 0.5180, 0.0000, 0.0000, 0.0000, 0.0000, 0.0000, 0.0000],\n",
      "         [0.1705, 0.4550, 0.3745, 0.0000, 0.0000, 0.0000, 0.0000, 0.0000],\n",
      "         [0.0074, 0.7444, 0.0477, 0.2005, 0.0000, 0.0000, 0.0000, 0.0000],\n",
      "         [0.8359, 0.0416, 0.0525, 0.0580, 0.0119, 0.0000, 0.0000, 0.0000],\n",
      "         [0.1195, 0.2061, 0.1019, 0.1153, 0.1814, 0.2758, 0.0000, 0.0000],\n",
      "         [0.0065, 0.0589, 0.0372, 0.3063, 0.1325, 0.3209, 0.1378, 0.0000],\n",
      "         [0.1416, 0.1519, 0.0384, 0.1643, 0.1207, 0.1254, 0.0169, 0.2408]],\n",
      "\n",
      "        [[1.0000, 0.0000, 0.0000, 0.0000, 0.0000, 0.0000, 0.0000, 0.0000],\n",
      "         [0.6369, 0.3631, 0.0000, 0.0000, 0.0000, 0.0000, 0.0000, 0.0000],\n",
      "         [0.2586, 0.7376, 0.0038, 0.0000, 0.0000, 0.0000, 0.0000, 0.0000],\n",
      "         [0.4692, 0.3440, 0.1237, 0.0631, 0.0000, 0.0000, 0.0000, 0.0000],\n",
      "         [0.1865, 0.4680, 0.0353, 0.1854, 0.1248, 0.0000, 0.0000, 0.0000],\n",
      "         [0.0828, 0.7479, 0.0017, 0.0735, 0.0712, 0.0228, 0.0000, 0.0000],\n",
      "         [0.0522, 0.0517, 0.0961, 0.0375, 0.1024, 0.5730, 0.0872, 0.0000],\n",
      "         [0.0306, 0.2728, 0.0333, 0.1409, 0.1414, 0.0582, 0.0825, 0.2402]]],\n",
      "       grad_fn=<SoftmaxBackward0>)\n"
     ]
    },
    {
     "data": {
      "text/plain": [
       "torch.Size([4, 8, 16])"
      ]
     },
     "execution_count": 65,
     "metadata": {},
     "output_type": "execute_result"
    }
   ],
   "source": [
    "# Version 4 - self attention head\n",
    "\n",
    "torch.manual_seed(1337)\n",
    "B, T, C = 4, 8, 32\n",
    "x = torch.randn(B,T,C)\n",
    "\n",
    "# Don't actually want uniformity - data dependent way\n",
    "# Every single node / token at each position emits two vectors - query and key\n",
    "# Query vector - What am I looking for?\n",
    "# Key vector - What do I contain?\n",
    "# Getting affinities - dot product between keys and queries\n",
    "# Dot product Q and K becomes wei to learn about a token\n",
    "\n",
    "head_size = 16\n",
    "key = nn.Linear(C, head_size, bias = False)\n",
    "query = nn.Linear(C, head_size, bias = False)\n",
    "value = nn.Linear(C, head_size, bias = False)\n",
    "\n",
    "k = key(x) # (B, T, 16)\n",
    "q = query(x) # (B, T, 16)\n",
    "# All of them in parallel produce a key and query\n",
    "# Tranpose last dim, and second last\n",
    "wei = q @ k.transpose(-2, -1) # (B,T,16) @ (B,16,T) -> (B, T, T)\n",
    "\n",
    "\n",
    "tril = torch.tril(torch.ones(T,T))\n",
    "# wei = torch.zeros((T,T))\n",
    "wei = wei.masked_fill(tril == 0, float('-inf'))\n",
    "wei = F.softmax(wei, dim = -1)\n",
    "print(wei)\n",
    "\n",
    "# V is the elements aggregated\n",
    "# Attention is a communication mechanism\n",
    "# A number of nodes in a directed graph with edges pointed towards other nodes\n",
    "# Every node has a vector of information and gets to aggregate information via weighted sum in a data-dependent manner\n",
    "# Can think of a token as nodes, and previous nodes pointing to the token\n",
    "# Nodes have no idea where they are in the space\n",
    "# Elements across batch dimensions never talk to eachother\n",
    "# Not always should future tokens be zero'd out. \n",
    "# Encoder block - no trill\n",
    "# Decoder block - with trill\n",
    "# Self-attention - K, Q, V all come from the same source\n",
    "# Attention is more general - K and Q may come from other places\n",
    "# Cross attention - separate source of nodes to pool them into\n",
    "# Scaled attention - divide by sqrt(dk) to preserve the variance of wei\n",
    "# Softmax converges to one hot vectors. We do not want values to be too extreme\n",
    "\n",
    "v = value(x)\n",
    "out = wei @ v\n",
    "\n",
    "out.shape"
   ]
  },
  {
   "cell_type": "code",
   "execution_count": 66,
   "id": "e350831c-819f-4399-8a55-457e9f5e1ed7",
   "metadata": {},
   "outputs": [
    {
     "data": {
      "text/plain": [
       "tensor([[1.0000, 0.0000, 0.0000, 0.0000, 0.0000, 0.0000, 0.0000, 0.0000],\n",
       "        [0.1574, 0.8426, 0.0000, 0.0000, 0.0000, 0.0000, 0.0000, 0.0000],\n",
       "        [0.2088, 0.1646, 0.6266, 0.0000, 0.0000, 0.0000, 0.0000, 0.0000],\n",
       "        [0.5792, 0.1187, 0.1889, 0.1131, 0.0000, 0.0000, 0.0000, 0.0000],\n",
       "        [0.0294, 0.1052, 0.0469, 0.0276, 0.7909, 0.0000, 0.0000, 0.0000],\n",
       "        [0.0176, 0.2689, 0.0215, 0.0089, 0.6812, 0.0019, 0.0000, 0.0000],\n",
       "        [0.1691, 0.4066, 0.0438, 0.0416, 0.1048, 0.2012, 0.0329, 0.0000],\n",
       "        [0.0210, 0.0843, 0.0555, 0.2297, 0.0573, 0.0709, 0.2423, 0.2391]],\n",
       "       grad_fn=<SelectBackward0>)"
      ]
     },
     "execution_count": 66,
     "metadata": {},
     "output_type": "execute_result"
    }
   ],
   "source": [
    "wei[0] \n",
    "# If a token finds previous tokens interesting, more of its information will be aggregated as an affinity\n",
    "# Each instance of wei is encoded with the content and position"
   ]
  },
  {
   "cell_type": "code",
   "execution_count": null,
   "id": "50a5bf17-9b8a-454f-a9f1-0381974b707e",
   "metadata": {},
   "outputs": [],
   "source": [
    "# Multi-head attention - multiple heads in parallel"
   ]
  },
  {
   "cell_type": "code",
   "execution_count": null,
   "id": "dd91eb27-6f97-405c-a3fb-2880bd095351",
   "metadata": {},
   "outputs": [],
   "source": [
    "# Decoder-only transformer\n",
    "# Triangular mask on transformer - autoregressive property\n",
    "# Encoder - decoder for translation"
   ]
  }
 ],
 "metadata": {
  "kernelspec": {
   "display_name": "Python 3 (ipykernel)",
   "language": "python",
   "name": "python3"
  },
  "language_info": {
   "codemirror_mode": {
    "name": "ipython",
    "version": 3
   },
   "file_extension": ".py",
   "mimetype": "text/x-python",
   "name": "python",
   "nbconvert_exporter": "python",
   "pygments_lexer": "ipython3",
   "version": "3.11.7"
  }
 },
 "nbformat": 4,
 "nbformat_minor": 5
}
=======
{
 "cells": [
  {
   "cell_type": "code",
   "execution_count": 1,
   "id": "3179eebc-2fc6-4b93-b818-11136bb65112",
   "metadata": {},
   "outputs": [],
   "source": [
    "with open ('tiny-shakespeare.txt', 'r', encoding = 'utf-8') as f:\n",
    "    text = f.read()"
   ]
  },
  {
   "cell_type": "code",
   "execution_count": 2,
   "id": "a3ed91d7-5900-459b-8481-dd03b529d97e",
   "metadata": {},
   "outputs": [
    {
     "name": "stdout",
     "output_type": "stream",
     "text": [
      "1115394\n"
     ]
    }
   ],
   "source": [
    "print(len(text))"
   ]
  },
  {
   "cell_type": "code",
   "execution_count": 3,
   "id": "a5c5149c-a699-4d77-8f5d-da9946bdfe09",
   "metadata": {},
   "outputs": [
    {
     "name": "stdout",
     "output_type": "stream",
     "text": [
      "First Citizen:\n",
      "Before we proceed any further, hear me speak.\n",
      "\n",
      "All:\n",
      "Speak, speak.\n",
      "\n",
      "First Citizen:\n",
      "You are all resolved rather to die than to famish?\n",
      "\n",
      "All:\n",
      "Resolved. resolved.\n",
      "\n",
      "First Citizen:\n",
      "First, you know Caius Marcius is chief enemy to the people.\n",
      "\n",
      "All:\n",
      "We know't, we know't.\n",
      "\n",
      "First Citizen:\n",
      "Let us kill him, and we'll have corn at our own price.\n",
      "Is't a verdict?\n",
      "\n",
      "All:\n",
      "No more talking on't; let it be done: away, away!\n",
      "\n",
      "Second Citizen:\n",
      "One word, good citizens.\n",
      "\n",
      "First Citizen:\n",
      "We are accounted poor citizens, the patricians good.\n",
      "What authority surfeits on would relieve us: if they\n",
      "would yield us but the superfluity, while it were\n",
      "wholesome, we might guess they relieved us humanely;\n",
      "but they think we are too dear: the leanness that\n",
      "afflicts us, the object of our misery, is as an\n",
      "inventory to particularise their abundance; our\n",
      "sufferance is a gain to them Let us revenge this with\n",
      "our pikes, ere we become rakes: for the gods know I\n",
      "speak this in hunger for bread, not in thirst for revenge.\n",
      "\n",
      "\n"
     ]
    }
   ],
   "source": [
    "print(text[:1000])"
   ]
  },
  {
   "cell_type": "code",
   "execution_count": 4,
   "id": "41cf702c-0a5d-4db7-9c63-04770bf02175",
   "metadata": {},
   "outputs": [
    {
     "name": "stdout",
     "output_type": "stream",
     "text": [
      "\n",
      " !$&',-.3:;?ABCDEFGHIJKLMNOPQRSTUVWXYZabcdefghijklmnopqrstuvwxyz\n",
      "65\n"
     ]
    }
   ],
   "source": [
    "# Get the set of all characters that occur in the set - then call list to create this list, and then sort alphabetically\n",
    "# These are the possible characters our model can output\n",
    "\n",
    "# Set of characters\n",
    "chars = sorted(list(set(text)))\n",
    "vocab_size = len(chars)\n",
    "print(''.join(chars))\n",
    "print(vocab_size)\n"
   ]
  },
  {
   "cell_type": "code",
   "execution_count": 5,
   "id": "ebb3dd20-ce55-4f3d-ad9e-5b90eea032dd",
   "metadata": {},
   "outputs": [],
   "source": [
    "# Tokenize the input text\n",
    "# Convert thei input text into a sequence of numbers\n",
    "# Trans late individual characdters into integers\n",
    "# SentencePiece\n",
    "# OpenAI tiktoken\n",
    "\n",
    "# Build the encoder and decoder\n",
    "stoi = {ch:i for i,ch in enumerate(chars)}\n",
    "itos = {i:ch for i,ch in enumerate(chars)}\n",
    "\n",
    "# Encoded text function\n",
    "encode = lambda s: [stoi[c] for c in s] # Take a string, then output a vector\n",
    "\n",
    "# Decoded text function\n",
    "decode = lambda l: ''.join([itos[i] for i in l]) # Take a vector, output a string"
   ]
  },
  {
   "cell_type": "code",
   "execution_count": 7,
   "id": "8ff0b776-c4ad-4ea9-98e6-30700fb7384a",
   "metadata": {},
   "outputs": [],
   "source": [
    "import torch"
   ]
  },
  {
   "cell_type": "code",
   "execution_count": 8,
   "id": "48b455bb-a872-461d-96f2-7778e68a52ae",
   "metadata": {},
   "outputs": [
    {
     "data": {
      "text/plain": [
       "torch.Size([1115394])"
      ]
     },
     "execution_count": 8,
     "metadata": {},
     "output_type": "execute_result"
    }
   ],
   "source": [
    "# Convert our encoded text into a tensor (len(data) total)\n",
    "data = torch.tensor(encode(text), dtype = torch.long)\n",
    "data.shape"
   ]
  },
  {
   "cell_type": "code",
   "execution_count": 9,
   "id": "ffd23e9a-7868-4236-a237-a0dfa3a6cd21",
   "metadata": {},
   "outputs": [],
   "source": [
    "# 90% split\n",
    "n = int(0.9 * len(data))\n",
    "train_data = data[:n]\n",
    "val_data = data[:n]\n",
    "\n",
    "# Train on chunks (SGD)"
   ]
  },
  {
   "cell_type": "code",
   "execution_count": 72,
   "id": "a823e11a-183a-4e7e-bbe3-60775bba6efd",
   "metadata": {},
   "outputs": [
    {
     "data": {
      "text/plain": [
       "'First Citizen:\\nBefore we proceed any further, hear me speak.\\n\\nAll:\\nSpeak, speak.\\n\\nFirst Citizen:\\nYou'"
      ]
     },
     "execution_count": 72,
     "metadata": {},
     "output_type": "execute_result"
    }
   ],
   "source": [
    "decode(train_data[:100].tolist())"
   ]
  },
  {
   "cell_type": "code",
   "execution_count": 10,
   "id": "99ef774e-1524-4ebd-83a9-a6f834df8789",
   "metadata": {},
   "outputs": [
    {
     "data": {
      "text/plain": [
       "tensor([18, 47, 56, 57, 58,  1, 15, 47, 58])"
      ]
     },
     "execution_count": 10,
     "metadata": {},
     "output_type": "execute_result"
    }
   ],
   "source": [
    "block_size = 8\n",
    "# When training, we train for the transformer to make a prediction at every one of the 8 positions\n",
    "# The labels at each index in the x batch would be:\n",
    "train_data[:block_size + 1]"
   ]
  },
  {
   "cell_type": "code",
   "execution_count": 11,
   "id": "1b991c2d-ba4a-4a59-831f-e19f9a7f1777",
   "metadata": {},
   "outputs": [],
   "source": [
    "# In the context of 18, 47 comes next. In the context of 18, 47, 56 comes next"
   ]
  },
  {
   "cell_type": "code",
   "execution_count": 12,
   "id": "da8b1cb5-66c9-4d55-9792-8f7b9c00eff5",
   "metadata": {},
   "outputs": [
    {
     "name": "stdout",
     "output_type": "stream",
     "text": [
      " When input is tensor([18]) the target is 47\n",
      " When input is tensor([18, 47]) the target is 56\n",
      " When input is tensor([18, 47, 56]) the target is 57\n",
      " When input is tensor([18, 47, 56, 57]) the target is 58\n",
      " When input is tensor([18, 47, 56, 57, 58]) the target is 1\n",
      " When input is tensor([18, 47, 56, 57, 58,  1]) the target is 15\n",
      " When input is tensor([18, 47, 56, 57, 58,  1, 15]) the target is 47\n",
      " When input is tensor([18, 47, 56, 57, 58,  1, 15, 47]) the target is 58\n"
     ]
    }
   ],
   "source": [
    "x = train_data[:block_size]\n",
    "# Next characters, at every index in the block\n",
    "y = train_data[1: block_size+1]\n",
    "for t in range(block_size):\n",
    "    context = x[:t+1]\n",
    "    target = y[t]\n",
    "    print(f\" When input is {context} the target is {target}\")\n",
    "\n",
    "# For a block_size of n, there are n training examples"
   ]
  },
  {
   "cell_type": "code",
   "execution_count": 14,
   "id": "e1d0ec29-d132-4d79-8719-8fa3672e466c",
   "metadata": {},
   "outputs": [],
   "source": [
    "# We want the Transformer to see a size anywhere between 1 and 8\n",
    "# The Transformer should know how to predict even just one character"
   ]
  },
  {
   "cell_type": "code",
   "execution_count": 15,
   "id": "5ad54cb8-671e-49d3-a78c-c9a94c5dca4d",
   "metadata": {},
   "outputs": [],
   "source": [
    "# Process multiple chunks at the same time, but completely indepedently"
   ]
  },
  {
   "cell_type": "code",
   "execution_count": 77,
   "id": "821cb666-efa4-4820-8517-335fe05e92e7",
   "metadata": {},
   "outputs": [
    {
     "name": "stdout",
     "output_type": "stream",
     "text": [
      "inputs:\n",
      "torch.Size([4, 8])\n",
      "tensor([[43,  1, 51, 39, 63,  1, 40, 43],\n",
      "        [58, 46, 43,  1, 43, 39, 56, 57],\n",
      "        [39, 58, 47, 53, 52, 12,  1, 37],\n",
      "        [53, 56, 43,  1, 21,  1, 41, 39]])\n",
      "targets:\n",
      "torch.Size([4, 8])\n",
      "tensor([[ 1, 51, 39, 63,  1, 40, 43,  1],\n",
      "        [46, 43,  1, 43, 39, 56, 57, 10],\n",
      "        [58, 47, 53, 52, 12,  1, 37, 53],\n",
      "        [56, 43,  1, 21,  1, 41, 39, 51]])\n",
      "e may be\n",
      "the ears\n",
      "ation? Y\n",
      "ore I ca\n",
      " may be \n",
      "he ears:\n",
      "tion? Yo\n",
      "re I cam\n"
     ]
    }
   ],
   "source": [
    "batch_size = 4 # Total number of processes running in parallel\n",
    "block_size = 8 # Maximum content length for predictions\n",
    "\n",
    "def get_batch(split):\n",
    "    data = train_data if split == 'train' else val_data\n",
    "    # Generate random positions batch size number of random offsets\n",
    "    # @torch documentation\n",
    "    \n",
    "    # Generates 4 random numbers\n",
    "    ix = torch.randint(len(data) - block_size, (batch_size,))\n",
    "    # torch.stack stacks the plucked examples\n",
    "    # Each row represents a training example. Each column represents a word\n",
    "    x = torch.stack([data[i:i+block_size]  for i in ix])\n",
    "    # Offset by 1 to get the corresponding plucked labels\n",
    "    y = torch.stack([data[i+1:i+block_size+1]  for i in ix])\n",
    "    return x, y\n",
    "\n",
    "\n",
    "xb, yb = get_batch('train')\n",
    "print('inputs:')\n",
    "print(xb.shape)\n",
    "print(xb)\n",
    "\n",
    "print('targets:')\n",
    "print(yb.shape)\n",
    "print(yb)\n",
    "\n",
    "for i in range(batch_size):\n",
    "    print(decode(xb[i].tolist()))\n",
    "\n",
    "for i in range(batch_size):\n",
    "    print(decode(yb[i].tolist()))"
   ]
  },
  {
   "cell_type": "code",
   "execution_count": 17,
   "id": "5630c88e-a3cc-4368-9694-d6d7981eb00d",
   "metadata": {},
   "outputs": [
    {
     "name": "stdout",
     "output_type": "stream",
     "text": [
      "\n",
      "SKIcLT;AcELMoTbvZv C?nq-QE33:CJqkOKH-q;:la!oiywkHjgChzbQ?u!3bLIgwevmyFJGUGp\n",
      "wnYWmnxKWWev-tDqXErVKLgJ\n"
     ]
    }
   ],
   "source": [
    "# Bigram language model\n",
    "\n",
    "import torch\n",
    "import torch.nn as nn\n",
    "from torch.nn import functional as F\n",
    "torch.manual_seed(1337)\n",
    "\n",
    "# Inherits from nn.Module\n",
    "class BigramLanguageModel(nn.Module):\n",
    "    def __init__(self, vocab_size):\n",
    "        super().__init__()\n",
    "        # Creating embedding table (vocab size x vocab size) -> maps token ID to corresponding embedding vector (1, vocab_size)\n",
    "        self.token_embedding_table = nn.Embedding(vocab_size, vocab_size)\n",
    "\n",
    "    def forward(self, idx, targets=None):\n",
    "        # idx is a tensor of shape (B,T) and so is targets\n",
    "\n",
    "        # Convert idx into corresponding embeddings (B, T, C)\n",
    "        logits = self.token_embedding_table(idx) # (B, T, C) for batch, time, channel\n",
    "        # The time channel denotes the ability for the language model to use multiple training examples, from just one row in a batch\n",
    "        # Scores for next character in the sequence\n",
    "\n",
    "        if targets is None:\n",
    "            loss = None\n",
    "            \n",
    "        else:\n",
    "            # Reshaping for the loss function in PyTorch\n",
    "            B, T, C = logits.shape\n",
    "            logits = logits.view(B * T, C) # Flattens out in the 1st dimension\n",
    "            # For every row, compute loss (B * T inputs, B * T labels)\n",
    "            targets = targets.view(B * T)\n",
    "            \n",
    "            # Use cross-entropy loss function (expects 2D arrays)\n",
    "            loss = F.cross_entropy(logits, targets)\n",
    "        \n",
    "        return logits, loss\n",
    "\n",
    "    def generate(self, idx, max_new_tokens):\n",
    "        # idx is (B, T) array of indices\n",
    "        for _ in range (max_new_tokens):\n",
    "            logits, loss = self(idx) # Get predictions\n",
    "            \n",
    "            # Extracts the logits from the last time_step in every iteration (given idx as input)\n",
    "            logits = logits[:, -1, :] # (B, C)\n",
    "            probs = F.softmax(logits, dim = -1) #(B, C)\n",
    "            idx_next = torch.multinomial(probs, num_samples = 1) # (B, 1)\n",
    "            idx = torch.cat((idx, idx_next), dim = 1) # (B, T + 1)\n",
    "        return idx\n",
    "\n",
    "\n",
    "m = BigramLanguageModel(vocab_size)\n",
    "\n",
    "# PyTorch automatically computes forward if you pass in arguments like this\n",
    "logits, loss = m(xb, yb)\n",
    "# print(logits.shape)\n",
    "# print(loss)\n",
    "\n",
    "\n",
    "# Create a 1x1 tensor, holding a zero. Pass this in to generate method\n",
    "print(decode(m.generate(idx = torch.zeros((1,1), dtype = torch.long), max_new_tokens = 100)[0].tolist()))"
   ]
  },
  {
   "cell_type": "code",
   "execution_count": 18,
   "id": "02dc2b2a-b6c5-40a0-aec4-aae024618177",
   "metadata": {},
   "outputs": [],
   "source": [
    "# Create a PyTorch optimizer\n",
    "optimizer = torch.optim.AdamW(m.parameters(), lr = 1e-3)"
   ]
  },
  {
   "cell_type": "code",
   "execution_count": 24,
   "id": "d3ff9117-ebb9-4fc3-ae49-870e391c14e6",
   "metadata": {},
   "outputs": [
    {
     "name": "stdout",
     "output_type": "stream",
     "text": [
      "2.521601438522339\n"
     ]
    }
   ],
   "source": [
    "batch_size = 32\n",
    "for steps in range (1000):\n",
    "    xb, yb = get_batch('train')\n",
    "\n",
    "    logits, loss = m(xb, yb)\n",
    "    optimizer.zero_grad(set_to_none = True)\n",
    "    loss.backward()\n",
    "    optimizer.step()\n",
    "\n",
    "print(loss.item())"
   ]
  },
  {
   "cell_type": "code",
   "execution_count": 25,
   "id": "8e877126-30e1-4136-8050-33d403c75b2d",
   "metadata": {},
   "outputs": [
    {
     "name": "stdout",
     "output_type": "stream",
     "text": [
      "\n",
      "\n",
      "I w!AUCUNSome! b!\n",
      "nfry andilk!an!\n",
      "DITh\n",
      "If inoinoth hithcot; e zCAr,\n",
      "june, thes aithak;E:\n",
      "\n",
      "Sen ing ve ce athly wnd hit ve teogs se.\n",
      "VOUMpbe havefulpimngUFLUGott and:\n",
      "ARIUSa-PHEENV\n",
      "PE:\n",
      "Ap arotegnYBupre found do de r s; gq-rilarckememeve hu tDUxfonsopouQUCl:&PHai\n",
      "Agr tylo o'\n",
      "\n",
      "Nof3ullicdfoThiscolly s3Q\n"
     ]
    }
   ],
   "source": [
    "print(decode(m.generate(idx = torch.zeros((1,1), dtype = torch.long), max_new_tokens = 300)[0].tolist()))"
   ]
  },
  {
   "cell_type": "markdown",
   "id": "1a971afe-8d35-45da-aeb3-b5a460621761",
   "metadata": {},
   "source": [
    "### Self Attention"
   ]
  },
  {
   "cell_type": "code",
   "execution_count": 53,
   "id": "4201f425-5e8d-4e37-b6b0-5f752b66513b",
   "metadata": {},
   "outputs": [
    {
     "data": {
      "text/plain": [
       "torch.Size([4, 8, 2])"
      ]
     },
     "execution_count": 53,
     "metadata": {},
     "output_type": "execute_result"
    }
   ],
   "source": [
    "# Mathematical trick\n",
    "# 8 tokens should \"talk to eachother\"\n",
    "# 8 tokens at an index should only talk to tokens before it (previous context to current timestep)\n",
    "torch.manual_seed(1337)\n",
    "B, T, C  = 4, 8, 2\n",
    "x = torch.randn(B,T,C)\n",
    "x.shape"
   ]
  },
  {
   "cell_type": "code",
   "execution_count": null,
   "id": "6516caec-7521-4e44-a967-1c01e9b1ff21",
   "metadata": {},
   "outputs": [],
   "source": [
    "# Easiest way for tokens to communicate with its past is to do an average of the preceding elements\n",
    "# Take channels from one step, and average channels from previous steps that summarizes features for example"
   ]
  },
  {
   "cell_type": "code",
   "execution_count": 58,
   "id": "4da49cef-56f5-407a-a3df-f4ee32996354",
   "metadata": {},
   "outputs": [
    {
     "name": "stdout",
     "output_type": "stream",
     "text": [
      "torch.Size([2])\n",
      "torch.Size([2])\n",
      "torch.Size([2])\n",
      "torch.Size([2])\n",
      "torch.Size([2])\n",
      "torch.Size([2])\n",
      "torch.Size([2])\n",
      "torch.Size([2])\n",
      "torch.Size([2])\n",
      "torch.Size([2])\n",
      "torch.Size([2])\n",
      "torch.Size([2])\n",
      "torch.Size([2])\n",
      "torch.Size([2])\n",
      "torch.Size([2])\n",
      "torch.Size([2])\n",
      "torch.Size([2])\n",
      "torch.Size([2])\n",
      "torch.Size([2])\n",
      "torch.Size([2])\n",
      "torch.Size([2])\n",
      "torch.Size([2])\n",
      "torch.Size([2])\n",
      "torch.Size([2])\n",
      "torch.Size([2])\n",
      "torch.Size([2])\n",
      "torch.Size([2])\n",
      "torch.Size([2])\n",
      "torch.Size([2])\n",
      "torch.Size([2])\n",
      "torch.Size([2])\n",
      "torch.Size([2])\n"
     ]
    }
   ],
   "source": [
    "# Version 1\n",
    "# x[b,t] = mean {i<=t} x[b,i]\n",
    "# Bag of words\n",
    "# Weighted aggregation\n",
    "xbow = torch.zeros((B,T,C))\n",
    "for b in range (B):\n",
    "    for t in range (T):\n",
    "        # Previous dimensions are everything in the batch, up to and including the t'th token\n",
    "        # This line gets all of the last dimension channels aswell\n",
    "        xprev = x[b,:t+1] # (t, C)\n",
    "        # print(xprev.shape)\n",
    "        # Average over the zero dimension\n",
    "        xbow[b,t] = torch.mean(xprev,0) # (1, C)\n",
    "        print(xbow[b,t].shape)"
   ]
  },
  {
   "cell_type": "code",
   "execution_count": 63,
   "id": "4b21089c-05f9-486c-a0b7-55784e532597",
   "metadata": {},
   "outputs": [
    {
     "name": "stdout",
     "output_type": "stream",
     "text": [
      "tensor([[1.0000, 0.0000, 0.0000, 0.0000, 0.0000, 0.0000, 0.0000, 0.0000],\n",
      "        [0.5000, 0.5000, 0.0000, 0.0000, 0.0000, 0.0000, 0.0000, 0.0000],\n",
      "        [0.3333, 0.3333, 0.3333, 0.0000, 0.0000, 0.0000, 0.0000, 0.0000],\n",
      "        [0.2500, 0.2500, 0.2500, 0.2500, 0.0000, 0.0000, 0.0000, 0.0000],\n",
      "        [0.2000, 0.2000, 0.2000, 0.2000, 0.2000, 0.0000, 0.0000, 0.0000],\n",
      "        [0.1667, 0.1667, 0.1667, 0.1667, 0.1667, 0.1667, 0.0000, 0.0000],\n",
      "        [0.1429, 0.1429, 0.1429, 0.1429, 0.1429, 0.1429, 0.1429, 0.0000],\n",
      "        [0.1250, 0.1250, 0.1250, 0.1250, 0.1250, 0.1250, 0.1250, 0.1250]])\n"
     ]
    },
    {
     "data": {
      "text/plain": [
       "True"
      ]
     },
     "execution_count": 63,
     "metadata": {},
     "output_type": "execute_result"
    }
   ],
   "source": [
    "# Version 2\n",
    "wei = torch.tril(torch.ones(T,T))\n",
    "wei = wei / wei.sum(1, keepdim = True)\n",
    "# How much of every row we want to average up\n",
    "print(wei)\n",
    "\n",
    "# Applies for all batches\n",
    "xbow2 = wei @ x # (B, T, T) @ (B, T, C) = (B, T, C)\n",
    "# Show that both operations are doing the same thing\n",
    "torch.allclose(xbow, xbow2)"
   ]
  },
  {
   "cell_type": "code",
   "execution_count": 64,
   "id": "eb412570-3d5e-4d74-a599-46f66a1de453",
   "metadata": {},
   "outputs": [
    {
     "name": "stdout",
     "output_type": "stream",
     "text": [
      "tensor([[0., -inf, -inf, -inf, -inf, -inf, -inf, -inf],\n",
      "        [0., 0., -inf, -inf, -inf, -inf, -inf, -inf],\n",
      "        [0., 0., 0., -inf, -inf, -inf, -inf, -inf],\n",
      "        [0., 0., 0., 0., -inf, -inf, -inf, -inf],\n",
      "        [0., 0., 0., 0., 0., -inf, -inf, -inf],\n",
      "        [0., 0., 0., 0., 0., 0., -inf, -inf],\n",
      "        [0., 0., 0., 0., 0., 0., 0., -inf],\n",
      "        [0., 0., 0., 0., 0., 0., 0., 0.]])\n",
      "tensor([[1.0000, 0.0000, 0.0000, 0.0000, 0.0000, 0.0000, 0.0000, 0.0000],\n",
      "        [0.5000, 0.5000, 0.0000, 0.0000, 0.0000, 0.0000, 0.0000, 0.0000],\n",
      "        [0.3333, 0.3333, 0.3333, 0.0000, 0.0000, 0.0000, 0.0000, 0.0000],\n",
      "        [0.2500, 0.2500, 0.2500, 0.2500, 0.0000, 0.0000, 0.0000, 0.0000],\n",
      "        [0.2000, 0.2000, 0.2000, 0.2000, 0.2000, 0.0000, 0.0000, 0.0000],\n",
      "        [0.1667, 0.1667, 0.1667, 0.1667, 0.1667, 0.1667, 0.0000, 0.0000],\n",
      "        [0.1429, 0.1429, 0.1429, 0.1429, 0.1429, 0.1429, 0.1429, 0.0000],\n",
      "        [0.1250, 0.1250, 0.1250, 0.1250, 0.1250, 0.1250, 0.1250, 0.1250]])\n"
     ]
    },
    {
     "data": {
      "text/plain": [
       "True"
      ]
     },
     "execution_count": 64,
     "metadata": {},
     "output_type": "execute_result"
    }
   ],
   "source": [
    "# Version 3 - softmax\n",
    "tril = torch.tril(torch.ones(T,T))\n",
    "# Weights begin at zero. How much of tokens from past do we want to add\n",
    "wei = torch.zeros((T,T))\n",
    "# Tokens from the future cannot communicate\n",
    "wei = wei.masked_fill(tril == 0, float('-inf'))\n",
    "print(wei)\n",
    "wei = F.softmax(wei, dim = 1)\n",
    "xbow3 = wei @ x\n",
    "print(wei)\n",
    "torch.allclose(xbow, xbow3)"
   ]
  },
  {
   "cell_type": "code",
   "execution_count": 91,
   "id": "ac9ed000-1a4e-4b85-88bf-9aeaba546dc5",
   "metadata": {},
   "outputs": [
    {
     "data": {
      "text/plain": [
       "tensor([[1.0000, 0.0000, 0.0000, 0.0000, 0.0000, 0.0000, 0.0000, 0.0000],\n",
       "        [0.5000, 0.5000, 0.0000, 0.0000, 0.0000, 0.0000, 0.0000, 0.0000],\n",
       "        [0.3333, 0.3333, 0.3333, 0.0000, 0.0000, 0.0000, 0.0000, 0.0000],\n",
       "        [0.2500, 0.2500, 0.2500, 0.2500, 0.0000, 0.0000, 0.0000, 0.0000],\n",
       "        [0.2000, 0.2000, 0.2000, 0.2000, 0.2000, 0.0000, 0.0000, 0.0000],\n",
       "        [0.1667, 0.1667, 0.1667, 0.1667, 0.1667, 0.1667, 0.0000, 0.0000],\n",
       "        [0.1429, 0.1429, 0.1429, 0.1429, 0.1429, 0.1429, 0.1429, 0.0000],\n",
       "        [0.1250, 0.1250, 0.1250, 0.1250, 0.1250, 0.1250, 0.1250, 0.1250]])"
      ]
     },
     "execution_count": 91,
     "metadata": {},
     "output_type": "execute_result"
    }
   ],
   "source": [
    "wei"
   ]
  },
  {
   "cell_type": "code",
   "execution_count": 89,
   "id": "220dcb4e-600b-46af-98d8-eb081960aa60",
   "metadata": {},
   "outputs": [
    {
     "data": {
      "text/plain": [
       "(tensor([[ 0.1808, -0.0700],\n",
       "         [-0.0894, -0.4926],\n",
       "         [ 0.1490, -0.3199],\n",
       "         [ 0.3504, -0.2238],\n",
       "         [ 0.3525,  0.0545],\n",
       "         [ 0.0688, -0.0396],\n",
       "         [ 0.0927, -0.0682],\n",
       "         [-0.0341,  0.1332]]),\n",
       " tensor([[ 0.1808, -0.0700],\n",
       "         [-0.0894, -0.4926],\n",
       "         [ 0.1490, -0.3199],\n",
       "         [ 0.3504, -0.2238],\n",
       "         [ 0.3525,  0.0545],\n",
       "         [ 0.0688, -0.0396],\n",
       "         [ 0.0927, -0.0682],\n",
       "         [-0.0341,  0.1332]]))"
      ]
     },
     "execution_count": 89,
     "metadata": {},
     "output_type": "execute_result"
    }
   ],
   "source": [
    "# Show both are identical\n",
    "xbow[0], xbow2[0]"
   ]
  },
  {
   "cell_type": "code",
   "execution_count": 79,
   "id": "ea3ca950-b0b2-4a66-a8e8-7053aed4f7b4",
   "metadata": {},
   "outputs": [
    {
     "data": {
      "text/plain": [
       "tensor([[ 0.1808, -0.0700],\n",
       "        [-0.3596, -0.9152],\n",
       "        [ 0.6258,  0.0255],\n",
       "        [ 0.9545,  0.0643],\n",
       "        [ 0.3612,  1.1679],\n",
       "        [-1.3499, -0.5102],\n",
       "        [ 0.2360, -0.2398],\n",
       "        [-0.9211,  1.5433]])"
      ]
     },
     "execution_count": 79,
     "metadata": {},
     "output_type": "execute_result"
    }
   ],
   "source": [
    "x[0]"
   ]
  },
  {
   "cell_type": "code",
   "execution_count": 80,
   "id": "a602283e-b1ec-453a-a922-8df4440b089d",
   "metadata": {},
   "outputs": [
    {
     "data": {
      "text/plain": [
       "tensor([[ 0.1808, -0.0700],\n",
       "        [-0.0894, -0.4926],\n",
       "        [ 0.1490, -0.3199],\n",
       "        [ 0.3504, -0.2238],\n",
       "        [ 0.3525,  0.0545],\n",
       "        [ 0.0688, -0.0396],\n",
       "        [ 0.0927, -0.0682],\n",
       "        [-0.0341,  0.1332]])"
      ]
     },
     "execution_count": 80,
     "metadata": {},
     "output_type": "execute_result"
    }
   ],
   "source": [
    "xbow[0]"
   ]
  },
  {
   "cell_type": "code",
   "execution_count": 84,
   "id": "49859c34-a1e3-4d68-bb2d-0b0e0ee5b71f",
   "metadata": {},
   "outputs": [
    {
     "name": "stdout",
     "output_type": "stream",
     "text": [
      "a= \n",
      "tensor([[1.0000, 0.0000, 0.0000],\n",
      "        [0.5000, 0.5000, 0.0000],\n",
      "        [0.3333, 0.3333, 0.3333]])\n",
      "b= \n",
      "tensor([[2., 7.],\n",
      "        [6., 4.],\n",
      "        [6., 5.]])\n",
      "c= \n",
      "tensor([[2.0000, 7.0000],\n",
      "        [4.0000, 5.5000],\n",
      "        [4.6667, 5.3333]])\n"
     ]
    }
   ],
   "source": [
    "torch.manual_seed(42)\n",
    "# a = torch.ones(3,3)\n",
    "a = torch.tril(torch.ones(3,3))\n",
    "a = a / torch.sum(a, 1, keepdim = True)\n",
    "b = torch.randint(0,10,(3,2)).float()\n",
    "c = a @ b\n",
    "print( 'a= ')\n",
    "print(a)\n",
    "print( 'b= ')\n",
    "print(b)\n",
    "print( 'c= ')\n",
    "print(c)"
   ]
  },
  {
   "cell_type": "code",
   "execution_count": 82,
   "id": "e9e11b5d-66a5-46e6-8504-7eaa141a6ced",
   "metadata": {},
   "outputs": [
    {
     "data": {
      "text/plain": [
       "tensor([[1., 0., 0.],\n",
       "        [1., 1., 0.],\n",
       "        [1., 1., 1.]])"
      ]
     },
     "execution_count": 82,
     "metadata": {},
     "output_type": "execute_result"
    }
   ],
   "source": [
    "torch.tril(torch.ones(3,3))\n",
    "# Can normalize rows to sum to 1!\n",
    "# Triangular lower portion of ones"
   ]
  },
  {
   "cell_type": "code",
   "execution_count": 65,
   "id": "649351d2-b909-452f-9914-c73b24d861e3",
   "metadata": {},
   "outputs": [
    {
     "name": "stdout",
     "output_type": "stream",
     "text": [
      "tensor([[[1.0000, 0.0000, 0.0000, 0.0000, 0.0000, 0.0000, 0.0000, 0.0000],\n",
      "         [0.1574, 0.8426, 0.0000, 0.0000, 0.0000, 0.0000, 0.0000, 0.0000],\n",
      "         [0.2088, 0.1646, 0.6266, 0.0000, 0.0000, 0.0000, 0.0000, 0.0000],\n",
      "         [0.5792, 0.1187, 0.1889, 0.1131, 0.0000, 0.0000, 0.0000, 0.0000],\n",
      "         [0.0294, 0.1052, 0.0469, 0.0276, 0.7909, 0.0000, 0.0000, 0.0000],\n",
      "         [0.0176, 0.2689, 0.0215, 0.0089, 0.6812, 0.0019, 0.0000, 0.0000],\n",
      "         [0.1691, 0.4066, 0.0438, 0.0416, 0.1048, 0.2012, 0.0329, 0.0000],\n",
      "         [0.0210, 0.0843, 0.0555, 0.2297, 0.0573, 0.0709, 0.2423, 0.2391]],\n",
      "\n",
      "        [[1.0000, 0.0000, 0.0000, 0.0000, 0.0000, 0.0000, 0.0000, 0.0000],\n",
      "         [0.1687, 0.8313, 0.0000, 0.0000, 0.0000, 0.0000, 0.0000, 0.0000],\n",
      "         [0.2477, 0.0514, 0.7008, 0.0000, 0.0000, 0.0000, 0.0000, 0.0000],\n",
      "         [0.4410, 0.0957, 0.3747, 0.0887, 0.0000, 0.0000, 0.0000, 0.0000],\n",
      "         [0.0069, 0.0456, 0.0300, 0.7748, 0.1427, 0.0000, 0.0000, 0.0000],\n",
      "         [0.0660, 0.0892, 0.0413, 0.6316, 0.1649, 0.0069, 0.0000, 0.0000],\n",
      "         [0.0396, 0.2288, 0.0090, 0.2000, 0.2061, 0.1949, 0.1217, 0.0000],\n",
      "         [0.3650, 0.0474, 0.0767, 0.0293, 0.3084, 0.0784, 0.0455, 0.0493]],\n",
      "\n",
      "        [[1.0000, 0.0000, 0.0000, 0.0000, 0.0000, 0.0000, 0.0000, 0.0000],\n",
      "         [0.4820, 0.5180, 0.0000, 0.0000, 0.0000, 0.0000, 0.0000, 0.0000],\n",
      "         [0.1705, 0.4550, 0.3745, 0.0000, 0.0000, 0.0000, 0.0000, 0.0000],\n",
      "         [0.0074, 0.7444, 0.0477, 0.2005, 0.0000, 0.0000, 0.0000, 0.0000],\n",
      "         [0.8359, 0.0416, 0.0525, 0.0580, 0.0119, 0.0000, 0.0000, 0.0000],\n",
      "         [0.1195, 0.2061, 0.1019, 0.1153, 0.1814, 0.2758, 0.0000, 0.0000],\n",
      "         [0.0065, 0.0589, 0.0372, 0.3063, 0.1325, 0.3209, 0.1378, 0.0000],\n",
      "         [0.1416, 0.1519, 0.0384, 0.1643, 0.1207, 0.1254, 0.0169, 0.2408]],\n",
      "\n",
      "        [[1.0000, 0.0000, 0.0000, 0.0000, 0.0000, 0.0000, 0.0000, 0.0000],\n",
      "         [0.6369, 0.3631, 0.0000, 0.0000, 0.0000, 0.0000, 0.0000, 0.0000],\n",
      "         [0.2586, 0.7376, 0.0038, 0.0000, 0.0000, 0.0000, 0.0000, 0.0000],\n",
      "         [0.4692, 0.3440, 0.1237, 0.0631, 0.0000, 0.0000, 0.0000, 0.0000],\n",
      "         [0.1865, 0.4680, 0.0353, 0.1854, 0.1248, 0.0000, 0.0000, 0.0000],\n",
      "         [0.0828, 0.7479, 0.0017, 0.0735, 0.0712, 0.0228, 0.0000, 0.0000],\n",
      "         [0.0522, 0.0517, 0.0961, 0.0375, 0.1024, 0.5730, 0.0872, 0.0000],\n",
      "         [0.0306, 0.2728, 0.0333, 0.1409, 0.1414, 0.0582, 0.0825, 0.2402]]],\n",
      "       grad_fn=<SoftmaxBackward0>)\n"
     ]
    },
    {
     "data": {
      "text/plain": [
       "torch.Size([4, 8, 16])"
      ]
     },
     "execution_count": 65,
     "metadata": {},
     "output_type": "execute_result"
    }
   ],
   "source": [
    "# Version 4 - self attention head\n",
    "\n",
    "torch.manual_seed(1337)\n",
    "B, T, C = 4, 8, 32\n",
    "x = torch.randn(B,T,C)\n",
    "\n",
    "# Don't actually want uniformity - data dependent way\n",
    "# Every single node / token at each position emits two vectors - query and key\n",
    "# Query vector - What am I looking for?\n",
    "# Key vector - What do I contain?\n",
    "# Getting affinities - dot product between keys and queries\n",
    "# Dot product Q and K becomes wei to learn about a token\n",
    "\n",
    "head_size = 16\n",
    "key = nn.Linear(C, head_size, bias = False)\n",
    "query = nn.Linear(C, head_size, bias = False)\n",
    "value = nn.Linear(C, head_size, bias = False)\n",
    "\n",
    "k = key(x) # (B, T, 16)\n",
    "q = query(x) # (B, T, 16)\n",
    "# All of them in parallel produce a key and query\n",
    "# Tranpose last dim, and second last\n",
    "wei = q @ k.transpose(-2, -1) # (B,T,16) @ (B,16,T) -> (B, T, T)\n",
    "\n",
    "\n",
    "tril = torch.tril(torch.ones(T,T))\n",
    "# wei = torch.zeros((T,T))\n",
    "wei = wei.masked_fill(tril == 0, float('-inf'))\n",
    "wei = F.softmax(wei, dim = -1)\n",
    "print(wei)\n",
    "\n",
    "# V is the elements aggregated\n",
    "# Attention is a communication mechanism\n",
    "# A number of nodes in a directed graph with edges pointed towards other nodes\n",
    "# Every node has a vector of information and gets to aggregate information via weighted sum in a data-dependent manner\n",
    "# Can think of a token as nodes, and previous nodes pointing to the token\n",
    "# Nodes have no idea where they are in the space\n",
    "# Elements across batch dimensions never talk to eachother\n",
    "# Not always should future tokens be zero'd out. \n",
    "# Encoder block - no trill\n",
    "# Decoder block - with trill\n",
    "# Self-attention - K, Q, V all come from the same source\n",
    "# Attention is more general - K and Q may come from other places\n",
    "# Cross attention - separate source of nodes to pool them into\n",
    "# Scaled attention - divide by sqrt(dk) to preserve the variance of wei\n",
    "# Softmax converges to one hot vectors. We do not want values to be too extreme\n",
    "\n",
    "v = value(x)\n",
    "out = wei @ v\n",
    "\n",
    "out.shape"
   ]
  },
  {
   "cell_type": "code",
   "execution_count": 66,
   "id": "e350831c-819f-4399-8a55-457e9f5e1ed7",
   "metadata": {},
   "outputs": [
    {
     "data": {
      "text/plain": [
       "tensor([[1.0000, 0.0000, 0.0000, 0.0000, 0.0000, 0.0000, 0.0000, 0.0000],\n",
       "        [0.1574, 0.8426, 0.0000, 0.0000, 0.0000, 0.0000, 0.0000, 0.0000],\n",
       "        [0.2088, 0.1646, 0.6266, 0.0000, 0.0000, 0.0000, 0.0000, 0.0000],\n",
       "        [0.5792, 0.1187, 0.1889, 0.1131, 0.0000, 0.0000, 0.0000, 0.0000],\n",
       "        [0.0294, 0.1052, 0.0469, 0.0276, 0.7909, 0.0000, 0.0000, 0.0000],\n",
       "        [0.0176, 0.2689, 0.0215, 0.0089, 0.6812, 0.0019, 0.0000, 0.0000],\n",
       "        [0.1691, 0.4066, 0.0438, 0.0416, 0.1048, 0.2012, 0.0329, 0.0000],\n",
       "        [0.0210, 0.0843, 0.0555, 0.2297, 0.0573, 0.0709, 0.2423, 0.2391]],\n",
       "       grad_fn=<SelectBackward0>)"
      ]
     },
     "execution_count": 66,
     "metadata": {},
     "output_type": "execute_result"
    }
   ],
   "source": [
    "wei[0] \n",
    "# If a token finds previous tokens interesting, more of its information will be aggregated as an affinity\n",
    "# Each instance of wei is encoded with the content and position"
   ]
  },
  {
   "cell_type": "code",
   "execution_count": null,
   "id": "50a5bf17-9b8a-454f-a9f1-0381974b707e",
   "metadata": {},
   "outputs": [],
   "source": [
    "# Multi-head attention - multiple heads in parallel"
   ]
  },
  {
   "cell_type": "code",
   "execution_count": null,
   "id": "dd91eb27-6f97-405c-a3fb-2880bd095351",
   "metadata": {},
   "outputs": [],
   "source": [
    "# Decoder-only transformer\n",
    "# Triangular mask on transformer - autoregressive property\n",
    "# Encoder - decoder for translation"
   ]
  }
 ],
 "metadata": {
  "kernelspec": {
   "display_name": "Python 3 (ipykernel)",
   "language": "python",
   "name": "python3"
  },
  "language_info": {
   "codemirror_mode": {
    "name": "ipython",
    "version": 3
   },
   "file_extension": ".py",
   "mimetype": "text/x-python",
   "name": "python",
   "nbconvert_exporter": "python",
   "pygments_lexer": "ipython3",
   "version": "3.11.7"
  }
 },
 "nbformat": 4,
 "nbformat_minor": 5
}

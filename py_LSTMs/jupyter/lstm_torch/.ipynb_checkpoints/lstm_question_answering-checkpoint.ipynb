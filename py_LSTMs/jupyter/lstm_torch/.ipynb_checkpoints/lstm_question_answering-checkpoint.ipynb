{
 "cells": [
  {
   "cell_type": "code",
   "execution_count": 1,
   "id": "2e84e255",
   "metadata": {},
   "outputs": [
    {
     "name": "stderr",
     "output_type": "stream",
     "text": [
      "/home/kennykguo/anaconda3/envs/deep-learning/lib/python3.8/site-packages/torchtext/datasets/__init__.py:4: UserWarning: \n",
      "/!\\ IMPORTANT WARNING ABOUT TORCHTEXT STATUS /!\\ \n",
      "Torchtext is deprecated and the last released version will be 0.18 (this one). You can silence this warning by calling the following at the beginnign of your scripts: `import torchtext; torchtext.disable_torchtext_deprecation_warning()`\n",
      "  warnings.warn(torchtext._TORCHTEXT_DEPRECATION_MSG)\n",
      "/home/kennykguo/anaconda3/envs/deep-learning/lib/python3.8/site-packages/torchtext/data/__init__.py:4: UserWarning: \n",
      "/!\\ IMPORTANT WARNING ABOUT TORCHTEXT STATUS /!\\ \n",
      "Torchtext is deprecated and the last released version will be 0.18 (this one). You can silence this warning by calling the following at the beginnign of your scripts: `import torchtext; torchtext.disable_torchtext_deprecation_warning()`\n",
      "  warnings.warn(torchtext._TORCHTEXT_DEPRECATION_MSG)\n",
      "/home/kennykguo/anaconda3/envs/deep-learning/lib/python3.8/site-packages/torchtext/vocab/__init__.py:4: UserWarning: \n",
      "/!\\ IMPORTANT WARNING ABOUT TORCHTEXT STATUS /!\\ \n",
      "Torchtext is deprecated and the last released version will be 0.18 (this one). You can silence this warning by calling the following at the beginnign of your scripts: `import torchtext; torchtext.disable_torchtext_deprecation_warning()`\n",
      "  warnings.warn(torchtext._TORCHTEXT_DEPRECATION_MSG)\n",
      "/home/kennykguo/anaconda3/envs/deep-learning/lib/python3.8/site-packages/torchtext/utils.py:4: UserWarning: \n",
      "/!\\ IMPORTANT WARNING ABOUT TORCHTEXT STATUS /!\\ \n",
      "Torchtext is deprecated and the last released version will be 0.18 (this one). You can silence this warning by calling the following at the beginnign of your scripts: `import torchtext; torchtext.disable_torchtext_deprecation_warning()`\n",
      "  warnings.warn(torchtext._TORCHTEXT_DEPRECATION_MSG)\n",
      "/home/kennykguo/anaconda3/envs/deep-learning/lib/python3.8/site-packages/torchtext/transforms.py:4: UserWarning: \n",
      "/!\\ IMPORTANT WARNING ABOUT TORCHTEXT STATUS /!\\ \n",
      "Torchtext is deprecated and the last released version will be 0.18 (this one). You can silence this warning by calling the following at the beginnign of your scripts: `import torchtext; torchtext.disable_torchtext_deprecation_warning()`\n",
      "  warnings.warn(torchtext._TORCHTEXT_DEPRECATION_MSG)\n",
      "/home/kennykguo/anaconda3/envs/deep-learning/lib/python3.8/site-packages/torchtext/functional.py:4: UserWarning: \n",
      "/!\\ IMPORTANT WARNING ABOUT TORCHTEXT STATUS /!\\ \n",
      "Torchtext is deprecated and the last released version will be 0.18 (this one). You can silence this warning by calling the following at the beginnign of your scripts: `import torchtext; torchtext.disable_torchtext_deprecation_warning()`\n",
      "  warnings.warn(torchtext._TORCHTEXT_DEPRECATION_MSG)\n"
     ]
    }
   ],
   "source": [
    "import pandas as pd\n",
    "import numpy as np\n",
    "import matplotlib.pyplot as plt\n",
    "import os\n",
    "import io\n",
    "import re\n",
    "import random\n",
    "\n",
    "import torch\n",
    "import torch.nn as nn\n",
    "from torch import optim\n",
    "from torch.utils.data import DataLoader\n",
    "from torch.utils.data.dataset import Dataset\n",
    "import torch.nn.functional as F\n",
    "from torch.distributions import Categorical\n",
    "\n",
    "from torchtext.datasets import YahooAnswers\n",
    "from torchtext.data.utils import get_tokenizer\n",
    "from torchtext.vocab import build_vocab_from_iterator\n",
    "import torchtext.transforms as T\n",
    "from torch.hub import load_state_dict_from_url\n",
    "from torchtext.data.functional import sentencepiece_tokenizer, load_sp_model, generate_sp_model\n",
    "\n",
    "from tqdm import trange, tqdm"
   ]
  },
  {
   "cell_type": "code",
   "execution_count": 2,
   "id": "44d70b17",
   "metadata": {},
   "outputs": [],
   "source": [
    "learning_rate = 1e-4\n",
    "\n",
    "nepochs = 10\n",
    "\n",
    "batch_size = 32\n",
    "\n",
    "max_len_q = 32\n",
    "\n",
    "max_len_a = 64\n",
    "\n",
    "root = \"../../data/yahoo_answers_csv\""
   ]
  },
  {
   "cell_type": "code",
   "execution_count": 3,
   "id": "d0e8ef0f",
   "metadata": {},
   "outputs": [],
   "source": [
    "# YahooQA dataset class definition\n",
    "class YahooQA(Dataset):\n",
    "    def __init__(self, test_train=\"train\"):\n",
    "        # Read the Yahoo Answers dataset CSV file based on the test_train parameter (train or test)\n",
    "        self.df = pd.read_csv(os.path.join(root, test_train + \".csv\"),\n",
    "                              names=[\"Class\", \"Q_Title\", \"Q_Content\", \"A\"])\n",
    "        \n",
    "        # Fill missing values with empty string\n",
    "        self.df.fillna('', inplace=True)\n",
    "        \n",
    "        # Combine Q_Title and Q_Content columns into a single Q column (question)\n",
    "        self.df['Q'] = self.df['Q_Title'] + ' ' + self.df['Q_Content']\n",
    "        \n",
    "        # Drop Q_Title and Q_Content columns as they are no longer needed\n",
    "        self.df.drop(['Q_Title', 'Q_Content'], axis=1, inplace=True)\n",
    "        \n",
    "        # Replace special characters with whitespace in the Q and A columns\n",
    "        self.df['Q'] = self.df['Q'].str.replace(r'\\\\n|\\\\|\\\\r|\\\\r\\\\n|\\n|\"', ' ', regex=True)\n",
    "        self.df['A'] = self.df['A'].str.replace(r'\\\\n|\\\\|\\\\r|\\\\r\\\\n|\\n|\"', ' ', regex=True)\n",
    "\n",
    "    # Method to get a single item (question, answer pair) from the dataset\n",
    "    def __getitem__(self, index):\n",
    "        # Get the question and answer texts at the given index, converted to lowercase\n",
    "        question_text = self.df.loc[index][\"Q\"].lower()\n",
    "        answer_text = self.df.loc[index][\"A\"].lower()\n",
    "\n",
    "        return question_text, answer_text\n",
    "\n",
    "    # Method to get the length of the dataset\n",
    "    def __len__(self):\n",
    "        # Return the total number of question-answer pairs in the dataset\n",
    "        return len(self.df)"
   ]
  },
  {
   "cell_type": "code",
   "execution_count": 4,
   "id": "9f8c8420",
   "metadata": {},
   "outputs": [],
   "source": [
    "dataset_train = YahooQA(test_train=\"train\")\n",
    "dataset_test = YahooQA(test_train=\"test\")\n",
    "data_loader_train = DataLoader(dataset_train, batch_size=batch_size, shuffle=True, num_workers=4, drop_last=True)\n",
    "data_loader_test = DataLoader(dataset_test, batch_size=batch_size, shuffle=True, num_workers=4)"
   ]
  },
  {
   "cell_type": "code",
   "execution_count": 5,
   "id": "2379b832",
   "metadata": {},
   "outputs": [
    {
     "name": "stdout",
     "output_type": "stream",
     "text": [
      "['▁i', '▁am', '▁creating']\n"
     ]
    }
   ],
   "source": [
    "# Example of using the tokenizer\n",
    "# Load the SentencePiece model\n",
    "sp_model = load_sp_model(\"spm_user_ya.model\")\n",
    "\n",
    "# Create a tokenizer using the loaded model\n",
    "tokenizer = sentencepiece_tokenizer(sp_model)\n",
    "\n",
    "# Iterate over tokens generated by the tokenizer\n",
    "for token in tokenizer([\"i am creating\"]):\n",
    "    print(token)"
   ]
  },
  {
   "cell_type": "code",
   "execution_count": 6,
   "id": "8185ce1b",
   "metadata": {},
   "outputs": [],
   "source": [
    "# Define a function to yield tokens from a file\n",
    "def yield_tokens(file_path):\n",
    "    # Open the file in UTF-8 encoding\n",
    "    with io.open(file_path, encoding='utf-8') as f:\n",
    "        # Iterate over each line in the file\n",
    "        for line in f:\n",
    "            # Yield the token split by tab character\n",
    "            yield [line.split(\"\\t\")[0]]\n",
    "\n",
    "# Build a vocabulary from the tokens yielded by the yield_tokens function\n",
    "    # <pad> is a padding token that is added to the end of a sentence to ensure the length of all sequences in a batch is the same\n",
    "    # <sos> signals the \"Start-Of-Sentence\" aka the start of the sequence\n",
    "    # <eos> signal the \"End-Of-Sentence\" aka the end of the sequence\n",
    "    # <unk> \"unknown\" token is used if a token is not contained in the vocab\n",
    "# From torchtext library (build_vocab_from_iterator)\n",
    "# Builds a generator object, that is treated like an iterator\n",
    "# Define special tokens with special_first=True to place them at the beginning of the vocabulary\n",
    "\n",
    "vocab = build_vocab_from_iterator(\n",
    "    yield_tokens(\"spm_ag_news.vocab\"),\n",
    "    specials=['<pad>', '<sos>', '<eos>', '<unk>'],\n",
    "    special_first=True\n",
    ")\n",
    "\n",
    "# Set default index for out-of-vocabulary tokens\n",
    "vocab.set_default_index(vocab['<unk>'])"
   ]
  },
  {
   "cell_type": "code",
   "execution_count": 7,
   "id": "72346ef8",
   "metadata": {},
   "outputs": [],
   "source": [
    "# Data transform to turn text into vocab tokens\n",
    "q_transform = T.Sequential(\n",
    "    # Tokeniz with pre-existing Tokenizer\n",
    "    T.SentencePieceTokenizer(\"spm_user_ya.model\"),\n",
    "    ## converts the sentences to indices based on given vocabulary\n",
    "    T.VocabTransform(vocab=vocab),\n",
    "    ## Add <sos> at beginning of each sentence. 1 because the index for <sos> in vocabulary is\n",
    "    # 1 as seen in previous section\n",
    "    T.AddToken(vocab['<sos>'], begin=True),\n",
    "    # Crop the sentance if it is longer than the max length\n",
    "    T.Truncate(max_seq_len=max_len_q),\n",
    "    ## Add <eos> at beginning of each sentence. 2 because the index for <eos> in vocabulary is\n",
    "    # 2 as seen in previous section\n",
    "    T.AddToken(vocab['<eos>'], begin=False),\n",
    "    # Convert the list of lists to a tensor, this will also\n",
    "    # Pad a sentence with the <pad> token if it is shorter than the max length\n",
    "    # This ensures all sentences are the same length!\n",
    "    T.ToTensor(padding_value=0),\n",
    ")\n",
    "\n",
    "# Define transformation pipeline for answers\n",
    "a_transform = T.Sequential(\n",
    "    \n",
    "    # Tokenize sentences using pre-existing SentencePiece tokenizer model\n",
    "    T.SentencePieceTokenizer(\"spm_user_ya.model\"),\n",
    "    \n",
    "    # Convert tokens to indices based on given vocabulary\n",
    "    T.VocabTransform(vocab=vocab),\n",
    "    \n",
    "    # Add <sos> token at the beginning of each sentence (index 3 in vocabulary)\n",
    "    T.AddToken(3, begin=True),\n",
    "    \n",
    "    # Crop the sentence if it is longer than the max answer length\n",
    "    T.Truncate(max_seq_len=max_len_a),\n",
    "    \n",
    "    # Add <eos> token at the end of each sentence (index 4 in vocabulary)\n",
    "    T.AddToken(4, begin=False),\n",
    "    \n",
    "    # Convert the list of lists to a tensor and pad sentences with the <pad> token if shorter than max length\n",
    "    T.ToTensor(padding_value=0)\n",
    ")"
   ]
  },
  {
   "cell_type": "code",
   "execution_count": 8,
   "id": "350ac2de",
   "metadata": {},
   "outputs": [],
   "source": [
    "# Define LSTM model class\n",
    "class LSTM(nn.Module):\n",
    "    def __init__(self, num_emb, num_layers=1, emb_size=128, hidden_size=128):\n",
    "        super(LSTM, self).__init__()\n",
    "        \n",
    "        # Embedding layer\n",
    "        self.embedding = nn.Embedding(num_emb, emb_size)\n",
    "\n",
    "        # MLP layer for embedding\n",
    "        self.mlp_emb = nn.Sequential(\n",
    "            nn.Linear(emb_size, emb_size),\n",
    "            nn.LayerNorm(emb_size),\n",
    "            nn.ELU(),\n",
    "            nn.Linear(emb_size, emb_size)\n",
    "        )\n",
    "        \n",
    "        # LSTM layer\n",
    "        self.lstm = nn.LSTM(\n",
    "            input_size=emb_size,\n",
    "            hidden_size=hidden_size,\n",
    "            num_layers=num_layers,\n",
    "            batch_first=True,\n",
    "            dropout=0.25\n",
    "        )\n",
    "\n",
    "        # MLP layer for output\n",
    "        self.mlp_out = nn.Sequential(\n",
    "            nn.Linear(hidden_size, hidden_size // 2),\n",
    "            nn.LayerNorm(hidden_size // 2),\n",
    "            nn.ELU(),\n",
    "            nn.Dropout(0.5),\n",
    "            nn.Linear(hidden_size // 2, num_emb)\n",
    "        )\n",
    "        \n",
    "    def forward(self, input_seq, hidden_in, mem_in):\n",
    "        # Embed input sequence\n",
    "        input_embs = self.embedding(input_seq) # (bs, t, emb_size)\n",
    "        # Pass through MLP for embedding\n",
    "        input_embs = self.mlp_emb(input_embs) # (bs, t, emb_size)\n",
    "                \n",
    "        # Pass through LSTM layer\n",
    "        output, (hidden_out, mem_out) = self.lstm(input_embs, (hidden_in, mem_in)) # (bs, t, hidden_size)\n",
    "                \n",
    "        # Pass through MLP for output\n",
    "        return self.mlp_out(output), hidden_out, mem_out\n",
    "        # (bs, t, vocab_size)"
   ]
  },
  {
   "cell_type": "code",
   "execution_count": 9,
   "id": "6341169c",
   "metadata": {},
   "outputs": [],
   "source": [
    "device = torch.device(0 if torch.cuda.is_available() else 'cpu')\n",
    "\n",
    "emb_size = 128\n",
    "hidden_size = 512\n",
    "num_layers = 4\n",
    "\n",
    "lstm_qa = LSTM(num_emb=len(vocab), num_layers=num_layers, emb_size=emb_size, hidden_size=hidden_size).to(device)\n",
    "\n",
    "optimizer = optim.Adam(lstm_qa.parameters(), lr=learning_rate, weight_decay=1e-4)\n",
    "\n",
    "loss_fn = nn.CrossEntropyLoss()\n",
    "\n",
    "training_loss_logger = []"
   ]
  },
  {
   "cell_type": "code",
   "execution_count": 10,
   "id": "2bdb0ec4",
   "metadata": {},
   "outputs": [
    {
     "name": "stdout",
     "output_type": "stream",
     "text": [
      "-This Model Has 15484835 (Approximately 15 Million) Parameters!\n"
     ]
    }
   ],
   "source": [
    "# Let's see how many Parameters our Model has!\n",
    "num_model_params = 0\n",
    "for param in lstm_qa.parameters():\n",
    "    num_model_params += param.flatten().shape[0]\n",
    "\n",
    "print(\"-This Model Has %d (Approximately %d Million) Parameters!\" % (num_model_params, num_model_params//1e6))"
   ]
  },
  {
   "cell_type": "code",
   "execution_count": 11,
   "id": "72909d1d-94c5-4340-8b40-e9ca484036e2",
   "metadata": {},
   "outputs": [],
   "source": [
    "import sys"
   ]
  },
  {
   "cell_type": "code",
   "execution_count": 12,
   "id": "ca9cf4a1-dc75-40b3-a3ba-7ab3a5559b4e",
   "metadata": {},
   "outputs": [
    {
     "name": "stdout",
     "output_type": "stream",
     "text": [
      "how do u know when to start trusting somebody and if its really worth it? \n",
      "trust is something that has to be earned but once that trust is built it is defiantly worth while...life can be so hard without trust in relationships and life it's self what have you got to hold onto\n"
     ]
    }
   ],
   "source": [
    "for q_text, a_text in data_loader_train:\n",
    "    print(q_text[8])\n",
    "    print(a_text[8])\n",
    "    break"
   ]
  },
  {
   "cell_type": "code",
   "execution_count": 33,
   "id": "8dd56a78",
   "metadata": {},
   "outputs": [
    {
     "name": "stdout",
     "output_type": "stream",
     "text": [
      "tensor(6.6963, grad_fn=<NllLoss2DBackward0>)\n",
      "tensor(6.7203, grad_fn=<NllLoss2DBackward0>)\n",
      "tensor(6.7486, grad_fn=<NllLoss2DBackward0>)\n",
      "tensor(6.6988, grad_fn=<NllLoss2DBackward0>)\n",
      "tensor(6.2606, grad_fn=<NllLoss2DBackward0>)\n",
      "tensor(6.2986, grad_fn=<NllLoss2DBackward0>)\n",
      "tensor(6.9774, grad_fn=<NllLoss2DBackward0>)\n",
      "tensor(6.4790, grad_fn=<NllLoss2DBackward0>)\n",
      "tensor(6.4927, grad_fn=<NllLoss2DBackward0>)\n",
      "tensor(6.1563, grad_fn=<NllLoss2DBackward0>)\n",
      "tensor(5.7974, grad_fn=<NllLoss2DBackward0>)\n",
      "tensor(6.1200, grad_fn=<NllLoss2DBackward0>)\n",
      "tensor(6.6003, grad_fn=<NllLoss2DBackward0>)\n",
      "tensor(6.3935, grad_fn=<NllLoss2DBackward0>)\n",
      "tensor(6.8094, grad_fn=<NllLoss2DBackward0>)\n",
      "tensor(6.0854, grad_fn=<NllLoss2DBackward0>)\n",
      "tensor(5.6677, grad_fn=<NllLoss2DBackward0>)\n",
      "tensor(5.6577, grad_fn=<NllLoss2DBackward0>)\n",
      "tensor(5.7070, grad_fn=<NllLoss2DBackward0>)\n",
      "tensor(5.6252, grad_fn=<NllLoss2DBackward0>)\n",
      "tensor(5.0750, grad_fn=<NllLoss2DBackward0>)\n",
      "tensor(5.7138, grad_fn=<NllLoss2DBackward0>)\n",
      "tensor(5.8674, grad_fn=<NllLoss2DBackward0>)\n",
      "tensor(5.9374, grad_fn=<NllLoss2DBackward0>)\n",
      "tensor(5.7499, grad_fn=<NllLoss2DBackward0>)\n",
      "tensor(5.9206, grad_fn=<NllLoss2DBackward0>)\n",
      "tensor(6.7102, grad_fn=<NllLoss2DBackward0>)\n",
      "tensor(6.4864, grad_fn=<NllLoss2DBackward0>)\n",
      "tensor(6.4411, grad_fn=<NllLoss2DBackward0>)\n",
      "tensor(5.8436, grad_fn=<NllLoss2DBackward0>)\n",
      "tensor(6.1514, grad_fn=<NllLoss2DBackward0>)\n",
      "tensor(5.8037, grad_fn=<NllLoss2DBackward0>)\n",
      "tensor(5.0702, grad_fn=<NllLoss2DBackward0>)\n",
      "tensor(5.5572, grad_fn=<NllLoss2DBackward0>)\n",
      "tensor(6.0504, grad_fn=<NllLoss2DBackward0>)\n",
      "tensor(5.6890, grad_fn=<NllLoss2DBackward0>)\n",
      "tensor(4.4222, grad_fn=<NllLoss2DBackward0>)\n",
      "tensor(5.7424, grad_fn=<NllLoss2DBackward0>)\n",
      "tensor(5.7613, grad_fn=<NllLoss2DBackward0>)\n",
      "tensor(5.4542, grad_fn=<NllLoss2DBackward0>)\n",
      "tensor(5.1448, grad_fn=<NllLoss2DBackward0>)\n",
      "tensor(6.2750, grad_fn=<NllLoss2DBackward0>)\n",
      "tensor(4.7718, grad_fn=<NllLoss2DBackward0>)\n",
      "tensor(5.1755, grad_fn=<NllLoss2DBackward0>)\n",
      "tensor(5.8319, grad_fn=<NllLoss2DBackward0>)\n",
      "tensor(5.8256, grad_fn=<NllLoss2DBackward0>)\n",
      "tensor(4.2050, grad_fn=<NllLoss2DBackward0>)\n",
      "tensor(5.7327, grad_fn=<NllLoss2DBackward0>)\n",
      "tensor(5.5878, grad_fn=<NllLoss2DBackward0>)\n",
      "tensor(5.4329, grad_fn=<NllLoss2DBackward0>)\n",
      "tensor(5.7814, grad_fn=<NllLoss2DBackward0>)\n",
      "tensor(5.2674, grad_fn=<NllLoss2DBackward0>)\n",
      "tensor(5.1595, grad_fn=<NllLoss2DBackward0>)\n",
      "tensor(5.0804, grad_fn=<NllLoss2DBackward0>)\n",
      "tensor(4.9718, grad_fn=<NllLoss2DBackward0>)\n",
      "tensor(5.7433, grad_fn=<NllLoss2DBackward0>)\n",
      "tensor(5.5353, grad_fn=<NllLoss2DBackward0>)\n",
      "tensor(5.3053, grad_fn=<NllLoss2DBackward0>)\n",
      "tensor(4.9295, grad_fn=<NllLoss2DBackward0>)\n",
      "tensor(5.3638, grad_fn=<NllLoss2DBackward0>)\n",
      "tensor(5.2882, grad_fn=<NllLoss2DBackward0>)\n",
      "tensor(4.4377, grad_fn=<NllLoss2DBackward0>)\n",
      "tensor(5.2479, grad_fn=<NllLoss2DBackward0>)\n",
      "tensor(5.3170, grad_fn=<NllLoss2DBackward0>)\n",
      "tensor(5.7302, grad_fn=<NllLoss2DBackward0>)\n",
      "tensor(4.9796, grad_fn=<NllLoss2DBackward0>)\n",
      "tensor(4.3416, grad_fn=<NllLoss2DBackward0>)\n",
      "tensor(5.0098, grad_fn=<NllLoss2DBackward0>)\n",
      "tensor(5.4729, grad_fn=<NllLoss2DBackward0>)\n",
      "tensor(4.5031, grad_fn=<NllLoss2DBackward0>)\n"
     ]
    },
    {
     "name": "stderr",
     "output_type": "stream",
     "text": [
      "Exception ignored in: <function _MultiProcessingDataLoaderIter.__del__ at 0x7fbcceff0c10>\n",
      "Traceback (most recent call last):\n",
      "  File \"/home/kennykguo/anaconda3/envs/deep-learning/lib/python3.8/site-packages/torch/utils/data/dataloader.py\", line 1479, in __del__\n",
      "    self._shutdown_workers()\n",
      "  File \"/home/kennykguo/anaconda3/envs/deep-learning/lib/python3.8/site-packages/torch/utils/data/dataloader.py\", line 1443, in _shutdown_workers\n",
      "    w.join(timeout=_utils.MP_STATUS_CHECK_INTERVAL)\n",
      "  File \"/home/kennykguo/anaconda3/envs/deep-learning/lib/python3.8/multiprocessing/process.py\", line 149, in join\n",
      "    res = self._popen.wait(timeout)\n",
      "  File \"/home/kennykguo/anaconda3/envs/deep-learning/lib/python3.8/multiprocessing/popen_fork.py\", line 44, in wait\n",
      "    if not wait([self.sentinel], timeout):\n",
      "  File \"/home/kennykguo/anaconda3/envs/deep-learning/lib/python3.8/multiprocessing/connection.py\", line 931, in wait\n",
      "    ready = selector.select(timeout)\n",
      "  File \"/home/kennykguo/anaconda3/envs/deep-learning/lib/python3.8/selectors.py\", line 415, in select\n",
      "    fd_event_list = self._selector.poll(timeout)\n",
      "KeyboardInterrupt: \n"
     ]
    },
    {
     "ename": "KeyboardInterrupt",
     "evalue": "",
     "output_type": "error",
     "traceback": [
      "\u001b[0;31m---------------------------------------------------------------------------\u001b[0m",
      "\u001b[0;31mKeyboardInterrupt\u001b[0m                         Traceback (most recent call last)",
      "Cell \u001b[0;32mIn[33], line 36\u001b[0m\n\u001b[1;32m     33\u001b[0m pred, hidden, memory \u001b[38;5;241m=\u001b[39m lstm_qa(a_input_text, hidden, memory)\n\u001b[1;32m     35\u001b[0m \u001b[38;5;66;03m# Calculate loss\u001b[39;00m\n\u001b[0;32m---> 36\u001b[0m loss \u001b[38;5;241m=\u001b[39m \u001b[43mloss_fn\u001b[49m\u001b[43m(\u001b[49m\u001b[43mpred\u001b[49m\u001b[38;5;241;43m.\u001b[39;49m\u001b[43mtranspose\u001b[49m\u001b[43m(\u001b[49m\u001b[38;5;241;43m1\u001b[39;49m\u001b[43m,\u001b[49m\u001b[43m \u001b[49m\u001b[38;5;241;43m2\u001b[39;49m\u001b[43m)\u001b[49m\u001b[43m,\u001b[49m\u001b[43m \u001b[49m\u001b[43ma_output_text\u001b[49m\u001b[43m)\u001b[49m \u001b[38;5;66;03m# (bs, vocab_size, T) -> (bs, T)\u001b[39;00m\n\u001b[1;32m     38\u001b[0m \u001b[38;5;66;03m# Zero gradients, perform backward pass, and update weights\u001b[39;00m\n\u001b[1;32m     39\u001b[0m optimizer\u001b[38;5;241m.\u001b[39mzero_grad()\n",
      "File \u001b[0;32m~/anaconda3/envs/deep-learning/lib/python3.8/site-packages/torch/nn/modules/module.py:1532\u001b[0m, in \u001b[0;36mModule._wrapped_call_impl\u001b[0;34m(self, *args, **kwargs)\u001b[0m\n\u001b[1;32m   1530\u001b[0m     \u001b[38;5;28;01mreturn\u001b[39;00m \u001b[38;5;28mself\u001b[39m\u001b[38;5;241m.\u001b[39m_compiled_call_impl(\u001b[38;5;241m*\u001b[39margs, \u001b[38;5;241m*\u001b[39m\u001b[38;5;241m*\u001b[39mkwargs)  \u001b[38;5;66;03m# type: ignore[misc]\u001b[39;00m\n\u001b[1;32m   1531\u001b[0m \u001b[38;5;28;01melse\u001b[39;00m:\n\u001b[0;32m-> 1532\u001b[0m     \u001b[38;5;28;01mreturn\u001b[39;00m \u001b[38;5;28;43mself\u001b[39;49m\u001b[38;5;241;43m.\u001b[39;49m\u001b[43m_call_impl\u001b[49m\u001b[43m(\u001b[49m\u001b[38;5;241;43m*\u001b[39;49m\u001b[43margs\u001b[49m\u001b[43m,\u001b[49m\u001b[43m \u001b[49m\u001b[38;5;241;43m*\u001b[39;49m\u001b[38;5;241;43m*\u001b[39;49m\u001b[43mkwargs\u001b[49m\u001b[43m)\u001b[49m\n",
      "File \u001b[0;32m~/anaconda3/envs/deep-learning/lib/python3.8/site-packages/torch/nn/modules/module.py:1541\u001b[0m, in \u001b[0;36mModule._call_impl\u001b[0;34m(self, *args, **kwargs)\u001b[0m\n\u001b[1;32m   1536\u001b[0m \u001b[38;5;66;03m# If we don't have any hooks, we want to skip the rest of the logic in\u001b[39;00m\n\u001b[1;32m   1537\u001b[0m \u001b[38;5;66;03m# this function, and just call forward.\u001b[39;00m\n\u001b[1;32m   1538\u001b[0m \u001b[38;5;28;01mif\u001b[39;00m \u001b[38;5;129;01mnot\u001b[39;00m (\u001b[38;5;28mself\u001b[39m\u001b[38;5;241m.\u001b[39m_backward_hooks \u001b[38;5;129;01mor\u001b[39;00m \u001b[38;5;28mself\u001b[39m\u001b[38;5;241m.\u001b[39m_backward_pre_hooks \u001b[38;5;129;01mor\u001b[39;00m \u001b[38;5;28mself\u001b[39m\u001b[38;5;241m.\u001b[39m_forward_hooks \u001b[38;5;129;01mor\u001b[39;00m \u001b[38;5;28mself\u001b[39m\u001b[38;5;241m.\u001b[39m_forward_pre_hooks\n\u001b[1;32m   1539\u001b[0m         \u001b[38;5;129;01mor\u001b[39;00m _global_backward_pre_hooks \u001b[38;5;129;01mor\u001b[39;00m _global_backward_hooks\n\u001b[1;32m   1540\u001b[0m         \u001b[38;5;129;01mor\u001b[39;00m _global_forward_hooks \u001b[38;5;129;01mor\u001b[39;00m _global_forward_pre_hooks):\n\u001b[0;32m-> 1541\u001b[0m     \u001b[38;5;28;01mreturn\u001b[39;00m \u001b[43mforward_call\u001b[49m\u001b[43m(\u001b[49m\u001b[38;5;241;43m*\u001b[39;49m\u001b[43margs\u001b[49m\u001b[43m,\u001b[49m\u001b[43m \u001b[49m\u001b[38;5;241;43m*\u001b[39;49m\u001b[38;5;241;43m*\u001b[39;49m\u001b[43mkwargs\u001b[49m\u001b[43m)\u001b[49m\n\u001b[1;32m   1543\u001b[0m \u001b[38;5;28;01mtry\u001b[39;00m:\n\u001b[1;32m   1544\u001b[0m     result \u001b[38;5;241m=\u001b[39m \u001b[38;5;28;01mNone\u001b[39;00m\n",
      "File \u001b[0;32m~/anaconda3/envs/deep-learning/lib/python3.8/site-packages/torch/nn/modules/loss.py:1185\u001b[0m, in \u001b[0;36mCrossEntropyLoss.forward\u001b[0;34m(self, input, target)\u001b[0m\n\u001b[1;32m   1184\u001b[0m \u001b[38;5;28;01mdef\u001b[39;00m \u001b[38;5;21mforward\u001b[39m(\u001b[38;5;28mself\u001b[39m, \u001b[38;5;28minput\u001b[39m: Tensor, target: Tensor) \u001b[38;5;241m-\u001b[39m\u001b[38;5;241m>\u001b[39m Tensor:\n\u001b[0;32m-> 1185\u001b[0m     \u001b[38;5;28;01mreturn\u001b[39;00m \u001b[43mF\u001b[49m\u001b[38;5;241;43m.\u001b[39;49m\u001b[43mcross_entropy\u001b[49m\u001b[43m(\u001b[49m\u001b[38;5;28;43minput\u001b[39;49m\u001b[43m,\u001b[49m\u001b[43m \u001b[49m\u001b[43mtarget\u001b[49m\u001b[43m,\u001b[49m\u001b[43m \u001b[49m\u001b[43mweight\u001b[49m\u001b[38;5;241;43m=\u001b[39;49m\u001b[38;5;28;43mself\u001b[39;49m\u001b[38;5;241;43m.\u001b[39;49m\u001b[43mweight\u001b[49m\u001b[43m,\u001b[49m\n\u001b[1;32m   1186\u001b[0m \u001b[43m                           \u001b[49m\u001b[43mignore_index\u001b[49m\u001b[38;5;241;43m=\u001b[39;49m\u001b[38;5;28;43mself\u001b[39;49m\u001b[38;5;241;43m.\u001b[39;49m\u001b[43mignore_index\u001b[49m\u001b[43m,\u001b[49m\u001b[43m \u001b[49m\u001b[43mreduction\u001b[49m\u001b[38;5;241;43m=\u001b[39;49m\u001b[38;5;28;43mself\u001b[39;49m\u001b[38;5;241;43m.\u001b[39;49m\u001b[43mreduction\u001b[49m\u001b[43m,\u001b[49m\n\u001b[1;32m   1187\u001b[0m \u001b[43m                           \u001b[49m\u001b[43mlabel_smoothing\u001b[49m\u001b[38;5;241;43m=\u001b[39;49m\u001b[38;5;28;43mself\u001b[39;49m\u001b[38;5;241;43m.\u001b[39;49m\u001b[43mlabel_smoothing\u001b[49m\u001b[43m)\u001b[49m\n",
      "File \u001b[0;32m~/anaconda3/envs/deep-learning/lib/python3.8/site-packages/torch/nn/functional.py:3086\u001b[0m, in \u001b[0;36mcross_entropy\u001b[0;34m(input, target, weight, size_average, ignore_index, reduce, reduction, label_smoothing)\u001b[0m\n\u001b[1;32m   3084\u001b[0m \u001b[38;5;28;01mif\u001b[39;00m size_average \u001b[38;5;129;01mis\u001b[39;00m \u001b[38;5;129;01mnot\u001b[39;00m \u001b[38;5;28;01mNone\u001b[39;00m \u001b[38;5;129;01mor\u001b[39;00m reduce \u001b[38;5;129;01mis\u001b[39;00m \u001b[38;5;129;01mnot\u001b[39;00m \u001b[38;5;28;01mNone\u001b[39;00m:\n\u001b[1;32m   3085\u001b[0m     reduction \u001b[38;5;241m=\u001b[39m _Reduction\u001b[38;5;241m.\u001b[39mlegacy_get_string(size_average, reduce)\n\u001b[0;32m-> 3086\u001b[0m \u001b[38;5;28;01mreturn\u001b[39;00m \u001b[43mtorch\u001b[49m\u001b[38;5;241;43m.\u001b[39;49m\u001b[43m_C\u001b[49m\u001b[38;5;241;43m.\u001b[39;49m\u001b[43m_nn\u001b[49m\u001b[38;5;241;43m.\u001b[39;49m\u001b[43mcross_entropy_loss\u001b[49m\u001b[43m(\u001b[49m\u001b[38;5;28;43minput\u001b[39;49m\u001b[43m,\u001b[49m\u001b[43m \u001b[49m\u001b[43mtarget\u001b[49m\u001b[43m,\u001b[49m\u001b[43m \u001b[49m\u001b[43mweight\u001b[49m\u001b[43m,\u001b[49m\u001b[43m \u001b[49m\u001b[43m_Reduction\u001b[49m\u001b[38;5;241;43m.\u001b[39;49m\u001b[43mget_enum\u001b[49m\u001b[43m(\u001b[49m\u001b[43mreduction\u001b[49m\u001b[43m)\u001b[49m\u001b[43m,\u001b[49m\u001b[43m \u001b[49m\u001b[43mignore_index\u001b[49m\u001b[43m,\u001b[49m\u001b[43m \u001b[49m\u001b[43mlabel_smoothing\u001b[49m\u001b[43m)\u001b[49m\n",
      "\u001b[0;31mKeyboardInterrupt\u001b[0m: "
     ]
    }
   ],
   "source": [
    "# Training loop\n",
    "for epoch in range(nepochs):    \n",
    "    \n",
    "    # Set LSTM model to training mode\n",
    "    lstm_qa.train()\n",
    "    \n",
    "    steps = 0\n",
    "    \n",
    "    # Iterate over batches in training data loader\n",
    "    for q_text, a_text in data_loader_train:\n",
    "        \n",
    "        # Transform both question and answer text\n",
    "        q_text_tokens = q_transform(list(q_text)).to(device) # (bs, t)\n",
    "        a_text_tokens = a_transform(list(a_text)).to(device) # (bs, t)\n",
    "        \n",
    "        # Inputs and outputs for the answer next-token prediction\n",
    "        a_input_text = a_text_tokens[:, :-1] # (bs, t)\n",
    "        a_output_text = a_text_tokens[:, 1:] # (bs, t)\n",
    "        \n",
    "        # Batch size\n",
    "        bs = q_text_tokens.shape[0]\n",
    "        \n",
    "        # Initialise the memory buffers\n",
    "        hidden = torch.zeros(num_layers, bs, hidden_size, device=device)\n",
    "        memory = torch.zeros(num_layers, bs, hidden_size, device=device)\n",
    "\n",
    "        # Encode the whole question sequence\n",
    "        _, hidden, memory = lstm_qa(q_text_tokens, hidden, memory)\n",
    "\n",
    "        # NEW!!! We run the model through on the question input. Then we run the hidden and cell state to the next pass, with the answer text\n",
    "        # Perform a \"next-token\" prediction on the answer sequence\n",
    "        # providing the model with the memory buffers from the question-encoding step\n",
    "        pred, hidden, memory = lstm_qa(a_input_text, hidden, memory)\n",
    "\n",
    "        # Calculate loss\n",
    "        loss = loss_fn(pred.transpose(1, 2), a_output_text) # (bs, vocab_size, T) -> (bs, T)\n",
    "\n",
    "        # Zero gradients, perform backward pass, and update weights\n",
    "        optimizer.zero_grad()\n",
    "        loss.backward()\n",
    "        optimizer.step()\n",
    "\n",
    "        # Log training loss\n",
    "        training_loss_logger.append(loss.item())\n",
    "        print(loss)"
   ]
  },
  {
   "cell_type": "code",
   "execution_count": 34,
   "id": "d60d9956",
   "metadata": {},
   "outputs": [
    {
     "data": {
      "image/png": "[encoded data removed]",
      "text/plain": [
       "<Figure size 1000x500 with 1 Axes>"
      ]
     },
     "metadata": {},
     "output_type": "display_data"
    }
   ],
   "source": [
    "_ = plt.figure(figsize=(10, 5))\n",
    "_ = plt.plot(training_loss_logger)\n",
    "_ = plt.title(\"Training Loss\")"
   ]
  },
  {
   "cell_type": "code",
   "execution_count": 35,
   "id": "7277dc9c",
   "metadata": {},
   "outputs": [],
   "source": [
    "# Get a question and its corresponding answer from the test dataset\n",
    "q_text, a_text = next(iter(data_loader_test))"
   ]
  },
  {
   "cell_type": "code",
   "execution_count": 36,
   "id": "aecfeb3b",
   "metadata": {},
   "outputs": [
    {
     "name": "stdout",
     "output_type": "stream",
     "text": [
      "QUESTION:\n",
      "does anyone know how to get cheap or free dental work done? help! i need extensive dental work. due to limited funds and no insurance for so long. i'm ashamed to be seen in public and have lost my confidence and personality. sometimes i feel like i can't go on.\n",
      "\n",
      "INITIAL PROMPT TOKENS:\n",
      "tensor([[    1,  8530,  5140, 12040, 11000, 18552, 10203,  6831, 14134,  9937,\n",
      "             3, 19792,  8566,     3, 10765,     3, 11085, 13683,  9361,     3,\n",
      "         19792,    50,  8694, 18552, 12414, 10026,  5059, 13828, 11416,  9825,\n",
      "         17325, 12534,     2,     3]])\n",
      "VOCABULARY TOKENS:\n",
      "['<sos>', '▁does', '▁anyone', '▁know', '▁how', '▁to', '▁get', '▁cheap', '▁or', '▁free', '<unk>', '▁work', '▁done', '<unk>', '▁help', '<unk>', '▁i', '▁need', '▁extensive', '<unk>', '▁work', '.', '▁due', '▁to', '▁limited', '▁funds', '▁and', '▁no', '▁insurance', '▁for', '▁so', '▁long', '<eos>', '<unk>']\n"
     ]
    }
   ],
   "source": [
    "# Choose an index from the test data loader\n",
    "index = 0\n",
    "\n",
    "# Display the selected question\n",
    "print(\"QUESTION:\")\n",
    "print(q_text[index])\n",
    "\n",
    "# Initialize the prompt with the selected question\n",
    "init_prompt = [q_text[index]]\n",
    "\n",
    "# Transform the initial prompt into tokens and move to device\n",
    "input_tokens = q_transform(init_prompt).to(device)\n",
    "\n",
    "# Add Start-Of-Answer token to prompt the network to start generating the answer\n",
    "input_tokens = torch.cat((input_tokens, 3 * torch.ones(1, 1, device=device).long()), 1)\n",
    "\n",
    "print(\"\\nINITIAL PROMPT TOKENS:\")\n",
    "print(input_tokens)\n",
    "print(\"VOCABULARY TOKENS:\")\n",
    "print(vocab.lookup_tokens(input_tokens[0].cpu().numpy()))\n",
    "\n",
    "# Temperature parameter for sampling\n",
    "temp = 0.8"
   ]
  },
  {
   "cell_type": "code",
   "execution_count": 37,
   "id": "6148b641",
   "metadata": {},
   "outputs": [],
   "source": [
    "# Generate text tokens\n",
    "log_tokens = []\n",
    "# Set LSTM model to evaluation mode\n",
    "lstm_qa.eval()\n",
    "\n",
    "# Disable gradient calculation\n",
    "with torch.no_grad():    \n",
    "    # Initialize hidden and memory tensors\n",
    "    hidden = torch.zeros(num_layers, 1, hidden_size, device=device)\n",
    "    memory = torch.zeros(num_layers, 1, hidden_size, device=device)\n",
    "    \n",
    "    # Iterate over a maximum of 100 tokens\n",
    "    for i in range(100):\n",
    "        # Forward pass through LSTM model\n",
    "        data_pred, hidden, memory = lstm_qa(input_tokens, hidden, memory)\n",
    "        \n",
    "        # Sample from the distribution of probabilities\n",
    "        dist = Categorical(logits=data_pred[:, -1, :]/temp)\n",
    "        input_tokens = dist.sample().reshape(1, 1)\n",
    "        \n",
    "        # Append sampled token to log_tokens list\n",
    "        log_tokens.append(input_tokens.cpu())\n",
    "        \n",
    "        # Check if the sampled token is the End-Of-Answer token\n",
    "        if input_tokens.item() == 4:\n",
    "            break"
   ]
  },
  {
   "cell_type": "code",
   "execution_count": 38,
   "id": "024ddad8",
   "metadata": {},
   "outputs": [
    {
     "name": "stdout",
     "output_type": "stream",
     "text": [
      "linked▁away▁what▁bellevue<unk><unk>▁all▁progress▁is▁require<unk><pad>▁gare<pad><pad><pad><pad><pad><pad><pad><pad><pad><pad><pad><pad><pad><pad><pad><pad><pad><pad><pad><pad><pad><pad><pad><pad><pad><pad><pad><pad><pad><pad><pad><pad><pad><pad><pad><pad><pad><pad><pad><pad><pad><pad><pad><pad><pad>▁bernard<pad><pad><pad><pad><pad><pad><pad><pad><pad><pad><pad>▁spy<pad><pad><pad>▁composer<pad><pad><pad><pad><pad><pad><pad>iff<pad><pad>▁just▁opec<pad><pad><pad><pad>▁laboratories<pad><pad><pad>.<pad><pad><pad><pad>\n"
     ]
    }
   ],
   "source": [
    "# Convert the list of token indices into text using the vocabulary\n",
    "pred_text = \"\".join(vocab.lookup_tokens(torch.cat(log_tokens, 1)[0].numpy()))\n",
    "\n",
    "# Print the generated text\n",
    "print(pred_text)"
   ]
  },
  {
   "cell_type": "code",
   "execution_count": 39,
   "id": "765963d1",
   "metadata": {},
   "outputs": [
    {
     "name": "stdout",
     "output_type": "stream",
     "text": [
      "linked away what bellevue all progress is require<pad> gare<pad><pad><pad><pad><pad><pad><pad><pad><pad><pad><pad><pad><pad><pad><pad><pad><pad><pad><pad><pad><pad><pad><pad><pad><pad><pad><pad><pad><pad><pad><pad><pad><pad><pad><pad><pad><pad><pad><pad><pad><pad><pad><pad><pad><pad> bernard<pad><pad><pad><pad><pad><pad><pad><pad><pad><pad><pad> spy<pad><pad><pad> composer<pad><pad><pad><pad><pad><pad><pad>iff<pad><pad> just opec<pad><pad><pad><pad> laboratories<pad><pad><pad>.<pad><pad><pad><pad>\n"
     ]
    }
   ],
   "source": [
    "# Clean up the generated text by replacing special tokens and removing unwanted characters\n",
    "cleaned_text = pred_text.replace(\"▁\", \" \").replace(\"<unk>\", \"\").replace(\"<eoa>\", \"\")\n",
    "\n",
    "# Print the cleaned text\n",
    "print(cleaned_text)"
   ]
  },
  {
   "cell_type": "code",
   "execution_count": 40,
   "id": "0fcc5e6d",
   "metadata": {},
   "outputs": [
    {
     "data": {
      "text/plain": [
       "[<matplotlib.lines.Line2D at 0x7fbca7d59f40>]"
      ]
     },
     "execution_count": 40,
     "metadata": {},
     "output_type": "execute_result"
    },
    {
     "data": {
      "image/png": "[encoded data removed]",
      "text/plain": [
       "<Figure size 640x480 with 1 Axes>"
      ]
     },
     "metadata": {},
     "output_type": "display_data"
    }
   ],
   "source": [
    "# Have a look at the next token probabilities \n",
    "plt.plot(F.softmax(data_pred[:, -1, :]/temp, -1).cpu().numpy().flatten())"
   ]
  }
 ],
 "metadata": {
  "kernelspec": {
   "display_name": "Python (deep-learning)",
   "language": "python",
   "name": "deep-learning"
  },
  "language_info": {
   "codemirror_mode": {
    "name": "ipython",
    "version": 3
   },
   "file_extension": ".py",
   "mimetype": "text/x-python",
   "name": "python",
   "nbconvert_exporter": "python",
   "pygments_lexer": "ipython3",
   "version": "3.8.19"
  }
 },
 "nbformat": 4,
 "nbformat_minor": 5
}

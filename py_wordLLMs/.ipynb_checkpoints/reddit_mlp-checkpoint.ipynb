<<<<<<< HEAD
{
 "cells": [
  {
   "cell_type": "code",
   "execution_count": 1,
   "id": "2f812693-c3cf-4726-a0ee-53aa4a74ecd7",
   "metadata": {},
   "outputs": [],
   "source": [
    "import torch\n",
    "import torch.nn.functional as F\n",
    "import matplotlib.pyplot as plt\n",
    "%matplotlib inline"
   ]
  },
  {
   "cell_type": "code",
   "execution_count": 338,
   "id": "66cf712c-dba7-4548-8b9c-7fcffd0f03f5",
   "metadata": {},
   "outputs": [],
   "source": [
    "words = open('names.txt', 'r').read().splitlines()"
   ]
  },
  {
   "cell_type": "code",
   "execution_count": 3,
   "id": "53549e14-a387-4aaf-953f-c61a4a356f32",
   "metadata": {},
   "outputs": [
    {
     "data": {
      "text/plain": [
       "32033"
      ]
     },
     "execution_count": 3,
     "metadata": {},
     "output_type": "execute_result"
    }
   ],
   "source": [
    "len(words)"
   ]
  },
  {
   "cell_type": "code",
   "execution_count": 4,
   "id": "3087c29f-c623-4118-85f8-9dbde772eaa0",
   "metadata": {},
   "outputs": [],
   "source": [
    "chars = sorted(list(set(''.join(words))))"
   ]
  },
  {
   "cell_type": "code",
   "execution_count": 5,
   "id": "e01f8f39-17e6-42f9-bb11-5ee5533acb2c",
   "metadata": {},
   "outputs": [
    {
     "name": "stdout",
     "output_type": "stream",
     "text": [
      "{1: 'a', 2: 'b', 3: 'c', 4: 'd', 5: 'e', 6: 'f', 7: 'g', 8: 'h', 9: 'i', 10: 'j', 11: 'k', 12: 'l', 13: 'm', 14: 'n', 15: 'o', 16: 'p', 17: 'q', 18: 'r', 19: 's', 20: 't', 21: 'u', 22: 'v', 23: 'w', 24: 'x', 25: 'y', 26: 'z', 0: '.'}\n"
     ]
    }
   ],
   "source": [
    "stoi = {s:i+1 for i,s in enumerate(chars)}\n",
    "stoi['.'] = 0\n",
    "itos = {i:s for s,i in stoi.items()}\n",
    "print(itos)"
   ]
  },
  {
   "cell_type": "code",
   "execution_count": 207,
   "id": "6e000c8e-804c-4b3f-a5f5-eede44408b17",
   "metadata": {},
   "outputs": [],
   "source": [
    "# Three examples\n",
    "\n",
    "block_size = 3 # Context length of how many characters we take to predict the next character\n",
    "# Training set and albels\n",
    "X, Y = [], []\n",
    "\n",
    "for w in words:\n",
    "    # print(w)\n",
    "    # Creates an list of three zeros\n",
    "    context = [0] * block_size\n",
    "    for ch in w + '.':\n",
    "        # Turn ch into corresponding index\n",
    "        ix = stoi[ch]\n",
    "        # Add the list to X\n",
    "        X.append(context)\n",
    "        # Add the index to Y\n",
    "        Y.append(ix)\n",
    "        # Prints whatever is stored in the context, and the coresponding char that should follow\n",
    "        # print(''.join(itos[i] for i in context), '---->', itos[ix])\n",
    "        # Updating the context, putting the new ch at the end\n",
    "        context = context[1:] + [ix]\n",
    "\n",
    "X = torch.tensor(X)\n",
    "Y = torch.tensor(Y)"
   ]
  },
  {
   "cell_type": "code",
   "execution_count": 342,
   "id": "262356de-a114-4efe-8ed1-e694fb718815",
   "metadata": {},
   "outputs": [
    {
     "data": {
      "text/plain": [
       "(torch.Size([228146, 3]), torch.int64, torch.Size([228146]), torch.int64)"
      ]
     },
     "execution_count": 342,
     "metadata": {},
     "output_type": "execute_result"
    }
   ],
   "source": [
    "X.shape, X.dtype, Y.shape, Y.dtype"
   ]
  },
  {
   "cell_type": "code",
   "execution_count": 343,
   "id": "9e0eefc2-8dac-42c3-a82d-36a61229cfb6",
   "metadata": {},
   "outputs": [
    {
     "name": "stdout",
     "output_type": "stream",
     "text": [
      "torch.Size([182437, 3]) torch.Size([182437])\n",
      "torch.Size([22781, 3]) torch.Size([22781])\n",
      "torch.Size([22928, 3]) torch.Size([22928])\n"
     ]
    }
   ],
   "source": [
    "def build_dataset(words):\n",
    "    block_size = 3\n",
    "    X, Y = [], []\n",
    "    for w in  words:\n",
    "        context = [0] * block_size\n",
    "        for ch in w + '.':\n",
    "            ix = stoi[ch]\n",
    "            X.append(context)\n",
    "            Y.append(ix)\n",
    "            context = context[1:] + [ix]\n",
    "    X = torch.tensor(X)\n",
    "    Y = torch.tensor(Y)\n",
    "    print(X.shape, Y.shape)\n",
    "    return X, Y\n",
    "\n",
    "import random\n",
    "random.seed(42)\n",
    "random.shuffle(words)\n",
    "n1 = int(0.8 * len(words))\n",
    "n2 = int(0.9 * len(words))\n",
    "\n",
    "Xtr, Ytr = build_dataset(words[:n1])\n",
    "Xdev, Ydev = build_dataset(words[n1:n2])\n",
    "Xte, Yte = build_dataset(words[n2:])\n",
    "\n",
    "    "
   ]
  },
  {
   "cell_type": "code",
   "execution_count": 50,
   "id": "32f7babe-e00a-4e79-b9ba-1d377a722a79",
   "metadata": {},
   "outputs": [],
   "source": [
    "# From five words, we create a dataset of 32 examples, each input is a vector of 3 integers"
   ]
  },
  {
   "cell_type": "code",
   "execution_count": 15,
   "id": "ade11692-8a9e-4c5e-9047-02602231a06d",
   "metadata": {},
   "outputs": [
    {
     "data": {
      "text/plain": [
       "tensor([-1.2431, -0.2797])"
      ]
     },
     "execution_count": 15,
     "metadata": {},
     "output_type": "execute_result"
    }
   ],
   "source": [
    "# Building the embedding table\n",
    "C = torch.randn((27, 2)) # Each 1 of 27 characters has an embedding"
   ]
  },
  {
   "cell_type": "code",
   "execution_count": null,
   "id": "d05e7a33-f351-49d6-ba01-172e1883f486",
   "metadata": {},
   "outputs": [],
   "source": [
    "C[5]"
   ]
  },
  {
   "cell_type": "code",
   "execution_count": 22,
   "id": "858263c5-810d-4727-9d84-aa6dec73cae2",
   "metadata": {},
   "outputs": [
    {
     "data": {
      "text/plain": [
       "tensor([[-1.2431, -0.2797],\n",
       "        [ 0.2663,  0.2201],\n",
       "        [-0.4750, -0.3050],\n",
       "        [-0.4750, -0.3050],\n",
       "        [-0.4750, -0.3050],\n",
       "        [-0.4750, -0.3050]])"
      ]
     },
     "execution_count": 22,
     "metadata": {},
     "output_type": "execute_result"
    }
   ],
   "source": [
    "C[[5,6,7,7,7,7]] # Indexng three embeddings"
   ]
  },
  {
   "cell_type": "code",
   "execution_count": 25,
   "id": "794ea0d3-3908-4365-b21a-9e1a74eed3fa",
   "metadata": {},
   "outputs": [
    {
     "data": {
      "text/plain": [
       "torch.Size([32, 3, 2])"
      ]
     },
     "execution_count": 25,
     "metadata": {},
     "output_type": "execute_result"
    }
   ],
   "source": [
    "# Index with multidimensional integers\n",
    "C[X].shape # Original shape, and for all, we retrieve the embedding vector"
   ]
  },
  {
   "cell_type": "code",
   "execution_count": 27,
   "id": "e7f0b117-a13a-4a95-b4b3-bc5994a9761f",
   "metadata": {},
   "outputs": [
    {
     "data": {
      "text/plain": [
       "tensor(1)"
      ]
     },
     "execution_count": 27,
     "metadata": {},
     "output_type": "execute_result"
    }
   ],
   "source": [
    "X[13,2] # Integer of 13th example, 2nd letter"
   ]
  },
  {
   "cell_type": "code",
   "execution_count": 30,
   "id": "c35548c3-716a-41a7-a3b8-75dd078559d0",
   "metadata": {},
   "outputs": [
    {
     "data": {
      "text/plain": [
       "tensor([0.4927, 1.2226])"
      ]
     },
     "execution_count": 30,
     "metadata": {},
     "output_type": "execute_result"
    }
   ],
   "source": [
    "# C[X] gets all of the examples, along with their paired embeddings. \n",
    "#If we index 2 dimensions, we are plucking out the embeddings again\n",
    "C[X][13,2]"
   ]
  },
  {
   "cell_type": "code",
   "execution_count": 31,
   "id": "5d70e806-08e6-4d64-a15e-fe77b6995b43",
   "metadata": {},
   "outputs": [],
   "source": [
    "emb = C[X]"
   ]
  },
  {
   "cell_type": "code",
   "execution_count": 51,
   "id": "94c5a5de-f5bc-4ab7-8c44-2303d4fc3d5d",
   "metadata": {},
   "outputs": [],
   "source": [
    "W1 = torch.rand((6, 100))\n",
    "b1 = torch.rand(100)"
   ]
  },
  {
   "cell_type": "code",
   "execution_count": 40,
   "id": "f8c825b8-d8dd-437c-9045-ff901b2e6201",
   "metadata": {},
   "outputs": [
    {
     "data": {
      "text/plain": [
       "torch.Size([32, 6])"
      ]
     },
     "execution_count": 40,
     "metadata": {},
     "output_type": "execute_result"
    }
   ],
   "source": [
    "torch.cat([emb[:, 0, :], emb[:, 1, :], emb[:, 0, :]], 1).shape   # Just the first character, second and third\n"
   ]
  },
  {
   "cell_type": "code",
   "execution_count": 42,
   "id": "2f6356b6-c3e2-4081-a096-e23f6e711869",
   "metadata": {},
   "outputs": [
    {
     "data": {
      "text/plain": [
       "torch.Size([32, 6])"
      ]
     },
     "execution_count": 42,
     "metadata": {},
     "output_type": "execute_result"
    }
   ],
   "source": [
    "torch.cat(torch.unbind(emb,1), 1).shape"
   ]
  },
  {
   "cell_type": "code",
   "execution_count": 44,
   "id": "edb7c108-f725-4efe-948b-d5da7ed80663",
   "metadata": {},
   "outputs": [],
   "source": [
    "a = torch.arange(18)\n"
   ]
  },
  {
   "cell_type": "code",
   "execution_count": 46,
   "id": "75e1c2e6-428a-4e8f-825b-611df6fed067",
   "metadata": {},
   "outputs": [
    {
     "data": {
      "text/plain": [
       "tensor([[[ 0,  1],\n",
       "         [ 2,  3],\n",
       "         [ 4,  5]],\n",
       "\n",
       "        [[ 6,  7],\n",
       "         [ 8,  9],\n",
       "         [10, 11]],\n",
       "\n",
       "        [[12, 13],\n",
       "         [14, 15],\n",
       "         [16, 17]]])"
      ]
     },
     "execution_count": 46,
     "metadata": {},
     "output_type": "execute_result"
    }
   ],
   "source": [
    "a.view(3,3,2)"
   ]
  },
  {
   "cell_type": "code",
   "execution_count": 47,
   "id": "399d9700-dd61-4380-9f79-56bbc326137f",
   "metadata": {},
   "outputs": [
    {
     "name": "stderr",
     "output_type": "stream",
     "text": [
      "/var/folders/qd/1pjv967d1ylfl4mzr8flbvb00000gn/T/ipykernel_42390/214256462.py:1: UserWarning: TypedStorage is deprecated. It will be removed in the future and UntypedStorage will be the only storage class. This should only matter to you if you are using storages directly.  To access UntypedStorage directly, use tensor.untyped_storage() instead of tensor.storage()\n",
      "  a.storage()\n"
     ]
    },
    {
     "data": {
      "text/plain": [
       " 0\n",
       " 1\n",
       " 2\n",
       " 3\n",
       " 4\n",
       " 5\n",
       " 6\n",
       " 7\n",
       " 8\n",
       " 9\n",
       " 10\n",
       " 11\n",
       " 12\n",
       " 13\n",
       " 14\n",
       " 15\n",
       " 16\n",
       " 17\n",
       "[torch.storage.TypedStorage(dtype=torch.int64, device=cpu) of size 18]"
      ]
     },
     "execution_count": 47,
     "metadata": {},
     "output_type": "execute_result"
    }
   ],
   "source": [
    "# One dimensional tensor - torch.view() no memory is being created\n",
    "a.storage()"
   ]
  },
  {
   "cell_type": "code",
   "execution_count": 48,
   "id": "00772953-73b8-437e-bf6d-0c23de7d72ed",
   "metadata": {},
   "outputs": [
    {
     "data": {
      "text/plain": [
       "torch.Size([32, 3, 2])"
      ]
     },
     "execution_count": 48,
     "metadata": {},
     "output_type": "execute_result"
    }
   ],
   "source": [
    "emb.shape"
   ]
  },
  {
   "cell_type": "code",
   "execution_count": 49,
   "id": "a1e304b9-c454-48d7-94a9-d012060e1226",
   "metadata": {},
   "outputs": [
    {
     "data": {
      "text/plain": [
       "tensor([[ 3.1472, -0.5285,  3.1472, -0.5285,  3.1472, -0.5285],\n",
       "        [ 3.1472, -0.5285,  3.1472, -0.5285, -1.2431, -0.2797],\n",
       "        [ 3.1472, -0.5285, -1.2431, -0.2797, -0.5382,  0.8374],\n",
       "        [-1.2431, -0.2797, -0.5382,  0.8374, -0.5382,  0.8374],\n",
       "        [-0.5382,  0.8374, -0.5382,  0.8374,  0.4927,  1.2226],\n",
       "        [ 3.1472, -0.5285,  3.1472, -0.5285,  3.1472, -0.5285],\n",
       "        [ 3.1472, -0.5285,  3.1472, -0.5285, -0.2795, -0.8082],\n",
       "        [ 3.1472, -0.5285, -0.2795, -0.8082,  0.9790, -0.9053],\n",
       "        [-0.2795, -0.8082,  0.9790, -0.9053, -0.0349,  0.0471],\n",
       "        [ 0.9790, -0.9053, -0.0349,  0.0471, -0.0630, -0.5094],\n",
       "        [-0.0349,  0.0471, -0.0630, -0.5094, -0.0349,  0.0471],\n",
       "        [-0.0630, -0.5094, -0.0349,  0.0471,  0.4927,  1.2226],\n",
       "        [ 3.1472, -0.5285,  3.1472, -0.5285,  3.1472, -0.5285],\n",
       "        [ 3.1472, -0.5285,  3.1472, -0.5285,  0.4927,  1.2226],\n",
       "        [ 3.1472, -0.5285,  0.4927,  1.2226, -0.0630, -0.5094],\n",
       "        [ 0.4927,  1.2226, -0.0630, -0.5094,  0.4927,  1.2226],\n",
       "        [ 3.1472, -0.5285,  3.1472, -0.5285,  3.1472, -0.5285],\n",
       "        [ 3.1472, -0.5285,  3.1472, -0.5285, -0.0349,  0.0471],\n",
       "        [ 3.1472, -0.5285, -0.0349,  0.0471,  0.5955, -0.0860],\n",
       "        [-0.0349,  0.0471,  0.5955, -0.0860,  0.4927,  1.2226],\n",
       "        [ 0.5955, -0.0860,  0.4927,  1.2226,  1.4405,  0.9114],\n",
       "        [ 0.4927,  1.2226,  1.4405,  0.9114, -1.2431, -0.2797],\n",
       "        [ 1.4405,  0.9114, -1.2431, -0.2797,  0.9790, -0.9053],\n",
       "        [-1.2431, -0.2797,  0.9790, -0.9053,  0.9790, -0.9053],\n",
       "        [ 0.9790, -0.9053,  0.9790, -0.9053,  0.4927,  1.2226],\n",
       "        [ 3.1472, -0.5285,  3.1472, -0.5285,  3.1472, -0.5285],\n",
       "        [ 3.1472, -0.5285,  3.1472, -0.5285,  0.5955, -0.0860],\n",
       "        [ 3.1472, -0.5285,  0.5955, -0.0860, -0.2795, -0.8082],\n",
       "        [ 0.5955, -0.0860, -0.2795, -0.8082,  1.7887,  2.0891],\n",
       "        [-0.2795, -0.8082,  1.7887,  2.0891, -0.3821, -1.4567],\n",
       "        [ 1.7887,  2.0891, -0.3821, -1.4567, -0.0349,  0.0471],\n",
       "        [-0.3821, -1.4567, -0.0349,  0.0471,  0.4927,  1.2226]])"
      ]
     },
     "execution_count": 49,
     "metadata": {},
     "output_type": "execute_result"
    }
   ],
   "source": [
    "emb.view(32,6)"
   ]
  },
  {
   "cell_type": "code",
   "execution_count": 57,
   "id": "b0713322-abaa-4ca6-a879-a956f243ff96",
   "metadata": {},
   "outputs": [],
   "source": [
    "h = torch.tanh(emb.view(emb.shape[0],6) @ W1 + b1)"
   ]
  },
  {
   "cell_type": "code",
   "execution_count": 55,
   "id": "6c20c24f-1ca8-45e5-ae16-1fac85263686",
   "metadata": {},
   "outputs": [
    {
     "data": {
      "text/plain": [
       "torch.Size([32, 100])"
      ]
     },
     "execution_count": 55,
     "metadata": {},
     "output_type": "execute_result"
    }
   ],
   "source": [
    "h.shape\n",
    "\n",
    "# torch.cat is less efficient, because concatenation creates new memory"
   ]
  },
  {
   "cell_type": "code",
   "execution_count": 58,
   "id": "de863701-d5e5-4d20-9f3a-30dfb1b14571",
   "metadata": {},
   "outputs": [
    {
     "data": {
      "text/plain": [
       "tensor([[ 0.9974,  0.9879,  0.9998,  ...,  1.0000,  1.0000,  0.9990],\n",
       "        [ 0.9982,  0.8498,  0.9783,  ...,  0.9986,  0.9999,  0.8861],\n",
       "        [ 0.9451,  0.9871,  0.8904,  ...,  0.9892,  0.9891, -0.6371],\n",
       "        ...,\n",
       "        [ 0.9038, -0.8096,  0.7915,  ..., -0.2587,  0.3896,  0.9219],\n",
       "        [ 0.9630,  0.9909,  0.7589,  ...,  0.9963,  0.9772, -0.3183],\n",
       "        [ 0.7669,  0.3460,  0.7496,  ...,  0.7923,  0.4344,  0.1165]])"
      ]
     },
     "execution_count": 58,
     "metadata": {},
     "output_type": "execute_result"
    }
   ],
   "source": [
    "h"
   ]
  },
  {
   "cell_type": "code",
   "execution_count": 61,
   "id": "8a8ca283-76d9-4e4a-a3a2-c21d2be231cb",
   "metadata": {},
   "outputs": [],
   "source": [
    "# Final layer\n",
    "\n",
    "W2 = torch.rand(100, 27)\n",
    "b2 = torch.rand(27)"
   ]
  },
  {
   "cell_type": "code",
   "execution_count": 62,
   "id": "99aedc37-7383-466a-a8be-c3a263ef2cca",
   "metadata": {},
   "outputs": [],
   "source": [
    "logits = h @ W2 + b2\n"
   ]
  },
  {
   "cell_type": "code",
   "execution_count": 63,
   "id": "a3af0ee3-fbee-4e3e-8655-9848cdb487c7",
   "metadata": {},
   "outputs": [
    {
     "data": {
      "text/plain": [
       "torch.Size([32, 27])"
      ]
     },
     "execution_count": 63,
     "metadata": {},
     "output_type": "execute_result"
    }
   ],
   "source": [
    "logits.shape # 32 examples, for a length of 27 ch long"
   ]
  },
  {
   "cell_type": "code",
   "execution_count": 70,
   "id": "8505a916-3944-423e-83ff-01beb15d9f42",
   "metadata": {},
   "outputs": [],
   "source": [
    "counts = logits.exp()\n",
    "prob = counts / counts.sum(1, keepdim = True)"
   ]
  },
  {
   "cell_type": "code",
   "execution_count": 67,
   "id": "9d1c196a-068e-4e2d-871b-6329ef8ab2fc",
   "metadata": {},
   "outputs": [
    {
     "data": {
      "text/plain": [
       "tensor(1.0000)"
      ]
     },
     "execution_count": 67,
     "metadata": {},
     "output_type": "execute_result"
    }
   ],
   "source": [
    "prob[0].sum()"
   ]
  },
  {
   "cell_type": "code",
   "execution_count": 74,
   "id": "5cfff3be-41a3-4693-b2d5-496bd6f3b61b",
   "metadata": {},
   "outputs": [
    {
     "data": {
      "text/plain": [
       "tensor(5.8230)"
      ]
     },
     "execution_count": 74,
     "metadata": {},
     "output_type": "execute_result"
    }
   ],
   "source": [
    "loss = -prob[torch.arange(32), Y].log().mean() # For 32 examples, index the **column** of the corresponding probability\n",
    "loss"
   ]
  },
  {
   "cell_type": "code",
   "execution_count": 69,
   "id": "a6c6fd72-067a-406e-9ede-5a116bc6ef59",
   "metadata": {},
   "outputs": [
    {
     "data": {
      "text/plain": [
       "tensor([ 0,  1,  2,  3,  4,  5,  6,  7,  8,  9, 10, 11, 12, 13, 14, 15, 16, 17,\n",
       "        18, 19, 20, 21, 22, 23, 24, 25, 26, 27, 28, 29, 30, 31])"
      ]
     },
     "execution_count": 69,
     "metadata": {},
     "output_type": "execute_result"
    }
   ],
   "source": [
    "torch.arange(32)"
   ]
  },
  {
   "cell_type": "code",
   "execution_count": 68,
   "id": "a08fadd6-b6e3-4a2d-bdec-d3dc06951207",
   "metadata": {},
   "outputs": [
    {
     "data": {
      "text/plain": [
       "tensor([ 5, 13, 13,  1,  0, 15, 12,  9, 22,  9,  1,  0,  1, 22,  1,  0,  9, 19,\n",
       "         1,  2,  5, 12, 12,  1,  0, 19, 15, 16,  8,  9,  1,  0])"
      ]
     },
     "execution_count": 68,
     "metadata": {},
     "output_type": "execute_result"
    }
   ],
   "source": [
    "Y"
   ]
  },
  {
   "cell_type": "code",
   "execution_count": 382,
   "id": "646139b4-bf93-474f-99af-ee3b6233753f",
   "metadata": {},
   "outputs": [
    {
     "data": {
      "text/plain": [
       "(torch.Size([182437, 3]), torch.Size([182437]))"
      ]
     },
     "execution_count": 382,
     "metadata": {},
     "output_type": "execute_result"
    }
   ],
   "source": [
    "Xtr.shape, Ytr.shape"
   ]
  },
  {
   "cell_type": "code",
   "execution_count": 415,
   "id": "4166cd3a-fc32-4287-a3a3-34a56ff37e1e",
   "metadata": {},
   "outputs": [],
   "source": [
    "g = torch.Generator().manual_seed(2147483647)\n",
    "C = torch.randn((27,10), generator = g)\n",
    "W1 = torch.randn((30,200), generator = g)\n",
    "b1 = torch.randn(200, generator = g)\n",
    "W2 = torch.randn((200, 27), generator = g)\n",
    "b2 = torch.randn(27, generator = g)\n",
    "parameters = [C, W1, b1, W2, b2]"
   ]
  },
  {
   "cell_type": "code",
   "execution_count": 416,
   "id": "cae4841b-8c57-4240-bef7-ecc374505e40",
   "metadata": {},
   "outputs": [
    {
     "data": {
      "text/plain": [
       "11897"
      ]
     },
     "execution_count": 416,
     "metadata": {},
     "output_type": "execute_result"
    }
   ],
   "source": [
    "# Number of total parameters to optimize\n",
    "sum(p.nelement() for p in parameters)"
   ]
  },
  {
   "cell_type": "code",
   "execution_count": 417,
   "id": "32d995d3-9c6a-4ad2-972a-4ca2de68c8b6",
   "metadata": {},
   "outputs": [],
   "source": [
    "for p in parameters:\n",
    "    p.requires_grad = True"
   ]
  },
  {
   "cell_type": "code",
   "execution_count": 291,
   "id": "f45ed659-a1c0-4a9f-9b2f-f6dc36aca990",
   "metadata": {},
   "outputs": [],
   "source": [
    "# If we pass a very positive number, we will run out of range\n",
    "# Any offset produces the same probability. PyTorch will subtract the highest number because normalization works"
   ]
  },
  {
   "cell_type": "code",
   "execution_count": 414,
   "id": "352b422d-4617-4285-8202-c7a0570eb991",
   "metadata": {
    "scrolled": true
   },
   "outputs": [],
   "source": [
    "# lre = torch.linspace(-3, 0, 1000)\n",
    "# lrs = 10 ** lre"
   ]
  },
  {
   "cell_type": "code",
   "execution_count": 304,
   "id": "c79b40e9-3ce6-418e-9b4f-0ea4782324f7",
   "metadata": {},
   "outputs": [],
   "source": [
    "# The gradient of a batch is less reliable - but it is still useful - better to have an approx gradient and take a somewhat accurate step\n",
    "# How to determine a reasonable learning rate? \n",
    "# As the capacity / parameters grows, the network becomes more capable of overfitting\n",
    "# You don't want the model to memorize the dataset\n",
    "# Training split, dev/validation split, and test split\n",
    "# Dev/validation are used for development of hyperparameters of the model\n",
    "# Training is used to train the parameters\n",
    "# Test is used to evaluate the model performance (cannot test on it a lot)\n",
    "# 80%, 10%, 10%\n",
    "# In production, you would create hyperparameters and run lots of experiments on which ones are working well"
   ]
  },
  {
   "cell_type": "code",
   "execution_count": 419,
   "id": "50488b4e-c26d-47b4-9b90-1ae9b96c68b1",
   "metadata": {},
   "outputs": [],
   "source": [
    "lri = []\n",
    "lossi = []\n",
    "stepi = []"
   ]
  },
  {
   "cell_type": "code",
   "execution_count": 433,
   "id": "4761dca1-c539-4d3c-8254-5db24ffa88fa",
   "metadata": {
    "scrolled": true
   },
   "outputs": [
    {
     "name": "stdout",
     "output_type": "stream",
     "text": [
      "1.963691234588623\n"
     ]
    }
   ],
   "source": [
    "for i in range(200000):\n",
    "    # Mini-batch\n",
    "    ix = torch.randint(0, Xtr.shape[0], (32,))\n",
    "    \n",
    "    # Forward pass\n",
    "    emb = C[Xtr[ix]]\n",
    "    h = torch.tanh(emb.view(-1, 30) @ W1 + b1) # (32, 100)\n",
    "    logits = h @ W2 + b2 # (32, 27)\n",
    "    # counts = logits.exp()\n",
    "    # prob = counts/counts.sum(1, keepdims = True)\n",
    "    # loss = -prob[torch.arange(32), Y].log().mean()\n",
    "    loss = F.cross_entropy(logits, Ytr[ix])\n",
    "    # print(loss.item())\n",
    "\n",
    "    # Backward pass\n",
    "    for p in parameters:\n",
    "        p.grad = None\n",
    "    loss.backward()\n",
    "    \n",
    "    # Update paramaters\n",
    "    # lr = lrs[i]\n",
    "    lr = 0.1 if i < 100000 else 0.01\n",
    "    for p in parameters:\n",
    "        p.data += -lr * p.grad\n",
    "\n",
    "    # Track stas\n",
    "    # lri.append(lre[i])\n",
    "    stepi.append(i)\n",
    "    lossi.append(loss.log10().item())\n",
    "print(loss.item())\n"
   ]
  },
  {
   "cell_type": "code",
   "execution_count": 434,
   "id": "220fa167-aec5-46d8-ba8a-1b4e96e55380",
   "metadata": {},
   "outputs": [
    {
     "data": {
      "text/plain": [
       "[<matplotlib.lines.Line2D at 0x1513c1a90>]"
      ]
     },
     "execution_count": 434,
     "metadata": {},
     "output_type": "execute_result"
    },
    {
     "data": {
      "image/png": "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",
      "text/plain": [
       "<Figure size 640x480 with 1 Axes>"
      ]
     },
     "metadata": {},
     "output_type": "display_data"
    }
   ],
   "source": [
    "plt.plot(stepi, lossi)"
   ]
  },
  {
   "cell_type": "code",
   "execution_count": 394,
   "id": "6ece59e3-c95e-487f-886d-ee3f2e4d6009",
   "metadata": {},
   "outputs": [],
   "source": [
    "# plt.plot(lri, lossi)"
   ]
  },
  {
   "cell_type": "code",
   "execution_count": 409,
   "id": "b4ee7e52-a5e3-4ec5-af14-fd4b9d15b134",
   "metadata": {},
   "outputs": [],
   "source": [
    "# logits.max(1)"
   ]
  },
  {
   "cell_type": "code",
   "execution_count": 408,
   "id": "b2f5b483-5fe2-4a51-a5eb-1d4d78dbf4e8",
   "metadata": {},
   "outputs": [],
   "source": [
    "# Y"
   ]
  },
  {
   "cell_type": "code",
   "execution_count": 406,
   "id": "b16e06ec-c3c3-4b2b-8833-7067c3649a3c",
   "metadata": {},
   "outputs": [],
   "source": [
    "# torch.randint(0, X.shape[0], (32,))"
   ]
  },
  {
   "cell_type": "code",
   "execution_count": 437,
   "id": "472749c9-7b1e-4302-95aa-c98dadba83c5",
   "metadata": {},
   "outputs": [
    {
     "data": {
      "text/plain": [
       "tensor(2.0882, grad_fn=<NllLossBackward0>)"
      ]
     },
     "execution_count": 437,
     "metadata": {},
     "output_type": "execute_result"
    }
   ],
   "source": [
    "emb = C[Xtr]\n",
    "h = torch.tanh(emb.view(-1,30) @ W1 + b1)\n",
    "logits = h @ W2 + b2\n",
    "loss = F.cross_entropy(logits, Ytr)\n",
    "loss"
   ]
  },
  {
   "cell_type": "code",
   "execution_count": 438,
   "id": "c4172e91-0c61-4f82-adeb-6eabbfb6fabe",
   "metadata": {},
   "outputs": [
    {
     "data": {
      "text/plain": [
       "tensor(2.1563, grad_fn=<NllLossBackward0>)"
      ]
     },
     "execution_count": 438,
     "metadata": {},
     "output_type": "execute_result"
    }
   ],
   "source": [
    "emb = C[Xdev]\n",
    "h = torch.tanh(emb.view(-1,30) @ W1 + b1)\n",
    "logits = h @ W2 + b2\n",
    "loss = F.cross_entropy(logits, Ydev)\n",
    "loss"
   ]
  },
  {
   "cell_type": "code",
   "execution_count": 436,
   "id": "d04d68b2-ab9b-4c08-af95-78a4854f6e63",
   "metadata": {},
   "outputs": [
    {
     "data": {
      "image/png": "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",
      "text/plain": [
       "<Figure size 800x800 with 1 Axes>"
      ]
     },
     "metadata": {},
     "output_type": "display_data"
    }
   ],
   "source": [
    "plt.figure(figsize = (8,8))\n",
    "plt.scatter(C[:,0].data, C[:,1].data, s = 200)\n",
    "for i in range (C.shape[0]):\n",
    "    plt.text(C[i,0].item(), C[i,1].item(), itos[i], ha = \"center\", va = \"center\", color = 'white')\n",
    "plt.grid('minor')\n",
    "\n",
    "# Vowels are close to eachother - network thinks they are similar\n",
    "# Points such as q are far away - special embedding vector"
   ]
  },
  {
   "cell_type": "code",
   "execution_count": 442,
   "id": "eaa35c12-bb82-462a-a822-c64fd893e72b",
   "metadata": {},
   "outputs": [
    {
     "name": "stdout",
     "output_type": "stream",
     "text": [
      "kalija.\n",
      "marria.\n",
      "tavianya.\n",
      "allandis.\n",
      "siden.\n",
      "addealynn.\n",
      "rantheatiuma.\n",
      "bore.\n",
      "kyrah.\n",
      "saydin.\n",
      "atamiiah.\n",
      "nefi.\n",
      "rafwon.\n",
      "kalia.\n",
      "amaireyfinnleya.\n",
      "marsh.\n",
      "deynn.\n",
      "jameretfia.\n",
      "zyn.\n",
      "hora.\n"
     ]
    }
   ],
   "source": [
    "# Sample from the model\n",
    "\n",
    "for _ in range (20):\n",
    "    out = []\n",
    "    # List of three zeros\n",
    "    context = [0] * block_size\n",
    "    while True:\n",
    "        # Embed current context using embedding table\n",
    "        emb = C[torch.tensor([context])] # (1, block_size, d)\n",
    "        h = torch.tanh(emb.view(1, -1) @ W1 + b1)\n",
    "        logits = h @ W2 + b2\n",
    "        probs = F.softmax(logits, dim = 1)\n",
    "        # Sample from our probabilities\n",
    "        ix = torch.multinomial(probs, num_samples = 1, generator = g).item()\n",
    "        # Shift context window, and record it\n",
    "        context = context[1:] + [ix]\n",
    "        out.append(ix)\n",
    "        if ix == 0:\n",
    "            break\n",
    "    print(''.join(itos[i] for i in out))"
   ]
  },
  {
   "cell_type": "code",
   "execution_count": null,
   "id": "b23a240e-694b-4784-a0dc-cbfdd7d8e06e",
   "metadata": {},
   "outputs": [],
   "source": []
  }
 ],
 "metadata": {
  "kernelspec": {
   "display_name": "Python 3 (ipykernel)",
   "language": "python",
   "name": "python3"
  },
  "language_info": {
   "codemirror_mode": {
    "name": "ipython",
    "version": 3
   },
   "file_extension": ".py",
   "mimetype": "text/x-python",
   "name": "python",
   "nbconvert_exporter": "python",
   "pygments_lexer": "ipython3",
   "version": "3.12.2"
  }
 },
 "nbformat": 4,
 "nbformat_minor": 5
}
=======
{
 "cells": [
  {
   "cell_type": "code",
   "execution_count": 1,
   "id": "2f812693-c3cf-4726-a0ee-53aa4a74ecd7",
   "metadata": {},
   "outputs": [],
   "source": [
    "import torch\n",
    "import torch.nn.functional as F\n",
    "import matplotlib.pyplot as plt\n",
    "%matplotlib inline"
   ]
  },
  {
   "cell_type": "code",
   "execution_count": 338,
   "id": "66cf712c-dba7-4548-8b9c-7fcffd0f03f5",
   "metadata": {},
   "outputs": [],
   "source": [
    "words = open('names.txt', 'r').read().splitlines()"
   ]
  },
  {
   "cell_type": "code",
   "execution_count": 3,
   "id": "53549e14-a387-4aaf-953f-c61a4a356f32",
   "metadata": {},
   "outputs": [
    {
     "data": {
      "text/plain": [
       "32033"
      ]
     },
     "execution_count": 3,
     "metadata": {},
     "output_type": "execute_result"
    }
   ],
   "source": [
    "len(words)"
   ]
  },
  {
   "cell_type": "code",
   "execution_count": 4,
   "id": "3087c29f-c623-4118-85f8-9dbde772eaa0",
   "metadata": {},
   "outputs": [],
   "source": [
    "chars = sorted(list(set(''.join(words))))"
   ]
  },
  {
   "cell_type": "code",
   "execution_count": 5,
   "id": "e01f8f39-17e6-42f9-bb11-5ee5533acb2c",
   "metadata": {},
   "outputs": [
    {
     "name": "stdout",
     "output_type": "stream",
     "text": [
      "{1: 'a', 2: 'b', 3: 'c', 4: 'd', 5: 'e', 6: 'f', 7: 'g', 8: 'h', 9: 'i', 10: 'j', 11: 'k', 12: 'l', 13: 'm', 14: 'n', 15: 'o', 16: 'p', 17: 'q', 18: 'r', 19: 's', 20: 't', 21: 'u', 22: 'v', 23: 'w', 24: 'x', 25: 'y', 26: 'z', 0: '.'}\n"
     ]
    }
   ],
   "source": [
    "stoi = {s:i+1 for i,s in enumerate(chars)}\n",
    "stoi['.'] = 0\n",
    "itos = {i:s for s,i in stoi.items()}\n",
    "print(itos)"
   ]
  },
  {
   "cell_type": "code",
   "execution_count": 207,
   "id": "6e000c8e-804c-4b3f-a5f5-eede44408b17",
   "metadata": {},
   "outputs": [],
   "source": [
    "# Three examples\n",
    "\n",
    "block_size = 3 # Context length of how many characters we take to predict the next character\n",
    "# Training set and albels\n",
    "X, Y = [], []\n",
    "\n",
    "for w in words:\n",
    "    # print(w)\n",
    "    # Creates an list of three zeros\n",
    "    context = [0] * block_size\n",
    "    for ch in w + '.':\n",
    "        # Turn ch into corresponding index\n",
    "        ix = stoi[ch]\n",
    "        # Add the list to X\n",
    "        X.append(context)\n",
    "        # Add the index to Y\n",
    "        Y.append(ix)\n",
    "        # Prints whatever is stored in the context, and the coresponding char that should follow\n",
    "        # print(''.join(itos[i] for i in context), '---->', itos[ix])\n",
    "        # Updating the context, putting the new ch at the end\n",
    "        context = context[1:] + [ix]\n",
    "\n",
    "X = torch.tensor(X)\n",
    "Y = torch.tensor(Y)"
   ]
  },
  {
   "cell_type": "code",
   "execution_count": 342,
   "id": "262356de-a114-4efe-8ed1-e694fb718815",
   "metadata": {},
   "outputs": [
    {
     "data": {
      "text/plain": [
       "(torch.Size([228146, 3]), torch.int64, torch.Size([228146]), torch.int64)"
      ]
     },
     "execution_count": 342,
     "metadata": {},
     "output_type": "execute_result"
    }
   ],
   "source": [
    "X.shape, X.dtype, Y.shape, Y.dtype"
   ]
  },
  {
   "cell_type": "code",
   "execution_count": 343,
   "id": "9e0eefc2-8dac-42c3-a82d-36a61229cfb6",
   "metadata": {},
   "outputs": [
    {
     "name": "stdout",
     "output_type": "stream",
     "text": [
      "torch.Size([182437, 3]) torch.Size([182437])\n",
      "torch.Size([22781, 3]) torch.Size([22781])\n",
      "torch.Size([22928, 3]) torch.Size([22928])\n"
     ]
    }
   ],
   "source": [
    "def build_dataset(words):\n",
    "    block_size = 3\n",
    "    X, Y = [], []\n",
    "    for w in  words:\n",
    "        context = [0] * block_size\n",
    "        for ch in w + '.':\n",
    "            ix = stoi[ch]\n",
    "            X.append(context)\n",
    "            Y.append(ix)\n",
    "            context = context[1:] + [ix]\n",
    "    X = torch.tensor(X)\n",
    "    Y = torch.tensor(Y)\n",
    "    print(X.shape, Y.shape)\n",
    "    return X, Y\n",
    "\n",
    "import random\n",
    "random.seed(42)\n",
    "random.shuffle(words)\n",
    "n1 = int(0.8 * len(words))\n",
    "n2 = int(0.9 * len(words))\n",
    "\n",
    "Xtr, Ytr = build_dataset(words[:n1])\n",
    "Xdev, Ydev = build_dataset(words[n1:n2])\n",
    "Xte, Yte = build_dataset(words[n2:])\n",
    "\n",
    "    "
   ]
  },
  {
   "cell_type": "code",
   "execution_count": 50,
   "id": "32f7babe-e00a-4e79-b9ba-1d377a722a79",
   "metadata": {},
   "outputs": [],
   "source": [
    "# From five words, we create a dataset of 32 examples, each input is a vector of 3 integers"
   ]
  },
  {
   "cell_type": "code",
   "execution_count": 15,
   "id": "ade11692-8a9e-4c5e-9047-02602231a06d",
   "metadata": {},
   "outputs": [
    {
     "data": {
      "text/plain": [
       "tensor([-1.2431, -0.2797])"
      ]
     },
     "execution_count": 15,
     "metadata": {},
     "output_type": "execute_result"
    }
   ],
   "source": [
    "# Building the embedding table\n",
    "C = torch.randn((27, 2)) # Each 1 of 27 characters has an embedding"
   ]
  },
  {
   "cell_type": "code",
   "execution_count": null,
   "id": "d05e7a33-f351-49d6-ba01-172e1883f486",
   "metadata": {},
   "outputs": [],
   "source": [
    "C[5]"
   ]
  },
  {
   "cell_type": "code",
   "execution_count": 22,
   "id": "858263c5-810d-4727-9d84-aa6dec73cae2",
   "metadata": {},
   "outputs": [
    {
     "data": {
      "text/plain": [
       "tensor([[-1.2431, -0.2797],\n",
       "        [ 0.2663,  0.2201],\n",
       "        [-0.4750, -0.3050],\n",
       "        [-0.4750, -0.3050],\n",
       "        [-0.4750, -0.3050],\n",
       "        [-0.4750, -0.3050]])"
      ]
     },
     "execution_count": 22,
     "metadata": {},
     "output_type": "execute_result"
    }
   ],
   "source": [
    "C[[5,6,7,7,7,7]] # Indexng three embeddings"
   ]
  },
  {
   "cell_type": "code",
   "execution_count": 25,
   "id": "794ea0d3-3908-4365-b21a-9e1a74eed3fa",
   "metadata": {},
   "outputs": [
    {
     "data": {
      "text/plain": [
       "torch.Size([32, 3, 2])"
      ]
     },
     "execution_count": 25,
     "metadata": {},
     "output_type": "execute_result"
    }
   ],
   "source": [
    "# Index with multidimensional integers\n",
    "C[X].shape # Original shape, and for all, we retrieve the embedding vector"
   ]
  },
  {
   "cell_type": "code",
   "execution_count": 27,
   "id": "e7f0b117-a13a-4a95-b4b3-bc5994a9761f",
   "metadata": {},
   "outputs": [
    {
     "data": {
      "text/plain": [
       "tensor(1)"
      ]
     },
     "execution_count": 27,
     "metadata": {},
     "output_type": "execute_result"
    }
   ],
   "source": [
    "X[13,2] # Integer of 13th example, 2nd letter"
   ]
  },
  {
   "cell_type": "code",
   "execution_count": 30,
   "id": "c35548c3-716a-41a7-a3b8-75dd078559d0",
   "metadata": {},
   "outputs": [
    {
     "data": {
      "text/plain": [
       "tensor([0.4927, 1.2226])"
      ]
     },
     "execution_count": 30,
     "metadata": {},
     "output_type": "execute_result"
    }
   ],
   "source": [
    "# C[X] gets all of the examples, along with their paired embeddings. \n",
    "#If we index 2 dimensions, we are plucking out the embeddings again\n",
    "C[X][13,2]"
   ]
  },
  {
   "cell_type": "code",
   "execution_count": 31,
   "id": "5d70e806-08e6-4d64-a15e-fe77b6995b43",
   "metadata": {},
   "outputs": [],
   "source": [
    "emb = C[X]"
   ]
  },
  {
   "cell_type": "code",
   "execution_count": 51,
   "id": "94c5a5de-f5bc-4ab7-8c44-2303d4fc3d5d",
   "metadata": {},
   "outputs": [],
   "source": [
    "W1 = torch.rand((6, 100))\n",
    "b1 = torch.rand(100)"
   ]
  },
  {
   "cell_type": "code",
   "execution_count": 40,
   "id": "f8c825b8-d8dd-437c-9045-ff901b2e6201",
   "metadata": {},
   "outputs": [
    {
     "data": {
      "text/plain": [
       "torch.Size([32, 6])"
      ]
     },
     "execution_count": 40,
     "metadata": {},
     "output_type": "execute_result"
    }
   ],
   "source": [
    "torch.cat([emb[:, 0, :], emb[:, 1, :], emb[:, 0, :]], 1).shape   # Just the first character, second and third\n"
   ]
  },
  {
   "cell_type": "code",
   "execution_count": 42,
   "id": "2f6356b6-c3e2-4081-a096-e23f6e711869",
   "metadata": {},
   "outputs": [
    {
     "data": {
      "text/plain": [
       "torch.Size([32, 6])"
      ]
     },
     "execution_count": 42,
     "metadata": {},
     "output_type": "execute_result"
    }
   ],
   "source": [
    "torch.cat(torch.unbind(emb,1), 1).shape"
   ]
  },
  {
   "cell_type": "code",
   "execution_count": 44,
   "id": "edb7c108-f725-4efe-948b-d5da7ed80663",
   "metadata": {},
   "outputs": [],
   "source": [
    "a = torch.arange(18)\n"
   ]
  },
  {
   "cell_type": "code",
   "execution_count": 46,
   "id": "75e1c2e6-428a-4e8f-825b-611df6fed067",
   "metadata": {},
   "outputs": [
    {
     "data": {
      "text/plain": [
       "tensor([[[ 0,  1],\n",
       "         [ 2,  3],\n",
       "         [ 4,  5]],\n",
       "\n",
       "        [[ 6,  7],\n",
       "         [ 8,  9],\n",
       "         [10, 11]],\n",
       "\n",
       "        [[12, 13],\n",
       "         [14, 15],\n",
       "         [16, 17]]])"
      ]
     },
     "execution_count": 46,
     "metadata": {},
     "output_type": "execute_result"
    }
   ],
   "source": [
    "a.view(3,3,2)"
   ]
  },
  {
   "cell_type": "code",
   "execution_count": 47,
   "id": "399d9700-dd61-4380-9f79-56bbc326137f",
   "metadata": {},
   "outputs": [
    {
     "name": "stderr",
     "output_type": "stream",
     "text": [
      "/var/folders/qd/1pjv967d1ylfl4mzr8flbvb00000gn/T/ipykernel_42390/214256462.py:1: UserWarning: TypedStorage is deprecated. It will be removed in the future and UntypedStorage will be the only storage class. This should only matter to you if you are using storages directly.  To access UntypedStorage directly, use tensor.untyped_storage() instead of tensor.storage()\n",
      "  a.storage()\n"
     ]
    },
    {
     "data": {
      "text/plain": [
       " 0\n",
       " 1\n",
       " 2\n",
       " 3\n",
       " 4\n",
       " 5\n",
       " 6\n",
       " 7\n",
       " 8\n",
       " 9\n",
       " 10\n",
       " 11\n",
       " 12\n",
       " 13\n",
       " 14\n",
       " 15\n",
       " 16\n",
       " 17\n",
       "[torch.storage.TypedStorage(dtype=torch.int64, device=cpu) of size 18]"
      ]
     },
     "execution_count": 47,
     "metadata": {},
     "output_type": "execute_result"
    }
   ],
   "source": [
    "# One dimensional tensor - torch.view() no memory is being created\n",
    "a.storage()"
   ]
  },
  {
   "cell_type": "code",
   "execution_count": 48,
   "id": "00772953-73b8-437e-bf6d-0c23de7d72ed",
   "metadata": {},
   "outputs": [
    {
     "data": {
      "text/plain": [
       "torch.Size([32, 3, 2])"
      ]
     },
     "execution_count": 48,
     "metadata": {},
     "output_type": "execute_result"
    }
   ],
   "source": [
    "emb.shape"
   ]
  },
  {
   "cell_type": "code",
   "execution_count": 49,
   "id": "a1e304b9-c454-48d7-94a9-d012060e1226",
   "metadata": {},
   "outputs": [
    {
     "data": {
      "text/plain": [
       "tensor([[ 3.1472, -0.5285,  3.1472, -0.5285,  3.1472, -0.5285],\n",
       "        [ 3.1472, -0.5285,  3.1472, -0.5285, -1.2431, -0.2797],\n",
       "        [ 3.1472, -0.5285, -1.2431, -0.2797, -0.5382,  0.8374],\n",
       "        [-1.2431, -0.2797, -0.5382,  0.8374, -0.5382,  0.8374],\n",
       "        [-0.5382,  0.8374, -0.5382,  0.8374,  0.4927,  1.2226],\n",
       "        [ 3.1472, -0.5285,  3.1472, -0.5285,  3.1472, -0.5285],\n",
       "        [ 3.1472, -0.5285,  3.1472, -0.5285, -0.2795, -0.8082],\n",
       "        [ 3.1472, -0.5285, -0.2795, -0.8082,  0.9790, -0.9053],\n",
       "        [-0.2795, -0.8082,  0.9790, -0.9053, -0.0349,  0.0471],\n",
       "        [ 0.9790, -0.9053, -0.0349,  0.0471, -0.0630, -0.5094],\n",
       "        [-0.0349,  0.0471, -0.0630, -0.5094, -0.0349,  0.0471],\n",
       "        [-0.0630, -0.5094, -0.0349,  0.0471,  0.4927,  1.2226],\n",
       "        [ 3.1472, -0.5285,  3.1472, -0.5285,  3.1472, -0.5285],\n",
       "        [ 3.1472, -0.5285,  3.1472, -0.5285,  0.4927,  1.2226],\n",
       "        [ 3.1472, -0.5285,  0.4927,  1.2226, -0.0630, -0.5094],\n",
       "        [ 0.4927,  1.2226, -0.0630, -0.5094,  0.4927,  1.2226],\n",
       "        [ 3.1472, -0.5285,  3.1472, -0.5285,  3.1472, -0.5285],\n",
       "        [ 3.1472, -0.5285,  3.1472, -0.5285, -0.0349,  0.0471],\n",
       "        [ 3.1472, -0.5285, -0.0349,  0.0471,  0.5955, -0.0860],\n",
       "        [-0.0349,  0.0471,  0.5955, -0.0860,  0.4927,  1.2226],\n",
       "        [ 0.5955, -0.0860,  0.4927,  1.2226,  1.4405,  0.9114],\n",
       "        [ 0.4927,  1.2226,  1.4405,  0.9114, -1.2431, -0.2797],\n",
       "        [ 1.4405,  0.9114, -1.2431, -0.2797,  0.9790, -0.9053],\n",
       "        [-1.2431, -0.2797,  0.9790, -0.9053,  0.9790, -0.9053],\n",
       "        [ 0.9790, -0.9053,  0.9790, -0.9053,  0.4927,  1.2226],\n",
       "        [ 3.1472, -0.5285,  3.1472, -0.5285,  3.1472, -0.5285],\n",
       "        [ 3.1472, -0.5285,  3.1472, -0.5285,  0.5955, -0.0860],\n",
       "        [ 3.1472, -0.5285,  0.5955, -0.0860, -0.2795, -0.8082],\n",
       "        [ 0.5955, -0.0860, -0.2795, -0.8082,  1.7887,  2.0891],\n",
       "        [-0.2795, -0.8082,  1.7887,  2.0891, -0.3821, -1.4567],\n",
       "        [ 1.7887,  2.0891, -0.3821, -1.4567, -0.0349,  0.0471],\n",
       "        [-0.3821, -1.4567, -0.0349,  0.0471,  0.4927,  1.2226]])"
      ]
     },
     "execution_count": 49,
     "metadata": {},
     "output_type": "execute_result"
    }
   ],
   "source": [
    "emb.view(32,6)"
   ]
  },
  {
   "cell_type": "code",
   "execution_count": 57,
   "id": "b0713322-abaa-4ca6-a879-a956f243ff96",
   "metadata": {},
   "outputs": [],
   "source": [
    "h = torch.tanh(emb.view(emb.shape[0],6) @ W1 + b1)"
   ]
  },
  {
   "cell_type": "code",
   "execution_count": 55,
   "id": "6c20c24f-1ca8-45e5-ae16-1fac85263686",
   "metadata": {},
   "outputs": [
    {
     "data": {
      "text/plain": [
       "torch.Size([32, 100])"
      ]
     },
     "execution_count": 55,
     "metadata": {},
     "output_type": "execute_result"
    }
   ],
   "source": [
    "h.shape\n",
    "\n",
    "# torch.cat is less efficient, because concatenation creates new memory"
   ]
  },
  {
   "cell_type": "code",
   "execution_count": 58,
   "id": "de863701-d5e5-4d20-9f3a-30dfb1b14571",
   "metadata": {},
   "outputs": [
    {
     "data": {
      "text/plain": [
       "tensor([[ 0.9974,  0.9879,  0.9998,  ...,  1.0000,  1.0000,  0.9990],\n",
       "        [ 0.9982,  0.8498,  0.9783,  ...,  0.9986,  0.9999,  0.8861],\n",
       "        [ 0.9451,  0.9871,  0.8904,  ...,  0.9892,  0.9891, -0.6371],\n",
       "        ...,\n",
       "        [ 0.9038, -0.8096,  0.7915,  ..., -0.2587,  0.3896,  0.9219],\n",
       "        [ 0.9630,  0.9909,  0.7589,  ...,  0.9963,  0.9772, -0.3183],\n",
       "        [ 0.7669,  0.3460,  0.7496,  ...,  0.7923,  0.4344,  0.1165]])"
      ]
     },
     "execution_count": 58,
     "metadata": {},
     "output_type": "execute_result"
    }
   ],
   "source": [
    "h"
   ]
  },
  {
   "cell_type": "code",
   "execution_count": 61,
   "id": "8a8ca283-76d9-4e4a-a3a2-c21d2be231cb",
   "metadata": {},
   "outputs": [],
   "source": [
    "# Final layer\n",
    "\n",
    "W2 = torch.rand(100, 27)\n",
    "b2 = torch.rand(27)"
   ]
  },
  {
   "cell_type": "code",
   "execution_count": 62,
   "id": "99aedc37-7383-466a-a8be-c3a263ef2cca",
   "metadata": {},
   "outputs": [],
   "source": [
    "logits = h @ W2 + b2\n"
   ]
  },
  {
   "cell_type": "code",
   "execution_count": 63,
   "id": "a3af0ee3-fbee-4e3e-8655-9848cdb487c7",
   "metadata": {},
   "outputs": [
    {
     "data": {
      "text/plain": [
       "torch.Size([32, 27])"
      ]
     },
     "execution_count": 63,
     "metadata": {},
     "output_type": "execute_result"
    }
   ],
   "source": [
    "logits.shape # 32 examples, for a length of 27 ch long"
   ]
  },
  {
   "cell_type": "code",
   "execution_count": 70,
   "id": "8505a916-3944-423e-83ff-01beb15d9f42",
   "metadata": {},
   "outputs": [],
   "source": [
    "counts = logits.exp()\n",
    "prob = counts / counts.sum(1, keepdim = True)"
   ]
  },
  {
   "cell_type": "code",
   "execution_count": 67,
   "id": "9d1c196a-068e-4e2d-871b-6329ef8ab2fc",
   "metadata": {},
   "outputs": [
    {
     "data": {
      "text/plain": [
       "tensor(1.0000)"
      ]
     },
     "execution_count": 67,
     "metadata": {},
     "output_type": "execute_result"
    }
   ],
   "source": [
    "prob[0].sum()"
   ]
  },
  {
   "cell_type": "code",
   "execution_count": 74,
   "id": "5cfff3be-41a3-4693-b2d5-496bd6f3b61b",
   "metadata": {},
   "outputs": [
    {
     "data": {
      "text/plain": [
       "tensor(5.8230)"
      ]
     },
     "execution_count": 74,
     "metadata": {},
     "output_type": "execute_result"
    }
   ],
   "source": [
    "loss = -prob[torch.arange(32), Y].log().mean() # For 32 examples, index the **column** of the corresponding probability\n",
    "loss"
   ]
  },
  {
   "cell_type": "code",
   "execution_count": 69,
   "id": "a6c6fd72-067a-406e-9ede-5a116bc6ef59",
   "metadata": {},
   "outputs": [
    {
     "data": {
      "text/plain": [
       "tensor([ 0,  1,  2,  3,  4,  5,  6,  7,  8,  9, 10, 11, 12, 13, 14, 15, 16, 17,\n",
       "        18, 19, 20, 21, 22, 23, 24, 25, 26, 27, 28, 29, 30, 31])"
      ]
     },
     "execution_count": 69,
     "metadata": {},
     "output_type": "execute_result"
    }
   ],
   "source": [
    "torch.arange(32)"
   ]
  },
  {
   "cell_type": "code",
   "execution_count": 68,
   "id": "a08fadd6-b6e3-4a2d-bdec-d3dc06951207",
   "metadata": {},
   "outputs": [
    {
     "data": {
      "text/plain": [
       "tensor([ 5, 13, 13,  1,  0, 15, 12,  9, 22,  9,  1,  0,  1, 22,  1,  0,  9, 19,\n",
       "         1,  2,  5, 12, 12,  1,  0, 19, 15, 16,  8,  9,  1,  0])"
      ]
     },
     "execution_count": 68,
     "metadata": {},
     "output_type": "execute_result"
    }
   ],
   "source": [
    "Y"
   ]
  },
  {
   "cell_type": "code",
   "execution_count": 382,
   "id": "646139b4-bf93-474f-99af-ee3b6233753f",
   "metadata": {},
   "outputs": [
    {
     "data": {
      "text/plain": [
       "(torch.Size([182437, 3]), torch.Size([182437]))"
      ]
     },
     "execution_count": 382,
     "metadata": {},
     "output_type": "execute_result"
    }
   ],
   "source": [
    "Xtr.shape, Ytr.shape"
   ]
  },
  {
   "cell_type": "code",
   "execution_count": 415,
   "id": "4166cd3a-fc32-4287-a3a3-34a56ff37e1e",
   "metadata": {},
   "outputs": [],
   "source": [
    "g = torch.Generator().manual_seed(2147483647)\n",
    "C = torch.randn((27,10), generator = g)\n",
    "W1 = torch.randn((30,200), generator = g)\n",
    "b1 = torch.randn(200, generator = g)\n",
    "W2 = torch.randn((200, 27), generator = g)\n",
    "b2 = torch.randn(27, generator = g)\n",
    "parameters = [C, W1, b1, W2, b2]"
   ]
  },
  {
   "cell_type": "code",
   "execution_count": 416,
   "id": "cae4841b-8c57-4240-bef7-ecc374505e40",
   "metadata": {},
   "outputs": [
    {
     "data": {
      "text/plain": [
       "11897"
      ]
     },
     "execution_count": 416,
     "metadata": {},
     "output_type": "execute_result"
    }
   ],
   "source": [
    "# Number of total parameters to optimize\n",
    "sum(p.nelement() for p in parameters)"
   ]
  },
  {
   "cell_type": "code",
   "execution_count": 417,
   "id": "32d995d3-9c6a-4ad2-972a-4ca2de68c8b6",
   "metadata": {},
   "outputs": [],
   "source": [
    "for p in parameters:\n",
    "    p.requires_grad = True"
   ]
  },
  {
   "cell_type": "code",
   "execution_count": 291,
   "id": "f45ed659-a1c0-4a9f-9b2f-f6dc36aca990",
   "metadata": {},
   "outputs": [],
   "source": [
    "# If we pass a very positive number, we will run out of range\n",
    "# Any offset produces the same probability. PyTorch will subtract the highest number because normalization works"
   ]
  },
  {
   "cell_type": "code",
   "execution_count": 414,
   "id": "352b422d-4617-4285-8202-c7a0570eb991",
   "metadata": {
    "scrolled": true
   },
   "outputs": [],
   "source": [
    "# lre = torch.linspace(-3, 0, 1000)\n",
    "# lrs = 10 ** lre"
   ]
  },
  {
   "cell_type": "code",
   "execution_count": 304,
   "id": "c79b40e9-3ce6-418e-9b4f-0ea4782324f7",
   "metadata": {},
   "outputs": [],
   "source": [
    "# The gradient of a batch is less reliable - but it is still useful - better to have an approx gradient and take a somewhat accurate step\n",
    "# How to determine a reasonable learning rate? \n",
    "# As the capacity / parameters grows, the network becomes more capable of overfitting\n",
    "# You don't want the model to memorize the dataset\n",
    "# Training split, dev/validation split, and test split\n",
    "# Dev/validation are used for development of hyperparameters of the model\n",
    "# Training is used to train the parameters\n",
    "# Test is used to evaluate the model performance (cannot test on it a lot)\n",
    "# 80%, 10%, 10%\n",
    "# In production, you would create hyperparameters and run lots of experiments on which ones are working well"
   ]
  },
  {
   "cell_type": "code",
   "execution_count": 419,
   "id": "50488b4e-c26d-47b4-9b90-1ae9b96c68b1",
   "metadata": {},
   "outputs": [],
   "source": [
    "lri = []\n",
    "lossi = []\n",
    "stepi = []"
   ]
  },
  {
   "cell_type": "code",
   "execution_count": 433,
   "id": "4761dca1-c539-4d3c-8254-5db24ffa88fa",
   "metadata": {
    "scrolled": true
   },
   "outputs": [
    {
     "name": "stdout",
     "output_type": "stream",
     "text": [
      "1.963691234588623\n"
     ]
    }
   ],
   "source": [
    "for i in range(200000):\n",
    "    # Mini-batch\n",
    "    ix = torch.randint(0, Xtr.shape[0], (32,))\n",
    "    \n",
    "    # Forward pass\n",
    "    emb = C[Xtr[ix]]\n",
    "    h = torch.tanh(emb.view(-1, 30) @ W1 + b1) # (32, 100)\n",
    "    logits = h @ W2 + b2 # (32, 27)\n",
    "    # counts = logits.exp()\n",
    "    # prob = counts/counts.sum(1, keepdims = True)\n",
    "    # loss = -prob[torch.arange(32), Y].log().mean()\n",
    "    loss = F.cross_entropy(logits, Ytr[ix])\n",
    "    # print(loss.item())\n",
    "\n",
    "    # Backward pass\n",
    "    for p in parameters:\n",
    "        p.grad = None\n",
    "    loss.backward()\n",
    "    \n",
    "    # Update paramaters\n",
    "    # lr = lrs[i]\n",
    "    lr = 0.1 if i < 100000 else 0.01\n",
    "    for p in parameters:\n",
    "        p.data += -lr * p.grad\n",
    "\n",
    "    # Track stas\n",
    "    # lri.append(lre[i])\n",
    "    stepi.append(i)\n",
    "    lossi.append(loss.log10().item())\n",
    "print(loss.item())\n"
   ]
  },
  {
   "cell_type": "code",
   "execution_count": 434,
   "id": "220fa167-aec5-46d8-ba8a-1b4e96e55380",
   "metadata": {},
   "outputs": [
    {
     "data": {
      "text/plain": [
       "[<matplotlib.lines.Line2D at 0x1513c1a90>]"
      ]
     },
     "execution_count": 434,
     "metadata": {},
     "output_type": "execute_result"
    },
    {
     "data": {
      "image/png": "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",
      "text/plain": [
       "<Figure size 640x480 with 1 Axes>"
      ]
     },
     "metadata": {},
     "output_type": "display_data"
    }
   ],
   "source": [
    "plt.plot(stepi, lossi)"
   ]
  },
  {
   "cell_type": "code",
   "execution_count": 394,
   "id": "6ece59e3-c95e-487f-886d-ee3f2e4d6009",
   "metadata": {},
   "outputs": [],
   "source": [
    "# plt.plot(lri, lossi)"
   ]
  },
  {
   "cell_type": "code",
   "execution_count": 409,
   "id": "b4ee7e52-a5e3-4ec5-af14-fd4b9d15b134",
   "metadata": {},
   "outputs": [],
   "source": [
    "# logits.max(1)"
   ]
  },
  {
   "cell_type": "code",
   "execution_count": 408,
   "id": "b2f5b483-5fe2-4a51-a5eb-1d4d78dbf4e8",
   "metadata": {},
   "outputs": [],
   "source": [
    "# Y"
   ]
  },
  {
   "cell_type": "code",
   "execution_count": 406,
   "id": "b16e06ec-c3c3-4b2b-8833-7067c3649a3c",
   "metadata": {},
   "outputs": [],
   "source": [
    "# torch.randint(0, X.shape[0], (32,))"
   ]
  },
  {
   "cell_type": "code",
   "execution_count": 437,
   "id": "472749c9-7b1e-4302-95aa-c98dadba83c5",
   "metadata": {},
   "outputs": [
    {
     "data": {
      "text/plain": [
       "tensor(2.0882, grad_fn=<NllLossBackward0>)"
      ]
     },
     "execution_count": 437,
     "metadata": {},
     "output_type": "execute_result"
    }
   ],
   "source": [
    "emb = C[Xtr]\n",
    "h = torch.tanh(emb.view(-1,30) @ W1 + b1)\n",
    "logits = h @ W2 + b2\n",
    "loss = F.cross_entropy(logits, Ytr)\n",
    "loss"
   ]
  },
  {
   "cell_type": "code",
   "execution_count": 438,
   "id": "c4172e91-0c61-4f82-adeb-6eabbfb6fabe",
   "metadata": {},
   "outputs": [
    {
     "data": {
      "text/plain": [
       "tensor(2.1563, grad_fn=<NllLossBackward0>)"
      ]
     },
     "execution_count": 438,
     "metadata": {},
     "output_type": "execute_result"
    }
   ],
   "source": [
    "emb = C[Xdev]\n",
    "h = torch.tanh(emb.view(-1,30) @ W1 + b1)\n",
    "logits = h @ W2 + b2\n",
    "loss = F.cross_entropy(logits, Ydev)\n",
    "loss"
   ]
  },
  {
   "cell_type": "code",
   "execution_count": 436,
   "id": "d04d68b2-ab9b-4c08-af95-78a4854f6e63",
   "metadata": {},
   "outputs": [
    {
     "data": {
      "image/png": "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",
      "text/plain": [
       "<Figure size 800x800 with 1 Axes>"
      ]
     },
     "metadata": {},
     "output_type": "display_data"
    }
   ],
   "source": [
    "plt.figure(figsize = (8,8))\n",
    "plt.scatter(C[:,0].data, C[:,1].data, s = 200)\n",
    "for i in range (C.shape[0]):\n",
    "    plt.text(C[i,0].item(), C[i,1].item(), itos[i], ha = \"center\", va = \"center\", color = 'white')\n",
    "plt.grid('minor')\n",
    "\n",
    "# Vowels are close to eachother - network thinks they are similar\n",
    "# Points such as q are far away - special embedding vector"
   ]
  },
  {
   "cell_type": "code",
   "execution_count": 442,
   "id": "eaa35c12-bb82-462a-a822-c64fd893e72b",
   "metadata": {},
   "outputs": [
    {
     "name": "stdout",
     "output_type": "stream",
     "text": [
      "kalija.\n",
      "marria.\n",
      "tavianya.\n",
      "allandis.\n",
      "siden.\n",
      "addealynn.\n",
      "rantheatiuma.\n",
      "bore.\n",
      "kyrah.\n",
      "saydin.\n",
      "atamiiah.\n",
      "nefi.\n",
      "rafwon.\n",
      "kalia.\n",
      "amaireyfinnleya.\n",
      "marsh.\n",
      "deynn.\n",
      "jameretfia.\n",
      "zyn.\n",
      "hora.\n"
     ]
    }
   ],
   "source": [
    "# Sample from the model\n",
    "\n",
    "for _ in range (20):\n",
    "    out = []\n",
    "    # List of three zeros\n",
    "    context = [0] * block_size\n",
    "    while True:\n",
    "        # Embed current context using embedding table\n",
    "        emb = C[torch.tensor([context])] # (1, block_size, d)\n",
    "        h = torch.tanh(emb.view(1, -1) @ W1 + b1)\n",
    "        logits = h @ W2 + b2\n",
    "        probs = F.softmax(logits, dim = 1)\n",
    "        # Sample from our probabilities\n",
    "        ix = torch.multinomial(probs, num_samples = 1, generator = g).item()\n",
    "        # Shift context window, and record it\n",
    "        context = context[1:] + [ix]\n",
    "        out.append(ix)\n",
    "        if ix == 0:\n",
    "            break\n",
    "    print(''.join(itos[i] for i in out))"
   ]
  },
  {
   "cell_type": "code",
   "execution_count": null,
   "id": "b23a240e-694b-4784-a0dc-cbfdd7d8e06e",
   "metadata": {},
   "outputs": [],
   "source": []
  }
 ],
 "metadata": {
  "kernelspec": {
   "display_name": "Python 3 (ipykernel)",
   "language": "python",
   "name": "python3"
  },
  "language_info": {
   "codemirror_mode": {
    "name": "ipython",
    "version": 3
   },
   "file_extension": ".py",
   "mimetype": "text/x-python",
   "name": "python",
   "nbconvert_exporter": "python",
   "pygments_lexer": "ipython3",
   "version": "3.12.2"
  }
 },
 "nbformat": 4,
 "nbformat_minor": 5
}
>>>>>>> old-repo/main

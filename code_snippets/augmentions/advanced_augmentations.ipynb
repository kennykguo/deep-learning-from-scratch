{
 "cells": [
  {
   "cell_type": "code",
   "execution_count": null,
   "metadata": {},
   "outputs": [],
   "source": [
    "# Create a STL10 dataset by inheriting Pytorch's exisitng STL10 \n",
    "# and re-defining the __getitem__ method\n",
    "class RotateSTL10(datasets.STL10):\n",
    "    # Define a list of different angles to roate the image by\n",
    "    all_perms = [0, 45, 90, 135, 180, 225, 270]\n",
    "    \n",
    "    def __getitem__(self, index):\n",
    "            # Select image using index\n",
    "            img = self.data[index]\n",
    "            \n",
    "            # doing this so that it is consistent with all other datasets\n",
    "            # to return a PIL Image\n",
    "            img = Image.fromarray(np.transpose(img, (1, 2, 0)))\n",
    "            \n",
    "            # Randomly select an angle from the list to rotate the image by\n",
    "            rand_int = random.randint(0, len(self.all_perms) - 1)\n",
    "            img = FT.rotate(img, angle=self.all_perms[rand_int])\n",
    "\n",
    "            # Add additional transforms\n",
    "            if self.transform is not None:\n",
    "                img = self.transform(img)\n",
    "\n",
    "            # Return roated image and the index of the selected angle\n",
    "            return img, rand_int"
   ]
  },
  {
   "cell_type": "code",
   "execution_count": null,
   "metadata": {},
   "outputs": [],
   "source": [
    "# Create a STL10 dataset by inheriting Pytorch's exisitng STL10 \n",
    "# and re-defining the __getitem__ method\n",
    "class ShuffleSTL10(datasets.STL10):\n",
    "    \n",
    "    # Define the hight and width of the \"puzzle\" grid !\n",
    "    puzzle_size = 3\n",
    "    # Set the maximum number of permutations\n",
    "    max_perms = 100\n",
    "    \n",
    "    # Determine all possible permutations of the puzzle pieces\n",
    "    iter_array = itertools.permutations(np.arange(puzzle_size**2))\n",
    "    all_perms = []\n",
    "    for arr in iter_array:\n",
    "        all_perms.append(torch.tensor([arr]))\n",
    "        \n",
    "        if len(all_perms) == max_perms:\n",
    "            break\n",
    "\n",
    "    def __getitem__(self, index):\n",
    "            # Select image using index\n",
    "            img = self.data[index]\n",
    "            \n",
    "            # doing this so that it is consistent with all other datasets\n",
    "            # to return a PIL Image\n",
    "            img = Image.fromarray(np.transpose(img, (1, 2, 0)))\n",
    "            if self.transform is not None:\n",
    "                img = self.transform(img)\n",
    "                \n",
    "            # Determine number of pixels per puzzel piece\n",
    "            img_size = img.shape[-1]\n",
    "            puzzle_sections = self.puzzle_size**2\n",
    "            \n",
    "            # Use Pytorch Shuffle and UnShuffle to move pieces around\n",
    "            unshuffle = nn.PixelUnshuffle(img_size//self.puzzle_size)\n",
    "            shuffle = nn.PixelShuffle(img_size//self.puzzle_size)\n",
    "            \n",
    "            # Randomly select one permutation of the puzzle\n",
    "            rand_int = random.randint(0, len(self.all_perms) - 1)\n",
    "            perm = self.all_perms[rand_int]\n",
    "            \n",
    "            # Shuffle the puzzle pieces\n",
    "            img_out = unshuffle(img.unsqueeze(0))\n",
    "            img_out = img_out.reshape(1, img.shape[0], -1, puzzle_sections)\n",
    "            img_out = shuffle(img_out[:, :, :, perm].reshape(1, -1, \n",
    "                                                                  self.puzzle_size, \n",
    "                                                                  self.puzzle_size))\n",
    "\n",
    "            return img_out.squeeze(0), rand_int"
   ]
  },
  {
   "cell_type": "code",
   "execution_count": null,
   "metadata": {
    "colab": {},
    "colab_type": "code",
    "id": "keIwAFK-PMTG"
   },
   "outputs": [],
   "source": [
    "transform = transforms.Compose([transforms.Resize(image_size),\n",
    "                                transforms.ToTensor(),\n",
    "                                transforms.Normalize(mean=[0.485, 0.456, 0.406],\n",
    "                                                     std=[0.229, 0.224, 0.225])])"
   ]
  }
 ],
 "metadata": {
  "accelerator": "GPU",
  "colab": {
   "collapsed_sections": [],
   "name": "ResNet18_STL10.ipynb",
   "provenance": []
  },
  "kernelspec": {
   "display_name": "Python 3 (ipykernel)",
   "language": "python",
   "name": "python3"
  },
  "language_info": {
   "codemirror_mode": {
    "name": "ipython",
    "version": 3
   },
   "file_extension": ".py",
   "mimetype": "text/x-python",
   "name": "python",
   "nbconvert_exporter": "python",
   "pygments_lexer": "ipython3",
   "version": "3.10.12"
  }
 },
 "nbformat": 4,
 "nbformat_minor": 4
}
